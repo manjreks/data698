{
 "cells": [
  {
   "cell_type": "code",
   "execution_count": 45,
   "metadata": {},
   "outputs": [],
   "source": [
    "import nltk\n",
    "from nltk.corpus import stopwords\n",
    "from nltk.cluster.util import cosine_distance\n",
    "from nltk import sent_tokenize\n",
    "import numpy as np\n",
    "import networkx as nx"
   ]
  },
  {
   "cell_type": "code",
   "execution_count": 46,
   "metadata": {},
   "outputs": [],
   "source": [
    "def read_article(file_name):\n",
    "    file = open(file_name, \"r\")\n",
    "    filedata = file.readlines()\n",
    "    article = filedata[0].split(\". \")\n",
    "    #print(article)\n",
    "    sentences = []\n",
    "\n",
    "    for sentence in article:\n",
    "        print(sentence)\n",
    "        sentences.append(sentence.replace(\"[^a-zA-Z]\", \" \").split(\" \"))\n",
    "    sentences.pop() \n",
    "    \n",
    "    return sentences"
   ]
  },
  {
   "cell_type": "code",
   "execution_count": 47,
   "metadata": {},
   "outputs": [],
   "source": [
    "def sentence_similarity(sent1, sent2, stopwords=None):\n",
    "    if stopwords is None:\n",
    "        stopwords = []\n",
    " \n",
    "    sent1 = [w.lower() for w in sent1]\n",
    "    sent2 = [w.lower() for w in sent2]\n",
    " \n",
    "    all_words = list(set(sent1 + sent2))\n",
    " \n",
    "    vector1 = [0] * len(all_words)\n",
    "    vector2 = [0] * len(all_words)\n",
    " \n",
    "    # build the vector for the first sentence\n",
    "    for w in sent1:\n",
    "        if w in stopwords:\n",
    "            continue\n",
    "        vector1[all_words.index(w)] += 1\n",
    " \n",
    "    # build the vector for the second sentence\n",
    "    for w in sent2:\n",
    "        if w in stopwords:\n",
    "            continue\n",
    "        vector2[all_words.index(w)] += 1\n",
    " \n",
    "    return 1 - cosine_distance(vector1, vector2)"
   ]
  },
  {
   "cell_type": "code",
   "execution_count": 48,
   "metadata": {},
   "outputs": [],
   "source": [
    "def build_similarity_matrix(sentences, stop_words):\n",
    "    # Create an empty similarity matrix\n",
    "    similarity_matrix = np.zeros((len(sentences), len(sentences)))\n",
    " \n",
    "    for idx1 in range(len(sentences)):\n",
    "        for idx2 in range(len(sentences)):\n",
    "            if idx1 == idx2: #ignore if both are same sentences\n",
    "                continue \n",
    "            similarity_matrix[idx1][idx2] = sentence_similarity(sentences[idx1], sentences[idx2], stop_words)\n",
    "\n",
    "    return similarity_matrix"
   ]
  },
  {
   "cell_type": "code",
   "execution_count": 49,
   "metadata": {},
   "outputs": [],
   "source": [
    "from sumeval.metrics.rouge import RougeCalculator\n",
    "from sumeval.metrics.bleu import BLEUCalculator\n",
    "\n",
    "def eval_rouges(refrence_summary,model_summary):\n",
    "    rouge = RougeCalculator(stopwords=True, lang=\"en\")\n",
    "\n",
    "    rouge_1 = rouge.rouge_n(\n",
    "                summary=model_summary,\n",
    "                references=refrence_summary,\n",
    "                n=1)\n",
    "    print(\"rogue1 \"+str(rouge_1))\n",
    "\n",
    "    rouge_2 = rouge.rouge_n(\n",
    "                summary=model_summary,\n",
    "                references=[refrence_summary],\n",
    "                n=2)\n",
    "    print(\"rogue2 \"+str(rouge_2))\n",
    "\n",
    "    rouge_l = rouge.rouge_l(\n",
    "                summary=model_summary,\n",
    "                references=[refrence_summary])\n",
    "    print(\"roguel \"+str(rouge_l))\n",
    "\n",
    "    \n",
    "    # You need spaCy to calculate ROUGE-BE\n",
    "    \n",
    "    #rouge_be = rouge.rouge_be(\n",
    "    #            summary=model_summary,\n",
    "    #            references=[refrence_summary])\n",
    "    #print(\"rogue_be \"+str(rouge_be))\n",
    "\n",
    "\n",
    "    bleu = BLEUCalculator()\n",
    "    bleu_score = bleu.bleu( summary=model_summary,\n",
    "                        references=[refrence_summary])\n",
    "    \n",
    "    print(\"blue_score \"+str(bleu_score))\n",
    "    \n",
    "    return rouge_1, rouge_2,rouge_l,bleu_score"
   ]
  },
  {
   "cell_type": "code",
   "execution_count": 58,
   "metadata": {},
   "outputs": [],
   "source": [
    "def generate_summary(filename, top_n=2):\n",
    "    nltk.download(\"stopwords\")\n",
    "    stop_words = stopwords.words('english')\n",
    "    summarize_text = []\n",
    "\n",
    "    # Step 1 - Read text anc split it\n",
    "    sentences =  read_article(filename)\n",
    "    #print(\"after getting sentences\")\n",
    "    #print(sentences)\n",
    "\n",
    "    # Step 2 - Generate Similary Martix across sentences\n",
    "    sentence_similarity_martix = build_similarity_matrix(sentences, stop_words)\n",
    "\n",
    "    # Step 3 - Rank sentences in similarity martix\n",
    "    sentence_similarity_graph = nx.from_numpy_array(sentence_similarity_martix)\n",
    "    scores = nx.pagerank(sentence_similarity_graph)\n",
    "\n",
    "    # Step 4 - Sort the rank and pick top sentences\n",
    "    ranked_sentence = sorted(((scores[i],s) for i,s in enumerate(sentences)), reverse=True)    \n",
    "    #print(\"Indexes of top ranked_sentence order are \", ranked_sentence)    \n",
    "\n",
    "    for i in range(top_n):\n",
    "      summarize_text.append(\" \".join(ranked_sentence[i][1]))\n",
    "\n",
    "    # Step 5 - Offcourse, output the summarize texr\n",
    "    print(\"Summarize Text: \\n\", \". \".join(summarize_text))\n",
    "    sum_text = \".\".join(summarize_text)\n",
    "    return sum_text\n"
   ]
  },
  {
   "cell_type": "code",
   "execution_count": 59,
   "metadata": {},
   "outputs": [
    {
     "name": "stdout",
     "output_type": "stream",
     "text": [
      "usain bolt rounded off the world championships sunday by claiming his third gold in moscow as he anchored jamaica to victory in the men is 4x100m relay\n",
      "the fastest man in the world charged clear of united states rival justin gatlin as the jamaican quartet of nesta carter, kemar bailey cole, nickel ashmeade and bolt won in 37.36 seconds\n",
      "the u.s finished second in 37.56 seconds with canada taking the bronze after britain were disqualified for a faulty handover\n",
      "the 26 year old bolt has now collected eight gold medals at world championships, equaling the record held by american trio carl lewis, michael johnson and allyson felix, not to mention the small matter of six olympic titles\n",
      "the relay triumph followed individual successes in the 100 and 200 meters in the russian capital\n",
      "i am proud of myself and i will continue to work to dominate for as long as possible, bolt said, having previously expressed his intention to carry on until the 2016 rio olympics\n",
      "victory was never seriously in doubt once he got the baton safely in hand from ashmeade, while gatlin and the united states third leg runner rakieem salaam had problems\n",
      "gatlin strayed out of his lane as he struggled to get full control of their baton and was never able to get on terms with bolt\n",
      "earlier, jamaica is women underlined their dominance in the sprint events by winning the 4x100m relay gold, anchored by shelly ann fraser pryce, who like bolt was completing a triple\n",
      "their quartet recorded a championship record of 41.29 seconds, well clear of france, who crossed the line in second place in 42.73 seconds\n",
      "defending champions, the united states, were initially back in the bronze medal position after losing time on the second handover between alexandria anderson and english gardner, but promoted to silver when france were subsequently disqualified for an illegal handover\n",
      "the british quartet, who were initially fourth, were promoted to the bronze which eluded their men is team\n",
      "fraser pryce, like bolt aged 26, became the first woman to achieve three golds in the 100 200 and the relay\n",
      "in other final action on the last day of the championships, france is teddy tamgho became the third man to leap over 18m in the triple jump, exceeding the mark by four centimeters to take gold\n",
      "germany is christina obergfoll finally took gold at global level in the women is javelin after five previous silvers, while kenya is asbel kiprop easily won a tactical men is 1500m final\n",
      "kiprop is compatriot eunice jepkoech sum was a surprise winner of the women is 800m\n",
      "bolt is final dash for golden glory brought the eight day championship to a rousing finale, but while the hosts topped the medal table from the united states there was criticism of the poor attendances in the luzhniki stadium\n",
      "there was further concern when their pole vault gold medalist yelena isinbayeva made controversial remarks in support of russia is new laws, which make the propagandizing of non traditional sexual relations among minors a criminal offense\n",
      "she later attempted to clarify her comments, but there were renewed calls by gay rights groups for a boycott of the 2014 winter games in sochi, the next major sports event in russia.\n",
      "Summarize Text: \n",
      " usain bolt rounded off the world championships sunday by claiming his third gold in moscow as he anchored jamaica to victory in the men is 4x100m relay. earlier, jamaica is women underlined their dominance in the sprint events by winning the 4x100m relay gold, anchored by shelly ann fraser pryce, who like bolt was completing a triple\n",
      "-----\n",
      "usain bolt rounded off the world championships sunday by claiming his third gold in moscow as he anchored jamaica to victory in the men is 4x100m relay.earlier, jamaica is women underlined their dominance in the sprint events by winning the 4x100m relay gold, anchored by shelly ann fraser pryce, who like bolt was completing a triple\n"
     ]
    },
    {
     "name": "stderr",
     "output_type": "stream",
     "text": [
      "[nltk_data] Downloading package stopwords to\n",
      "[nltk_data]     C:\\Users\\santo\\AppData\\Roaming\\nltk_data...\n",
      "[nltk_data]   Package stopwords is already up-to-date!\n"
     ]
    }
   ],
   "source": [
    "# let's begin\n",
    "#generate_summary( \"msft.txt\", 2)\n",
    "#generate_summary(\"cnn1.txt\" ,2)\n",
    "\n",
    "sum=generate_summary(\"cnn1.txt\",2)\n",
    "print(\"-----\")\n",
    "print(sum)\n"
   ]
  },
  {
   "cell_type": "code",
   "execution_count": 60,
   "metadata": {},
   "outputs": [
    {
     "name": "stdout",
     "output_type": "stream",
     "text": [
      "rogue1 0.5555555555555556\n",
      "rogue2 0.11538461538461539\n",
      "roguel 0.37037037037037035\n",
      "blue_score 1.7593613167407098\n"
     ]
    },
    {
     "data": {
      "text/plain": [
       "(0.5555555555555556,\n",
       " 0.11538461538461539,\n",
       " 0.37037037037037035,\n",
       " 1.7593613167407098)"
      ]
     },
     "execution_count": 60,
     "metadata": {},
     "output_type": "execute_result"
    }
   ],
   "source": [
    "ref_sum='usain bolt wins third gold of world championship anchors jamaica to 4x100m relay victory eighth gold at the championships for bolt jamaica double up in women is 4x100m relay'\n",
    "eval_rouges(ref_sum,sum)"
   ]
  },
  {
   "cell_type": "code",
   "execution_count": null,
   "metadata": {},
   "outputs": [],
   "source": []
  }
 ],
 "metadata": {
  "kernelspec": {
   "display_name": "Python 3",
   "language": "python",
   "name": "python3"
  },
  "language_info": {
   "codemirror_mode": {
    "name": "ipython",
    "version": 3
   },
   "file_extension": ".py",
   "mimetype": "text/x-python",
   "name": "python",
   "nbconvert_exporter": "python",
   "pygments_lexer": "ipython3",
   "version": "3.8.5"
  }
 },
 "nbformat": 4,
 "nbformat_minor": 4
}
