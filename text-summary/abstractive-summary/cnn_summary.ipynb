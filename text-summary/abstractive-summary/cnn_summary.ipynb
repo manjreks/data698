{
  "nbformat": 4,
  "nbformat_minor": 0,
  "metadata": {
    "accelerator": "GPU",
    "colab": {
      "name": "cnn_summary.ipynb",
      "provenance": [],
      "collapsed_sections": [],
      "toc_visible": true,
      "machine_shape": "hm"
    },
    "kernelspec": {
      "display_name": "Python 3",
      "language": "python",
      "name": "python3"
    },
    "language_info": {
      "codemirror_mode": {
        "name": "ipython",
        "version": 3
      },
      "file_extension": ".py",
      "mimetype": "text/x-python",
      "name": "python",
      "nbconvert_exporter": "python",
      "pygments_lexer": "ipython3",
      "version": "3.7.4"
    }
  },
  "cells": [
    {
      "cell_type": "code",
      "metadata": {
        "colab": {
          "base_uri": "https://localhost:8080/"
        },
        "id": "s2OUklEf5Byo",
        "outputId": "e25311d0-ae6c-4d50-fd51-6fe8d000133b"
      },
      "source": [
        "from google.colab import drive\n",
        "drive.mount('/content/drive')"
      ],
      "execution_count": null,
      "outputs": [
        {
          "output_type": "stream",
          "text": [
            "Mounted at /content/drive\n"
          ],
          "name": "stdout"
        }
      ]
    },
    {
      "cell_type": "code",
      "metadata": {
        "id": "S-Kkwv7b7hDi"
      },
      "source": [
        "import sys\n",
        "sys.path.insert(0,'/content/drive/My Drive')"
      ],
      "execution_count": null,
      "outputs": []
    },
    {
      "cell_type": "code",
      "metadata": {
        "colab": {
          "base_uri": "https://localhost:8080/"
        },
        "id": "AJR8bl2_rEul",
        "outputId": "561b0bee-a57d-4b11-95ac-58412ebb41a3"
      },
      "source": [
        "import numpy as np\n",
        "import pandas as pd \n",
        "import re\n",
        "from keras.preprocessing.text import Tokenizer \n",
        "from nltk import download\n",
        "download('stopwords')\n",
        "from nltk.corpus import stopwords\n",
        "from tensorflow.keras.layers import Input, LSTM, Embedding, Dense, Concatenate, TimeDistributed\n",
        "from tensorflow.keras.models import Model\n",
        "from tensorflow.keras.callbacks import EarlyStopping\n",
        "import warnings\n",
        "from attention import AttentionLayer\n",
        "pd.set_option(\"display.max_colwidth\", 200)\n",
        "warnings.filterwarnings(\"ignore\")"
      ],
      "execution_count": null,
      "outputs": [
        {
          "output_type": "stream",
          "text": [
            "[nltk_data] Downloading package stopwords to /root/nltk_data...\n",
            "[nltk_data]   Package stopwords is already up-to-date!\n"
          ],
          "name": "stdout"
        }
      ]
    },
    {
      "cell_type": "code",
      "metadata": {
        "colab": {
          "base_uri": "https://localhost:8080/"
        },
        "id": "46G6F2DdrEux",
        "outputId": "74559039-a0e3-4b09-b3db-2c88c20b94d4"
      },
      "source": [
        "#reviews = pd.read_csv(\"drive/My Drive/Application/text_summary/news_summary.csv\")\n",
        "reviews = pd.read_csv(\"drive/My Drive/cnn/cnn_summary_cleaned.csv\")\n",
        "print(reviews.shape)\n",
        "df_5=reviews.head(5)"
      ],
      "execution_count": null,
      "outputs": [
        {
          "output_type": "stream",
          "text": [
            "(92579, 2)\n"
          ],
          "name": "stdout"
        }
      ]
    },
    {
      "cell_type": "code",
      "metadata": {
        "id": "7NIE_-_cJaYD"
      },
      "source": [
        "df_10= reviews.head(10)\n",
        "df_10.to_csv(\"drive/My Drive/cnn/cnn_10_stories.csv\")"
      ],
      "execution_count": null,
      "outputs": []
    },
    {
      "cell_type": "code",
      "metadata": {
        "colab": {
          "base_uri": "https://localhost:8080/"
        },
        "id": "HiAy3xbmrEvF",
        "outputId": "1ee627a0-52c4-43b8-ad50-ed25f6e19381"
      },
      "source": [
        "# Check for any nulls values\n",
        "reviews.isnull().sum()"
      ],
      "execution_count": null,
      "outputs": [
        {
          "output_type": "execute_result",
          "data": {
            "text/plain": [
              "text         0\n",
              "headlines    0\n",
              "dtype: int64"
            ]
          },
          "metadata": {
            "tags": []
          },
          "execution_count": 64
        }
      ]
    },
    {
      "cell_type": "code",
      "metadata": {
        "colab": {
          "base_uri": "https://localhost:8080/"
        },
        "id": "q_-ZGHXTrEvQ",
        "outputId": "3225c94a-c0d6-4b4f-9f58-69a76acc1456"
      },
      "source": [
        "# let's inspect some reviews\n",
        "for i in range(5):\n",
        "    print(\"Review: \",i+1)\n",
        "    print(reviews.headlines[i])\n",
        "    print('-'*80)\n",
        "    print(reviews.text[i])\n",
        "    print()"
      ],
      "execution_count": null,
      "outputs": [
        {
          "output_type": "stream",
          "text": [
            "Review:  1\n",
            " syrian official obama climbed to the top of the tree doesn not know how to get down obama sends a letter to the heads of the house and senate obama to seek congressional approval on military action against syria aim is to determine whether cw were used not by whom says u.n. spokesman \n",
            "--------------------------------------------------------------------------------\n",
            "it is official u.s. president barack obama wants lawmakers to weigh in on whether to use military force in syria. obama sent a letter to the heads of the house and senate on saturday night, hours after announcing that he believes military action against syrian targets is the right step to take over the alleged use of chemical weapons. the proposed legislation from obama asks congress to approve the use of military force to deter, disrupt, prevent and degrade the potential for future uses of chemical weapons or other weapons of mass destruction. it is a step that is set to turn an international crisis into a fierce domestic political battle. there are key questions looming over the debate what did u.n. weapons inspectors find in syria what happens if congress votes no and how will the syrian government react in a televised address from the white house rose garden earlier saturday, the president said he would take his case to congress, not because he has to but because he wants to. while i believe i have the authority to carry out this military action without specific congressional authorization, i know that the country will be stronger if we take this course, and our actions will be even more effective, he said. we should have this debate, because the issues are too big for business as usual. obama said top congressional leaders had agreed to schedule a debate when the body returns to washington on september 9. the senate foreign relations committee will hold a hearing over the matter on tuesday, sen. robert menendez said. transcript read obama is full remarks syrian crisis latest developments u.n. inspectors leave syria obama is remarks came shortly after u.n. inspectors left syria, carrying evidence that will determine whether chemical weapons were used in an attack early last week in a damascus suburb. the aim of the game here, the mandate, is very clear and that is to ascertain whether chemical weapons were used and not by whom, u.n. spokesman martin nesirky told reporters on saturday. but who used the weapons in the reported toxic gas attack in a damascus suburb on august 21 has been a key point of global debate over the syrian crisis. top u.s. officials have said there is no doubt that the syrian government was behind it, while syrian officials have denied responsibility and blamed jihadists fighting with the rebels. british and u.s. intelligence reports say the attack involved chemical weapons, but u.n. officials have stressed the importance of waiting for an official report from inspectors. the inspectors will share their findings with u.n. secretary general ban ki moon ban, who has said he wants to wait until the u.n. team is final report is completed before presenting it to the u.n. security council. the organization for the prohibition of chemical weapons, which nine of the inspectors belong to, said saturday that it could take up to three weeks to analyze the evidence they collected. it needs time to be able to analyze the information and the samples, nesirky said. he noted that ban has repeatedly said there is no alternative to a political solution to the crisis in syria, and that a military solution is not an option. bergen syria is a problem from hell for the u.s. obama this menace must be confronted obama is senior advisers have debated the next steps to take, and the president is comments saturday came amid mounting political pressure over the situation in syria. some u.s. lawmakers have called for immediate action while others warn of stepping into what could become a quagmire. some global leaders have expressed support, but the british parliament is vote against military action earlier this week was a blow to obama is hopes of getting strong backing from key nato allies. on saturday, obama proposed what he said would be a limited military action against syrian president bashar al assad. any military attack would not be open ended or include u.s. ground forces, he said. syria is alleged use of chemical weapons earlier this month is an assault on human dignity, the president said. a failure to respond with force, obama argued, could lead to escalating use of chemical weapons or their proliferation to terrorist groups who would do our people harm. in a world with many dangers, this menace must be confronted. syria missile strike what would happen next map u.s. and allied assets around syria obama decision came friday night on friday night, the president made a last minute decision to consult lawmakers. what will happen if they vote no it is unclear. a senior administration official told that obama has the authority to act without congress even if congress rejects his request for authorization to use force. obama on saturday continued to shore up support for a strike on the al assad government. he spoke by phone with french president francois hollande before his rose garden speech. the two leaders agreed that the international community must deliver a resolute message to the assad regime and others who would consider using chemical weapons that these crimes are unacceptable and those who violate this international norm will be held accountable by the world, the white house said. meanwhile, as uncertainty loomed over how congress would weigh in, u.s. military officials said they remained at the ready. 5 key assertions u.s. intelligence report on syria syria who wants what after chemical weapons horror reactions mixed to obama is speech a spokesman for the syrian national coalition said that the opposition group was disappointed by obama is announcement. our fear now is that the lack of action could embolden the regime and they repeat his attacks in a more serious way, said spokesman louay safi. so we are quite concerned. some members of congress applauded obama is decision. house speaker john boehner, majority leader eric cantor, majority whip kevin mccarthy and conference chair cathy mcmorris rodgers issued a statement saturday praising the president. under the constitution, the responsibility to declare war lies with congress, the republican lawmakers said. we are glad the president is seeking authorization for any military action in syria in response to serious, substantive questions being raised. more than 160 legislators, including 63 of obama is fellow democrats, had signed letters calling for either a vote or at least a full debate before any u.s. action. british prime minister david cameron, whose own attempt to get lawmakers in his country to support military action in syria failed earlier this week, responded to obama is speech in a twitter post saturday. i understand and support barack obama is position on syria, cameron said. an influential lawmaker in russia which has stood by syria and criticized the united states had his own theory. the main reason obama is turning to the congress the military operation did not get enough support either in the world, among allies of the us or in the united states itself, alexei pushkov, chairman of the international affairs committee of the russian state duma, said in a twitter post. in the united states, scattered groups of anti war protesters around the country took to the streets saturday. like many other americans...we are just tired of the united states getting involved and invading and bombing other countries, said robin rosecrans, who was among hundreds at a los angeles demonstration. what do syria is neighbors think why russia, china, iran stand by assad syria is government unfazed after obama is speech, a military and political analyst on syrian state tv said obama is embarrassed that russia opposes military action against syria, is crying for help for someone to come to his rescue and is facing two defeats on the political and military levels. syria is prime minister appeared unfazed by the saber rattling. the syrian army is status is on maximum readiness and fingers are on the trigger to confront all challenges, wael nader al halqi said during a meeting with a delegation of syrian expatriates from italy, according to a banner on syria state tv that was broadcast prior to obama is address. an anchor on syrian state television said obama appeared to be preparing for an aggression on syria based on repeated lies. a top syrian diplomat told the state television network that obama was facing pressure to take military action from israel, turkey, some arabs and right wing extremists in the united states. i think he has done well by doing what cameron did in terms of taking the issue to parliament, said bashar jaafari, syria is ambassador to the united nations. both obama and cameron, he said, climbed to the top of the tree and do not know how to get down. the syrian government has denied that it used chemical weapons in the august 21 attack, saying that jihadists fighting with the rebels used them in an effort to turn global sentiments against it. british intelligence had put the number of people killed in the attack at more than 350. on saturday, obama said all told, well over 1,000 people were murdered. u.s. secretary of state john kerry on friday cited a death toll of 1,429, more than 400 of them children. no explanation was offered for the discrepancy. iran u.s. military action in syria would spark wouldisaster opinion why strikes in syria are a bad idea \n",
            "\n",
            "Review:  2\n",
            " usain bolt wins third gold of world championship anchors jamaica to 4x100m relay victory eighth gold at the championships for bolt jamaica double up in women is 4x100m relay \n",
            "--------------------------------------------------------------------------------\n",
            " usain bolt rounded off the world championships sunday by claiming his third gold in moscow as he anchored jamaica to victory in the men is 4x100m relay. the fastest man in the world charged clear of united states rival justin gatlin as the jamaican quartet of nesta carter, kemar bailey cole, nickel ashmeade and bolt won in 37.36 seconds. the u.s finished second in 37.56 seconds with canada taking the bronze after britain were disqualified for a faulty handover. the 26 year old bolt has now collected eight gold medals at world championships, equaling the record held by american trio carl lewis, michael johnson and allyson felix, not to mention the small matter of six olympic titles. the relay triumph followed individual successes in the 100 and 200 meters in the russian capital. i am proud of myself and i will continue to work to dominate for as long as possible, bolt said, having previously expressed his intention to carry on until the 2016 rio olympics. victory was never seriously in doubt once he got the baton safely in hand from ashmeade, while gatlin and the united states third leg runner rakieem salaam had problems. gatlin strayed out of his lane as he struggled to get full control of their baton and was never able to get on terms with bolt. earlier, jamaica is women underlined their dominance in the sprint events by winning the 4x100m relay gold, anchored by shelly ann fraser pryce, who like bolt was completing a triple. their quartet recorded a championship record of 41.29 seconds, well clear of france, who crossed the line in second place in 42.73 seconds. defending champions, the united states, were initially back in the bronze medal position after losing time on the second handover between alexandria anderson and english gardner, but promoted to silver when france were subsequently disqualified for an illegal handover. the british quartet, who were initially fourth, were promoted to the bronze which eluded their men is team. fraser pryce, like bolt aged 26, became the first woman to achieve three golds in the 100 200 and the relay. in other final action on the last day of the championships, france is teddy tamgho became the third man to leap over 18m in the triple jump, exceeding the mark by four centimeters to take gold. germany is christina obergfoll finally took gold at global level in the women is javelin after five previous silvers, while kenya is asbel kiprop easily won a tactical men is 1500m final. kiprop is compatriot eunice jepkoech sum was a surprise winner of the women is 800m. bolt is final dash for golden glory brought the eight day championship to a rousing finale, but while the hosts topped the medal table from the united states there was criticism of the poor attendances in the luzhniki stadium. there was further concern when their pole vault gold medalist yelena isinbayeva made controversial remarks in support of russia is new laws, which make the propagandizing of non traditional sexual relations among minors a criminal offense. she later attempted to clarify her comments, but there were renewed calls by gay rights groups for a boycott of the 2014 winter games in sochi, the next major sports event in russia. \n",
            "\n",
            "Review:  3\n",
            " the employee in agency is kansas city office is among hundreds of virtual workers the employee is travel to and from the mainland u.s. last year cost more than 24 000 the telecommuting program like all gsa practices is under review \n",
            "--------------------------------------------------------------------------------\n",
            "kansas city, missouri the general services administration, already under investigation for lavish spending, allowed an employee to telecommute from hawaii even though he is based at the gsa is kansas city, missouri, office, a investigation has found. it cost more than 24,000 for the business development specialist to travel to and from the mainland united states over the past year. he is among several hundred gsa virtual workers who also travel to various conferences and their home offices, costing the agency millions of dollars over the past three years. under the program, employees work from home and may live in another state from the region in which they are actually assigned. the kansas city employee, who started his job in january 2011, is paid 84,440 and works from his home in honolulu, a gsa representative confirmed. in the past year, according to gsa travel records, the employee has flown back to the mainland nine times for conferences and meetings. four of those trips were to st. louis four were to washington, with a side trip to cincinnati and one was to san diego. the total cost to taxpayers was 24,221. jason klumb, the gsa is regional administrator for kansas city, defended the hire. the cost of that travel was included in the consideration of his candidacy as an employee as compared with the other applicants, klumb said. and when factoring all of those in, it was determined that he was the best candidate, even in light of the cost that would be incurred. klumb called the gsa is teleworking program a successful program that is going to lead to cost savings for taxpayers. but a gsa spokeswoman said, we are not going to defend this type of travel. and a gsa employee in kansas city, who requested anonymity, said that hiring someone in hawaii to work for the kansas city region was ludicrous. it does not make sense, the employee said. when you consider everything you need when you hire someone, it would have been better to look for someone in the kansas city area. it would have reduced the cost of travel by at least 70 percent when you look at just the airfare of what it takes to from honolulu to washington, d.c., where a lot of business is done. dan tangherlini, who was appointed acting gsa administrator this year, said the agency was examining the cost of the entire teleworking program. i think the most important part for the gsa to think about is make sure we open ourselves up, avail ourselves to all the smart people in the country, but then also make sure we have a clear business case, he said. if we have someone who is working in nebraska but reporting to boston, there has to be a clear explanation for what value they are providing, and you have got to give me the business case. you have got to explain to me why that is a cost effective move for the american people, and that is a new standard that we are asking everyone at gsa to adhere to. the gsa virtual employee program is different from telework programs offered by many private companies including is parent company, turner broadcasting, in which some employees are encouraged to work from home some days of the week, partially to reduce traffic congestion. the house committee on oversight and government reform requested details about the gsa is teleworking program in june. that followed disclosures that 95 virtual employees, including 12 in supervisory positions, spent nearly 750,000 in travel costs between october 2010 and june 2011. the american people have a right to know that federal bureaucrats who enjoy the benefits of virtual work are eligible and responsible stewards of the taxpayer dollars that support the program, according to a letter from committee chairman rep. darrell issa, r california, to the gsa. the details requested by issa about the gsa program have not been provided to the committee. also requested the information more than two months ago through the federal freedom of information act but has been repeatedly told by the gsa that foia staff members have not finished compiling the material. the general services administration, which has more than 12,600 employees and a 26.3 billion budget, is a relatively obscure federal agency that handles government real estate and other non military procurement. congress launched an investigation into the gsa after a scathing inspector general is report issued this year showed lavish spending 823,000 at the agency is western regions conference in las vegas in october 2010. the controversy became politically toxic after reports and video clips of the lavish conference were released. the revelation prompted taxpayer indignation, embarrassed the administration and put a spotlight on wasteful spending by the gsa. jeff neely, the gsa official who organized the conference, resigned, as did the agency is administrator, martha johnson. two of johnson is deputies were fired, and eight other employees left the agency. tangherlini, a former treasury department official, took over as acting gsa administrator. in addition to the las vegas conference, the gsa apparently spent 330,000 to relocate an employee from denver to hawaii and probably millions more on other employees over a two year period, according to a transcript of an interview with a gsa event planner. and 84 gsa employees, most of them supervisors or other senior staff all subjects of inspector general investigations are still collecting their bonuses, totaling more than 1 million in taxpayer money. in july, a investigation revealed that the gsa is kansas city office spent more than 20,000 to send employees to cooking classes to build team spirit. while the classes do not amount to a significant sum of money in the world of trillion dollar government budgets, insiders said it was part of the free spending culture that went on for years at the gsa is kansas city regional headquarters. gsa spokeswoman betsaida alcantara said in a statement this year that all the agency is practices are under a top down review. is sara anwar, elizabeth m. nunez and tom cohen contributed to this report. watch erin burnett weekdays 7pm et. for the latest from erin burnett click here. \n",
            "\n",
            "Review:  4\n",
            " new a canadian doctor says she was part of a team examining harry burkhart in 2010 new diagnosis autism severe anxiety post traumatic stress disorder and depression burkhart is also suspected in a german arson probe officials say prosecutors believe the german national set a string of fires in los angeles \n",
            "--------------------------------------------------------------------------------\n",
            "los angeles a medical doctor in vancouver, british columbia, said thursday that california arson suspect harry burkhart suffered from severe mental illness in 2010, when she examined him as part of a team of doctors. dr. blaga stancheva, a family physician and specialist in obstetrics, said both burkhart and his mother, dorothee, were her patients in vancouver while both were applying for refugee status in canada. i was asked to diagnose and treat harry to support a claim explaining why he was unable to show up in a small claims court case, stancheva told in a phone interview. she declined to cite the case or burkhart is role in it. stancheva said she and other doctors including a psychiatrist diagnosed burkhart with autism, severe anxiety, post traumatic stress disorder and depression. the diagnosis was spelled out in a letter she wrote for the small claims court case, stancheva said. stancheva, citing doctor patient confidentiality, would not elaborate further, nor would she identify the psychiatrist involved in the diagnosis. burkhart, a 24 year old german national, has been charged with 37 counts of arson following a string of 52 fires in los angeles. the charges are in connection with arson fires at 12 locations scattered through hollywood, west hollywood and sherman oaks, according to authorities. stancheva said the refugee applications by burkhart and his mother were denied by the canadian government, and she has not seen burkhart since early march of 2010. i was shocked and dismayed at what happened in los angeles, and it appears he was not being treated for his depression, she said. burkhart was in court on wednesday for a preliminary hearing. prosecutors said his rage against americans, triggered by his mother is arrest last week, motivated his campaign of terror with dozens of fires in hollywood and nearby communities. burkhart kept his eyes closed and remained limp during most of his hearing, requiring sheriff is deputies to hold him up. the district attorney called his courtroom behavior very bizarre. this defendant has engaged in a protracted campaign in which he has set, the people believe, upwards of 52 arson fires in what essentially amounts to a campaign of terror against this community, los angeles county deputy district attorney sean carney said. the people believe he has engaged in this conduct because he has a hatred for americans. carney told the court burkhart would flee the country if he was allowed out of jail on bond, but los angeles superior court judge upinder kalra said he had no choice but to set bail. to go free while awaiting trial, burkhart must post a 2.85 million bond and surrender his german passport. it was revealed that burkhart is also under investigation for arson and fraud in relation to a fire in neukirchen, near frankfurt, germany. the worst arson sprees in the city is history began last friday morning with a car fire in hollywood that spread to apartments above a garage, but no new fires have happened since burkhart was arrested monday, los angeles district attorney steve cooley said. no one was hurt in the fires, but property damage costs are likely to reach 3 million, authorities said. cooley called it almost attempted murder, because people were sleeping in apartments above where burkhart allegedly set cars on fire with incendiary devices placed under their engines. the criminal complaint filed wednesday also alleged that the fires were caused by use of a device designed to accelerate the fire, cooley said. if found true, the allegation could mean additional custody time for the defendant. in numerous instances, the cars were parked in carports, resulting in the fires spreading to the adjacent occupied apartment buildings, a sworn affidavit from a los angeles arson investigator said. the vast majority of these fires occurred late at night when the occupants of the apartment buildings were asleep. investigator edward nordskog is affidavit detailed burkhart is behavior a day before the fires began, when he was in a federal courtroom during extradition proceedings for his mother. while in the audience, the defendant burkhart began yelling in an angry manner, f k all americans. the defendant also attempted to communicate with his mother who was in custody. shortly thereafter, the defendant was ejected from the courtroom by deputy u.s. marshals, nordskog wrote. dorothee burkhart was arrested a day before on an international arrest warrant issued by a district court in frankfurt, germany, said federal court spokesman gunther meilinger. the 53 year old german woman is wanted on 16 counts of fraud and three counts of embezzlement, he said. the charges include an allegation that she failed to pay for a breast enhancement operation performed on her in 2004, meilinger said. most of the german charges, however, stem from phony real estate deals that dorothee burkhart allegedly conducted between 2000 and 2006. it is my opinion that the defendant is criminal spree was motivated by his rage against americans and that by setting these fires the defendant intended to harm and terrorize as many residents of the city and county of los angeles as possible, nordskog wrote. a search of burkhart is hollywood apartment found newspaper clippings about the los angeles fires and articles from germany reporting similar car fires in frankfurt, germany in september, 2011, the investigator said. it is my opinion based on my experience that it is highly likely the defendant has a history of setting arson fires in germany before he came to the united states, nordskog wrote. burkhart is mother is scheduled for another extradition hearing friday, while he is due back in court for arraignment on january 24. meanwhile, both burkharts are housed in a los angeles jail. \n",
            "\n",
            "Review:  5\n",
            " another arrest made in gang rape outside california school investigators say up to 20 people took part or stood and watched the assault four suspects appeared in court thursday three wore bulletproof vests \n",
            "--------------------------------------------------------------------------------\n",
            " police arrested another teen thursday, the sixth suspect jailed in connection with the gang rape of a 15 year old girl on a northern california high school campus. jose carlos montano, 18, was arrested on charges of felony rape, rape in concert with force, and penetration with a foreign object, said richmond police lt. mark gagan. montano was arrested thursday evening in san pablo, california, a small town about two miles from the city of richmond, where the crime took place. montano, who was held in lieu of 1.3 million bail, is accused of taking part in what police said was a 2 hour assault on the richmond high school campus. police said as many as 10 people were involved in the rape in a dimly lit back alley at the school, while another 10 people watched without calling 911. the victim was taken to the hospital in critical condition, but was released wednesday. four other teenage suspects were arraigned thursday on charges connected to the rape. cody ray smith, described by the court as older than 14, pleaded not guilty to charges of rape with a foreign object and rape by force. two other juveniles, ari abdallah morales and marcelles james peter, appeared with smith at the contra costa county superior court, but did not enter a plea. the court described morales as younger than 16, and did not give an age for peter. all three juveniles, who wore bulletproof vests at the hearing, were charged as adults. a fourth person, manuel ortega, 19, appeared separately without an attorney and did not enter a plea. he did not wear a protective vest. another person, salvador rodriguez, 21, was arrested tuesday night, but he was not in court thursday. \n",
            "\n"
          ],
          "name": "stdout"
        }
      ]
    },
    {
      "cell_type": "markdown",
      "metadata": {
        "id": "NOMNlPFErEva"
      },
      "source": [
        "# Lets cleaned datasets"
      ]
    },
    {
      "cell_type": "code",
      "metadata": {
        "id": "O_nWlhzXrEvc"
      },
      "source": [
        "CURRENCIES = {\n",
        "    \"$\": \"USD\", \"zł\": \"PLN\", \"£\": \"GBP\", \"¥\": \"JPY\", \"฿\": \"THB\", \"₡\": \"CRC\", \"₦\": \"NGN\",\"₩\": \"KRW\",\n",
        "    \"₪\": \"ILS\", \"₫\": \"VND\", \"€\": \"EUR\", \"₱\": \"PHP\", \"₲\": \"PYG\", \"₴\": \"UAH\", \"₹\": \"INR\",}\n",
        "CURRENCY_REGEX = re.compile(\n",
        "    \"({})+\".format(\"|\".join(re.escape(c) for c in CURRENCIES.keys())))\n",
        "\n",
        "EMAIL_REGEX = re.compile(\n",
        "    r\"(?:^|(?<=[^\\w@.)]))([\\w+-](\\.(?!\\.))?)*?[\\w+-]@(?:\\w-?)*?\\w+(\\.([a-z]{2,})){1,3}(?:$|(?=\\b))\",\n",
        "    flags=re.IGNORECASE | re.UNICODE,)\n",
        "\n",
        "# A list of contractions from http://stackoverflow.com/questions/19790188/expanding-english-language-contractions-in-python\n",
        "contractions =          {\"ain't\": \"is not\", \"aren't\": \"are not\",\"can't\": \"cannot\", \"'cause\": \"because\", \"could've\": \"could have\", \"couldn't\": \"could not\",\n",
        "                           \"didn't\": \"did not\",  \"doesn't\": \"does not\", \"don't\": \"do not\", \"hadn't\": \"had not\", \"hasn't\": \"has not\", \"haven't\": \"have not\",\n",
        "                           \"he'd\": \"he would\",\"he'll\": \"he will\", \"he's\": \"he is\", \"how'd\": \"how did\", \"how'd'y\": \"how do you\", \"how'll\": \"how will\", \"how's\": \"how is\",\n",
        "                           \"I'd\": \"I would\", \"I'd've\": \"I would have\", \"I'll\": \"I will\", \"I'll've\": \"I will have\",\"I'm\": \"I am\", \"I've\": \"I have\", \"i'd\": \"i would\",\n",
        "                           \"i'd've\": \"i would have\", \"i'll\": \"i will\",  \"i'll've\": \"i will have\",\"i'm\": \"i am\", \"i've\": \"i have\", \"isn't\": \"is not\", \"it'd\": \"it would\",\n",
        "                           \"it'd've\": \"it would have\", \"it'll\": \"it will\", \"it'll've\": \"it will have\",\"it's\": \"it is\", \"let's\": \"let us\", \"ma'am\": \"madam\",\n",
        "                           \"mayn't\": \"may not\", \"might've\": \"might have\",\"mightn't\": \"might not\",\"mightn't've\": \"might not have\", \"must've\": \"must have\",\n",
        "                           \"mustn't\": \"must not\", \"mustn't've\": \"must not have\", \"needn't\": \"need not\", \"needn't've\": \"need not have\",\"o'clock\": \"of the clock\",\n",
        "                           \"oughtn't\": \"ought not\", \"oughtn't've\": \"ought not have\", \"shan't\": \"shall not\", \"sha'n't\": \"shall not\", \"shan't've\": \"shall not have\",\n",
        "                           \"she'd\": \"she would\", \"she'd've\": \"she would have\", \"she'll\": \"she will\", \"she'll've\": \"she will have\", \"she's\": \"she is\",\n",
        "                           \"should've\": \"should have\", \"shouldn't\": \"should not\", \"shouldn't've\": \"should not have\", \"so've\": \"so have\",\"so's\": \"so as\",\n",
        "                           \"this's\": \"this is\",\"that'd\": \"that would\", \"that'd've\": \"that would have\", \"that's\": \"that is\", \"there'd\": \"there would\",\n",
        "                           \"there'd've\": \"there would have\", \"there's\": \"there is\", \"here's\": \"here is\",\"they'd\": \"they would\", \"they'd've\": \"they would have\",\n",
        "                           \"they'll\": \"they will\", \"they'll've\": \"they will have\", \"they're\": \"they are\", \"they've\": \"they have\", \"to've\": \"to have\",\n",
        "                           \"wasn't\": \"was not\", \"we'd\": \"we would\", \"we'd've\": \"we would have\", \"we'll\": \"we will\", \"we'll've\": \"we will have\", \"we're\": \"we are\",\n",
        "                           \"we've\": \"we have\", \"weren't\": \"were not\", \"what'll\": \"what will\", \"what'll've\": \"what will have\", \"what're\": \"what are\",\n",
        "                           \"what's\": \"what is\", \"what've\": \"what have\", \"when's\": \"when is\", \"when've\": \"when have\", \"where'd\": \"where did\", \"where's\": \"where is\",\n",
        "                           \"where've\": \"where have\", \"who'll\": \"who will\", \"who'll've\": \"who will have\", \"who's\": \"who is\", \"who've\": \"who have\",\n",
        "                           \"why's\": \"why is\", \"why've\": \"why have\", \"will've\": \"will have\", \"won't\": \"will not\", \"won't've\": \"will not have\",\n",
        "                           \"would've\": \"would have\", \"wouldn't\": \"would not\", \"wouldn't've\": \"would not have\", \"y'all\": \"you all\",\n",
        "                           \"y'all'd\": \"you all would\",\"y'all'd've\": \"you all would have\",\"y'all're\": \"you all are\",\"y'all've\": \"you all have\",\n",
        "                           \"you'd\": \"you would\", \"you'd've\": \"you would have\", \"you'll\": \"you will\", \"you'll've\": \"you will have\",\n",
        "                           \"you're\": \"you are\", \"you've\": \"you have\", \"i've\": \"i have\"}"
      ],
      "execution_count": null,
      "outputs": []
    },
    {
      "cell_type": "code",
      "metadata": {
        "id": "EDh48drTrEvj"
      },
      "source": [
        "def clean_text(text, remove_stopwords = True):\n",
        "    \n",
        "    text = text.lower()\n",
        "    if True:\n",
        "        text = text.split()\n",
        "        new_text = []\n",
        "        for word in text:\n",
        "            if word in contractions:\n",
        "                new_text.append(contractions[word])\n",
        "            else:\n",
        "                new_text.append(word)\n",
        "        text = \" \".join(new_text)\n",
        "        \n",
        "    text = re.sub(r'https?:\\/\\/.*[\\r\\n]*', '', text, flags=re.MULTILINE)\n",
        "    text = EMAIL_REGEX.sub(' ',text)\n",
        "    text = CURRENCY_REGEX.sub(' ',text)\n",
        "    text = ' '.join([contractions[t] if t in contractions else t for t in text.split(\" \")])    \n",
        "    text = re.sub(r'[_\"\\-;%()|+&=*%.,!?:#$@\\[\\]/]', ' ', text)\n",
        "    text = re.sub(r\"'s\\b\",\"\", text)\n",
        "    text = re.sub(r'&amp;', '', text) \n",
        "    \n",
        "    if remove_stopwords:\n",
        "        text = text.split()\n",
        "        stops = set(stopwords.words(\"english\"))\n",
        "        text = [w for w in text if not w in stops]\n",
        "        text = \" \".join(text)\n",
        "\n",
        "    return text    "
      ],
      "execution_count": null,
      "outputs": []
    },
    {
      "cell_type": "code",
      "metadata": {
        "colab": {
          "base_uri": "https://localhost:8080/"
        },
        "id": "kyGo203_rEvx",
        "outputId": "72591f55-cb49-48b2-b439-5201e7a0bff9"
      },
      "source": [
        "cleaned_headlines = []\n",
        "cleaned_text = []\n",
        "\n",
        "for headlines in reviews['headlines']:\n",
        "    cleaned_headlines.append(clean_text(headlines, remove_stopwords=False))\n",
        "print(\"Headlines are complete.\")\n",
        "\n",
        "for text in reviews['text']:\n",
        "    cleaned_text.append(clean_text(text))\n",
        "print(\"Texts are complete.\")"
      ],
      "execution_count": null,
      "outputs": [
        {
          "output_type": "stream",
          "text": [
            "Headlines are complete.\n",
            "Texts are complete.\n"
          ],
          "name": "stdout"
        }
      ]
    },
    {
      "cell_type": "code",
      "metadata": {
        "colab": {
          "base_uri": "https://localhost:8080/"
        },
        "id": "qkK_Y6v2rEv4",
        "outputId": "3b7c13c6-456e-451c-8f57-ccbe8d73586b"
      },
      "source": [
        "# let's inspect some clean reviews\n",
        "for i in range(4):\n",
        "    print(\"Review: \",i+1)\n",
        "    print(cleaned_headlines[i])\n",
        "    print('-'*80)\n",
        "    print(cleaned_text[i])\n",
        "    print()"
      ],
      "execution_count": null,
      "outputs": [
        {
          "output_type": "stream",
          "text": [
            "Review:  1\n",
            "syrian official obama climbed to the top of the tree doesn not know how to get down obama sends a letter to the heads of the house and senate obama to seek congressional approval on military action against syria aim is to determine whether cw were used not by whom says u n  spokesman\n",
            "--------------------------------------------------------------------------------\n",
            "official u president barack obama wants lawmakers weigh whether use military force syria obama sent letter heads house senate saturday night hours announcing believes military action syrian targets right step take alleged use chemical weapons proposed legislation obama asks congress approve use military force deter disrupt prevent degrade potential future uses chemical weapons weapons mass destruction step set turn international crisis fierce domestic political battle key questions looming debate u n weapons inspectors find syria happens congress votes syrian government react televised address white house rose garden earlier saturday president said would take case congress wants believe authority carry military action without specific congressional authorization know country stronger take course actions even effective said debate issues big business usual obama said top congressional leaders agreed schedule debate body returns washington september 9 senate foreign relations committee hold hearing matter tuesday sen robert menendez said transcript read obama full remarks syrian crisis latest developments u n inspectors leave syria obama remarks came shortly u n inspectors left syria carrying evidence determine whether chemical weapons used attack early last week damascus suburb aim game mandate clear ascertain whether chemical weapons used u n spokesman martin nesirky told reporters saturday used weapons reported toxic gas attack damascus suburb august 21 key point global debate syrian crisis top u officials said doubt syrian government behind syrian officials denied responsibility blamed jihadists fighting rebels british u intelligence reports say attack involved chemical weapons u n officials stressed importance waiting official report inspectors inspectors share findings u n secretary general ban ki moon ban said wants wait u n team final report completed presenting u n security council organization prohibition chemical weapons nine inspectors belong said saturday could take three weeks analyze evidence collected needs time able analyze information samples nesirky said noted ban repeatedly said alternative political solution crisis syria military solution option bergen syria problem hell u obama menace must confronted obama senior advisers debated next steps take president comments saturday came amid mounting political pressure situation syria u lawmakers called immediate action others warn stepping could become quagmire global leaders expressed support british parliament vote military action earlier week blow obama hopes getting strong backing key nato allies saturday obama proposed said would limited military action syrian president bashar al assad military attack would open ended include u ground forces said syria alleged use chemical weapons earlier month assault human dignity president said failure respond force obama argued could lead escalating use chemical weapons proliferation terrorist groups would people harm world many dangers menace must confronted syria missile strike would happen next map u allied assets around syria obama decision came friday night friday night president made last minute decision consult lawmakers happen vote unclear senior administration official told obama authority act without congress even congress rejects request authorization use force obama saturday continued shore support strike al assad government spoke phone french president francois hollande rose garden speech two leaders agreed international community must deliver resolute message assad regime others would consider using chemical weapons crimes unacceptable violate international norm held accountable world white house said meanwhile uncertainty loomed congress would weigh u military officials said remained ready 5 key assertions u intelligence report syria syria wants chemical weapons horror reactions mixed obama speech spokesman syrian national coalition said opposition group disappointed obama announcement fear lack action could embolden regime repeat attacks serious way said spokesman louay safi quite concerned members congress applauded obama decision house speaker john boehner majority leader eric cantor majority whip kevin mccarthy conference chair cathy mcmorris rodgers issued statement saturday praising president constitution responsibility declare war lies congress republican lawmakers said glad president seeking authorization military action syria response serious substantive questions raised 160 legislators including 63 obama fellow democrats signed letters calling either vote least full debate u action british prime minister david cameron whose attempt get lawmakers country support military action syria failed earlier week responded obama speech twitter post saturday understand support barack obama position syria cameron said influential lawmaker russia stood syria criticized united states theory main reason obama turning congress military operation get enough support either world among allies us united states alexei pushkov chairman international affairs committee russian state duma said twitter post united states scattered groups anti war protesters around country took streets saturday like many americans tired united states getting involved invading bombing countries said robin rosecrans among hundreds los angeles demonstration syria neighbors think russia china iran stand assad syria government unfazed obama speech military political analyst syrian state tv said obama embarrassed russia opposes military action syria crying help someone come rescue facing two defeats political military levels syria prime minister appeared unfazed saber rattling syrian army status maximum readiness fingers trigger confront challenges wael nader al halqi said meeting delegation syrian expatriates italy according banner syria state tv broadcast prior obama address anchor syrian state television said obama appeared preparing aggression syria based repeated lies top syrian diplomat told state television network obama facing pressure take military action israel turkey arabs right wing extremists united states think done well cameron terms taking issue parliament said bashar jaafari syria ambassador united nations obama cameron said climbed top tree know get syrian government denied used chemical weapons august 21 attack saying jihadists fighting rebels used effort turn global sentiments british intelligence put number people killed attack 350 saturday obama said told well 1 000 people murdered u secretary state john kerry friday cited death toll 1 429 400 children explanation offered discrepancy iran u military action syria would spark wouldisaster opinion strikes syria bad idea\n",
            "\n",
            "Review:  2\n",
            "usain bolt wins third gold of world championship anchors jamaica to 4x100m relay victory eighth gold at the championships for bolt jamaica double up in women is 4x100m relay\n",
            "--------------------------------------------------------------------------------\n",
            "usain bolt rounded world championships sunday claiming third gold moscow anchored jamaica victory men 4x100m relay fastest man world charged clear united states rival justin gatlin jamaican quartet nesta carter kemar bailey cole nickel ashmeade bolt 37 36 seconds u finished second 37 56 seconds canada taking bronze britain disqualified faulty handover 26 year old bolt collected eight gold medals world championships equaling record held american trio carl lewis michael johnson allyson felix mention small matter six olympic titles relay triumph followed individual successes 100 200 meters russian capital proud continue work dominate long possible bolt said previously expressed intention carry 2016 rio olympics victory never seriously doubt got baton safely hand ashmeade gatlin united states third leg runner rakieem salaam problems gatlin strayed lane struggled get full control baton never able get terms bolt earlier jamaica women underlined dominance sprint events winning 4x100m relay gold anchored shelly ann fraser pryce like bolt completing triple quartet recorded championship record 41 29 seconds well clear france crossed line second place 42 73 seconds defending champions united states initially back bronze medal position losing time second handover alexandria anderson english gardner promoted silver france subsequently disqualified illegal handover british quartet initially fourth promoted bronze eluded men team fraser pryce like bolt aged 26 became first woman achieve three golds 100 200 relay final action last day championships france teddy tamgho became third man leap 18m triple jump exceeding mark four centimeters take gold germany christina obergfoll finally took gold global level women javelin five previous silvers kenya asbel kiprop easily tactical men 1500m final kiprop compatriot eunice jepkoech sum surprise winner women 800m bolt final dash golden glory brought eight day championship rousing finale hosts topped medal table united states criticism poor attendances luzhniki stadium concern pole vault gold medalist yelena isinbayeva made controversial remarks support russia new laws make propagandizing non traditional sexual relations among minors criminal offense later attempted clarify comments renewed calls gay rights groups boycott 2014 winter games sochi next major sports event russia\n",
            "\n",
            "Review:  3\n",
            "the employee in agency is kansas city office is among hundreds of virtual workers the employee is travel to and from the mainland u s  last year cost more than 24 000 the telecommuting program like all gsa practices is under review\n",
            "--------------------------------------------------------------------------------\n",
            "kansas city missouri general services administration already investigation lavish spending allowed employee telecommute hawaii even though based gsa kansas city missouri office investigation found cost 24 000 business development specialist travel mainland united states past year among several hundred gsa virtual workers also travel various conferences home offices costing agency millions dollars past three years program employees work home may live another state region actually assigned kansas city employee started job january 2011 paid 84 440 works home honolulu gsa representative confirmed past year according gsa travel records employee flown back mainland nine times conferences meetings four trips st louis four washington side trip cincinnati one san diego total cost taxpayers 24 221 jason klumb gsa regional administrator kansas city defended hire cost travel included consideration candidacy employee compared applicants klumb said factoring determined best candidate even light cost would incurred klumb called gsa teleworking program successful program going lead cost savings taxpayers gsa spokeswoman said going defend type travel gsa employee kansas city requested anonymity said hiring someone hawaii work kansas city region ludicrous make sense employee said consider everything need hire someone would better look someone kansas city area would reduced cost travel least 70 percent look airfare takes honolulu washington c lot business done dan tangherlini appointed acting gsa administrator year said agency examining cost entire teleworking program think important part gsa think make sure open avail smart people country also make sure clear business case said someone working nebraska reporting boston clear explanation value providing got give business case got explain cost effective move american people new standard asking everyone gsa adhere gsa virtual employee program different telework programs offered many private companies including parent company turner broadcasting employees encouraged work home days week partially reduce traffic congestion house committee oversight government reform requested details gsa teleworking program june followed disclosures 95 virtual employees including 12 supervisory positions spent nearly 750 000 travel costs october 2010 june 2011 american people right know federal bureaucrats enjoy benefits virtual work eligible responsible stewards taxpayer dollars support program according letter committee chairman rep darrell issa r california gsa details requested issa gsa program provided committee also requested information two months ago federal freedom information act repeatedly told gsa foia staff members finished compiling material general services administration 12 600 employees 26 3 billion budget relatively obscure federal agency handles government real estate non military procurement congress launched investigation gsa scathing inspector general report issued year showed lavish spending 823 000 agency western regions conference las vegas october 2010 controversy became politically toxic reports video clips lavish conference released revelation prompted taxpayer indignation embarrassed administration put spotlight wasteful spending gsa jeff neely gsa official organized conference resigned agency administrator martha johnson two johnson deputies fired eight employees left agency tangherlini former treasury department official took acting gsa administrator addition las vegas conference gsa apparently spent 330 000 relocate employee denver hawaii probably millions employees two year period according transcript interview gsa event planner 84 gsa employees supervisors senior staff subjects inspector general investigations still collecting bonuses totaling 1 million taxpayer money july investigation revealed gsa kansas city office spent 20 000 send employees cooking classes build team spirit classes amount significant sum money world trillion dollar government budgets insiders said part free spending culture went years gsa kansas city regional headquarters gsa spokeswoman betsaida alcantara said statement year agency practices top review sara anwar elizabeth nunez tom cohen contributed report watch erin burnett weekdays 7pm et latest erin burnett click\n",
            "\n",
            "Review:  4\n",
            "new a canadian doctor says she was part of a team examining harry burkhart in 2010 new diagnosis autism severe anxiety post traumatic stress disorder and depression burkhart is also suspected in a german arson probe officials say prosecutors believe the german national set a string of fires in los angeles\n",
            "--------------------------------------------------------------------------------\n",
            "los angeles medical doctor vancouver british columbia said thursday california arson suspect harry burkhart suffered severe mental illness 2010 examined part team doctors dr blaga stancheva family physician specialist obstetrics said burkhart mother dorothee patients vancouver applying refugee status canada asked diagnose treat harry support claim explaining unable show small claims court case stancheva told phone interview declined cite case burkhart role stancheva said doctors including psychiatrist diagnosed burkhart autism severe anxiety post traumatic stress disorder depression diagnosis spelled letter wrote small claims court case stancheva said stancheva citing doctor patient confidentiality would elaborate would identify psychiatrist involved diagnosis burkhart 24 year old german national charged 37 counts arson following string 52 fires los angeles charges connection arson fires 12 locations scattered hollywood west hollywood sherman oaks according authorities stancheva said refugee applications burkhart mother denied canadian government seen burkhart since early march 2010 shocked dismayed happened los angeles appears treated depression said burkhart court wednesday preliminary hearing prosecutors said rage americans triggered mother arrest last week motivated campaign terror dozens fires hollywood nearby communities burkhart kept eyes closed remained limp hearing requiring sheriff deputies hold district attorney called courtroom behavior bizarre defendant engaged protracted campaign set people believe upwards 52 arson fires essentially amounts campaign terror community los angeles county deputy district attorney sean carney said people believe engaged conduct hatred americans carney told court burkhart would flee country allowed jail bond los angeles superior court judge upinder kalra said choice set bail go free awaiting trial burkhart must post 2 85 million bond surrender german passport revealed burkhart also investigation arson fraud relation fire neukirchen near frankfurt germany worst arson sprees city history began last friday morning car fire hollywood spread apartments garage new fires happened since burkhart arrested monday los angeles district attorney steve cooley said one hurt fires property damage costs likely reach 3 million authorities said cooley called almost attempted murder people sleeping apartments burkhart allegedly set cars fire incendiary devices placed engines criminal complaint filed wednesday also alleged fires caused use device designed accelerate fire cooley said found true allegation could mean additional custody time defendant numerous instances cars parked carports resulting fires spreading adjacent occupied apartment buildings sworn affidavit los angeles arson investigator said vast majority fires occurred late night occupants apartment buildings asleep investigator edward nordskog affidavit detailed burkhart behavior day fires began federal courtroom extradition proceedings mother audience defendant burkhart began yelling angry manner f k americans defendant also attempted communicate mother custody shortly thereafter defendant ejected courtroom deputy u marshals nordskog wrote dorothee burkhart arrested day international arrest warrant issued district court frankfurt germany said federal court spokesman gunther meilinger 53 year old german woman wanted 16 counts fraud three counts embezzlement said charges include allegation failed pay breast enhancement operation performed 2004 meilinger said german charges however stem phony real estate deals dorothee burkhart allegedly conducted 2000 2006 opinion defendant criminal spree motivated rage americans setting fires defendant intended harm terrorize many residents city county los angeles possible nordskog wrote search burkhart hollywood apartment found newspaper clippings los angeles fires articles germany reporting similar car fires frankfurt germany september 2011 investigator said opinion based experience highly likely defendant history setting arson fires germany came united states nordskog wrote burkhart mother scheduled another extradition hearing friday due back court arraignment january 24 meanwhile burkharts housed los angeles jail\n",
            "\n"
          ],
          "name": "stdout"
        }
      ]
    },
    {
      "cell_type": "code",
      "metadata": {
        "colab": {
          "base_uri": "https://localhost:8080/",
          "height": 281
        },
        "id": "wSs02_tlrEv_",
        "outputId": "bcd942a3-702b-4232-e96f-eb938abd09b0"
      },
      "source": [
        "# distribution of sequences\n",
        "import matplotlib.pyplot as plt\n",
        "\n",
        "text_word_count = []\n",
        "headlines_word_count = []\n",
        "\n",
        "for i in cleaned_text:\n",
        "    text_word_count.append(len(i.split()))\n",
        "for i in cleaned_headlines:\n",
        "    headlines_word_count.append(len(i.split()))\n",
        "\n",
        "length_df = pd.DataFrame({'text': text_word_count, 'headlines': headlines_word_count})\n",
        "length_df.hist(bins=15)\n",
        "plt.show()"
      ],
      "execution_count": null,
      "outputs": [
        {
          "output_type": "display_data",
          "data": {
            "image/png": "[encoded data removed]",
            "text/plain": [
              "<Figure size 432x288 with 2 Axes>"
            ]
          },
          "metadata": {
            "tags": []
          }
        }
      ]
    },
    {
      "cell_type": "code",
      "metadata": {
        "colab": {
          "base_uri": "https://localhost:8080/"
        },
        "id": "73mXczfLrEwG",
        "outputId": "172e3183-e937-48fe-ccaa-2e430fd41f2d"
      },
      "source": [
        "count = 0\n",
        "for i in cleaned_text:\n",
        "    if(len(i.split())<=200):\n",
        "        count += 1\n",
        "print(count/len(cleaned_text))"
      ],
      "execution_count": null,
      "outputs": [
        {
          "output_type": "stream",
          "text": [
            "0.19264628047397359\n"
          ],
          "name": "stdout"
        }
      ]
    },
    {
      "cell_type": "code",
      "metadata": {
        "colab": {
          "base_uri": "https://localhost:8080/"
        },
        "id": "quDLL0bGHrjG",
        "outputId": "1c64ebbe-2a0d-4a05-ede6-d0d91b335955"
      },
      "source": [
        "count = 0\n",
        "for i in cleaned_headlines:\n",
        "    if(len(i.split())<=40):\n",
        "        count += 1\n",
        "print(count/len(cleaned_headlines))"
      ],
      "execution_count": null,
      "outputs": [
        {
          "output_type": "stream",
          "text": [
            "0.395122003910174\n"
          ],
          "name": "stdout"
        }
      ]
    },
    {
      "cell_type": "code",
      "metadata": {
        "id": "l0iIs-OPrEwM"
      },
      "source": [
        "max_headlines_len=40\n",
        "max_text_len=200\n",
        "\n",
        "cleaned_text = np.array(cleaned_text)\n",
        "cleaned_headlines = np.array(cleaned_headlines)\n",
        "\n",
        "short_text=[]\n",
        "short_headlines=[]\n",
        "\n",
        "for i in range(len(cleaned_text)):\n",
        "    \n",
        "    if(len(cleaned_headlines[i].split())<=max_headlines_len and len(cleaned_text[i].split())<=max_text_len):\n",
        "        short_text.append(cleaned_text[i])\n",
        "        short_headlines.append(cleaned_headlines[i])\n",
        "\n",
        "df=pd.DataFrame({'text':short_text,'headlines':short_headlines})\n",
        "df['headlines'] = df['headlines'].apply(lambda x : 'sostok '+ x + ' eostok')\n",
        "\n",
        "from sklearn.model_selection import train_test_split\n",
        "x_tr,x_val,y_tr,y_val=train_test_split(np.array(df['text']),np.array(df['headlines']),test_size=0.1,random_state=0,shuffle=True)"
      ],
      "execution_count": null,
      "outputs": []
    },
    {
      "cell_type": "code",
      "metadata": {
        "colab": {
          "base_uri": "https://localhost:8080/"
        },
        "id": "EmWaEASRIOII",
        "outputId": "3d10c84c-dcf5-4f8b-a77e-10f8669a9950"
      },
      "source": [
        "print(df.shape)"
      ],
      "execution_count": null,
      "outputs": [
        {
          "output_type": "stream",
          "text": [
            "(11328, 2)\n"
          ],
          "name": "stdout"
        }
      ]
    },
    {
      "cell_type": "code",
      "metadata": {
        "id": "hlo0QVN6EIXX"
      },
      "source": [
        "df.to_csv('drive/My Drive/cnn/cnn_summary_short.csv',index=False)"
      ],
      "execution_count": null,
      "outputs": []
    },
    {
      "cell_type": "code",
      "metadata": {
        "id": "t4cxzsvzYBaB"
      },
      "source": [
        "#df= pd.read_csv('drive/My Drive/cnn/cnn_summary_short.csv')\n",
        "#from sklearn.model_selection import train_test_split\n",
        "#x_tr,x_val,y_tr,y_val=train_test_split(np.array(df['text']),np.array(df['headlines']),test_size=0.1,random_state=0,shuffle=True)"
      ],
      "execution_count": null,
      "outputs": []
    },
    {
      "cell_type": "code",
      "metadata": {
        "colab": {
          "base_uri": "https://localhost:8080/"
        },
        "id": "xuH5ZL_PrEwj",
        "outputId": "8a1b1b3c-b64b-4a66-dc8b-70a3a728b2da"
      },
      "source": [
        "from keras.preprocessing.text import Tokenizer \n",
        "from keras.preprocessing.sequence import pad_sequences\n",
        "\n",
        "#prepare a tokenizer for reviews on training data\n",
        "x_tokenizer = Tokenizer() \n",
        "x_tokenizer.fit_on_texts(list(x_tr))\n",
        "\n",
        "thresh=4\n",
        "cnt=0\n",
        "tot_cnt=0\n",
        "freq=0\n",
        "tot_freq=0\n",
        "\n",
        "for key,value in x_tokenizer.word_counts.items():\n",
        "    tot_cnt=tot_cnt+1\n",
        "    tot_freq=tot_freq+value\n",
        "    if(value<thresh):\n",
        "        cnt=cnt+1\n",
        "        freq=freq+value\n",
        "    \n",
        "print(\"% of rare words in vocabulary:\",(cnt/tot_cnt)*100)\n",
        "print(\"Total Coverage of rare words:\",(freq/tot_freq)*100)\n",
        "\n",
        "#prepare a tokenizer for reviews on training data\n",
        "x_tokenizer = Tokenizer(num_words=tot_cnt-cnt) \n",
        "x_tokenizer.fit_on_texts(list(x_tr))\n",
        "\n",
        "#convert text sequences into integer sequences\n",
        "x_tr_seq    =   x_tokenizer.texts_to_sequences(x_tr) \n",
        "x_val_seq   =   x_tokenizer.texts_to_sequences(x_val)\n",
        "\n",
        "#padding zero upto maximum length\n",
        "x_tr    =   pad_sequences(x_tr_seq,  maxlen=max_text_len, padding='post')\n",
        "x_val   =   pad_sequences(x_val_seq, maxlen=max_text_len, padding='post')\n",
        "\n",
        "#size of vocabulary ( +1 for padding token)\n",
        "x_voc   =  x_tokenizer.num_words + 1\n",
        "\n",
        "x_voc"
      ],
      "execution_count": null,
      "outputs": [
        {
          "output_type": "stream",
          "text": [
            "% of rare words in vocabulary: 57.972024406410924\n",
            "Total Coverage of rare words: 3.6926995205741555\n"
          ],
          "name": "stdout"
        },
        {
          "output_type": "execute_result",
          "data": {
            "text/plain": [
              "24729"
            ]
          },
          "metadata": {
            "tags": []
          },
          "execution_count": 76
        }
      ]
    },
    {
      "cell_type": "code",
      "metadata": {
        "colab": {
          "base_uri": "https://localhost:8080/"
        },
        "id": "DyY--9AcrEwr",
        "outputId": "b2694814-608c-4a53-9cd3-ae18bc4bc7b2"
      },
      "source": [
        "#prepare a tokenizer for reviews on training data\n",
        "y_tokenizer = Tokenizer()   \n",
        "y_tokenizer.fit_on_texts(list(y_tr))\n",
        "\n",
        "thresh=6\n",
        "cnt=0\n",
        "tot_cnt=0\n",
        "freq=0\n",
        "tot_freq=0\n",
        "\n",
        "for key,value in y_tokenizer.word_counts.items():\n",
        "    tot_cnt=tot_cnt+1\n",
        "    tot_freq=tot_freq+value\n",
        "    if(value<thresh):\n",
        "        cnt=cnt+1\n",
        "        freq=freq+value\n",
        "    \n",
        "print(\"% of rare words in vocabulary:\",(cnt/tot_cnt)*100)\n",
        "print(\"Total Coverage of rare words:\",(freq/tot_freq)*100)\n",
        "\n",
        "#prepare a tokenizer for reviews on training data\n",
        "y_tokenizer = Tokenizer(num_words=tot_cnt-cnt) \n",
        "y_tokenizer.fit_on_texts(list(y_tr))\n",
        "\n",
        "#convert text sequences into integer sequences\n",
        "y_tr_seq    =   y_tokenizer.texts_to_sequences(y_tr) \n",
        "y_val_seq   =   y_tokenizer.texts_to_sequences(y_val) \n",
        "\n",
        "#padding zero upto maximum length\n",
        "y_tr    =   pad_sequences(y_tr_seq, maxlen=max_headlines_len, padding='post')\n",
        "y_val   =   pad_sequences(y_val_seq, maxlen=max_headlines_len, padding='post')\n",
        "\n",
        "#size of vocabulary\n",
        "y_voc  =   y_tokenizer.num_words +1\n",
        "\n",
        "y_tokenizer.word_counts['sostok'],len(y_tr)   "
      ],
      "execution_count": null,
      "outputs": [
        {
          "output_type": "stream",
          "text": [
            "% of rare words in vocabulary: 75.70933419313236\n",
            "Total Coverage of rare words: 10.001568144594547\n"
          ],
          "name": "stdout"
        },
        {
          "output_type": "execute_result",
          "data": {
            "text/plain": [
              "(10195, 10195)"
            ]
          },
          "metadata": {
            "tags": []
          },
          "execution_count": 77
        }
      ]
    },
    {
      "cell_type": "code",
      "metadata": {
        "id": "tLzr3p7CrEwx"
      },
      "source": [
        "ind=[]\n",
        "for i in range(len(y_tr)):\n",
        "    cnt=0\n",
        "    for j in y_tr[i]:\n",
        "        if j!=0:\n",
        "            cnt=cnt+1\n",
        "    if(cnt==2):\n",
        "        ind.append(i)\n",
        "\n",
        "y_tr=np.delete(y_tr,ind, axis=0)\n",
        "x_tr=np.delete(x_tr,ind, axis=0)\n",
        "\n",
        "ind=[]\n",
        "for i in range(len(y_val)):\n",
        "    cnt=0\n",
        "    for j in y_val[i]:\n",
        "        if j!=0:\n",
        "            cnt=cnt+1\n",
        "    if(cnt==2):\n",
        "        ind.append(i)\n",
        "\n",
        "y_val=np.delete(y_val,ind, axis=0)\n",
        "x_val=np.delete(x_val,ind, axis=0)"
      ],
      "execution_count": null,
      "outputs": []
    },
    {
      "cell_type": "code",
      "metadata": {
        "colab": {
          "base_uri": "https://localhost:8080/"
        },
        "id": "DpJOv_Z_rEw7",
        "outputId": "688348f1-55b3-45bc-f7ca-e784d16a81c8"
      },
      "source": [
        "from keras import backend as K \n",
        "K.clear_session()\n",
        "\n",
        "latent_dim = 200\n",
        "embedding_dim=110\n",
        "\n",
        "# Encoder\n",
        "encoder_inputs = Input(shape=(max_text_len,))\n",
        "\n",
        "#embedding layer\n",
        "enc_emb =  Embedding(x_voc, embedding_dim,trainable=True)(encoder_inputs)\n",
        "\n",
        "#encoder lstm 1\n",
        "encoder_lstm1 = LSTM(latent_dim,return_sequences=True,return_state=True,dropout=0.4,recurrent_dropout=0.4)\n",
        "encoder_output1, state_h1, state_c1 = encoder_lstm1(enc_emb)\n",
        "\n",
        "#encoder lstm 2\n",
        "encoder_lstm2 = LSTM(latent_dim,return_sequences=True,return_state=True,dropout=0.4,recurrent_dropout=0.4)\n",
        "encoder_output2, state_h2, state_c2 = encoder_lstm2(encoder_output1)\n",
        "\n",
        "#encoder lstm 3\n",
        "encoder_lstm3=LSTM(latent_dim, return_state=True, return_sequences=True,dropout=0.4,recurrent_dropout=0.4)\n",
        "encoder_outputs, state_h, state_c= encoder_lstm3(encoder_output2)\n",
        "\n",
        "# Set up the decoder, using `encoder_states` as initial state.\n",
        "decoder_inputs = Input(shape=(None,))\n",
        "\n",
        "#embedding layer\n",
        "dec_emb_layer = Embedding(y_voc, embedding_dim,trainable=True)\n",
        "dec_emb = dec_emb_layer(decoder_inputs)\n",
        "\n",
        "decoder_lstm = LSTM(latent_dim, return_sequences=True, return_state=True,dropout=0.4,recurrent_dropout=0.2)\n",
        "decoder_outputs,decoder_fwd_state, decoder_back_state = decoder_lstm(dec_emb,initial_state=[state_h, state_c])\n",
        "\n",
        "# Attention layer\n",
        "attn_layer = AttentionLayer(name='attention_layer')\n",
        "attn_out, attn_states = attn_layer([encoder_outputs, decoder_outputs])\n",
        "\n",
        "# Concat attention input and decoder LSTM output\n",
        "decoder_concat_input = Concatenate(axis=-1, name='concat_layer')([decoder_outputs, attn_out])\n",
        "\n",
        "#dense layer\n",
        "decoder_dense =  TimeDistributed(Dense(y_voc, activation='softmax'))\n",
        "decoder_outputs = decoder_dense(decoder_concat_input)\n",
        "\n",
        "# Define the model \n",
        "model = Model([encoder_inputs, decoder_inputs], decoder_outputs)\n",
        "\n",
        "model.summary() "
      ],
      "execution_count": null,
      "outputs": [
        {
          "output_type": "stream",
          "text": [
            "WARNING:tensorflow:Layer lstm will not use cuDNN kernel since it doesn't meet the cuDNN kernel criteria. It will use generic GPU kernel as fallback when running on GPU\n",
            "WARNING:tensorflow:Layer lstm_1 will not use cuDNN kernel since it doesn't meet the cuDNN kernel criteria. It will use generic GPU kernel as fallback when running on GPU\n",
            "WARNING:tensorflow:Layer lstm_2 will not use cuDNN kernel since it doesn't meet the cuDNN kernel criteria. It will use generic GPU kernel as fallback when running on GPU\n",
            "WARNING:tensorflow:Layer lstm_3 will not use cuDNN kernel since it doesn't meet the cuDNN kernel criteria. It will use generic GPU kernel as fallback when running on GPU\n",
            "Model: \"model\"\n",
            "__________________________________________________________________________________________________\n",
            "Layer (type)                    Output Shape         Param #     Connected to                     \n",
            "==================================================================================================\n",
            "input_1 (InputLayer)            [(None, 200)]        0                                            \n",
            "__________________________________________________________________________________________________\n",
            "embedding (Embedding)           (None, 200, 110)     2720190     input_1[0][0]                    \n",
            "__________________________________________________________________________________________________\n",
            "lstm (LSTM)                     [(None, 200, 200), ( 248800      embedding[0][0]                  \n",
            "__________________________________________________________________________________________________\n",
            "input_2 (InputLayer)            [(None, None)]       0                                            \n",
            "__________________________________________________________________________________________________\n",
            "lstm_1 (LSTM)                   [(None, 200, 200), ( 320800      lstm[0][0]                       \n",
            "__________________________________________________________________________________________________\n",
            "embedding_1 (Embedding)         (None, None, 110)    663080      input_2[0][0]                    \n",
            "__________________________________________________________________________________________________\n",
            "lstm_2 (LSTM)                   [(None, 200, 200), ( 320800      lstm_1[0][0]                     \n",
            "__________________________________________________________________________________________________\n",
            "lstm_3 (LSTM)                   [(None, None, 200),  248800      embedding_1[0][0]                \n",
            "                                                                 lstm_2[0][1]                     \n",
            "                                                                 lstm_2[0][2]                     \n",
            "__________________________________________________________________________________________________\n",
            "attention_layer (AttentionLayer ((None, None, 200),  80200       lstm_2[0][0]                     \n",
            "                                                                 lstm_3[0][0]                     \n",
            "__________________________________________________________________________________________________\n",
            "concat_layer (Concatenate)      (None, None, 400)    0           lstm_3[0][0]                     \n",
            "                                                                 attention_layer[0][0]            \n",
            "__________________________________________________________________________________________________\n",
            "time_distributed (TimeDistribut (None, None, 6028)   2417228     concat_layer[0][0]               \n",
            "==================================================================================================\n",
            "Total params: 7,019,898\n",
            "Trainable params: 7,019,898\n",
            "Non-trainable params: 0\n",
            "__________________________________________________________________________________________________\n"
          ],
          "name": "stdout"
        }
      ]
    },
    {
      "cell_type": "code",
      "metadata": {
        "colab": {
          "background_save": true,
          "base_uri": "https://localhost:8080/"
        },
        "id": "za_vlKUnrExD",
        "outputId": "11bf5848-ad39-463d-952c-d322311b8255"
      },
      "source": [
        "model.compile(optimizer='rmsprop', loss='sparse_categorical_crossentropy')\n",
        "es = EarlyStopping(monitor='val_loss', mode='min', verbose=1,patience=2)\n",
        "history=model.fit([x_tr,y_tr[:,:-1]], y_tr.reshape(y_tr.shape[0],y_tr.shape[1], 1)[:,1:] ,epochs=50,callbacks=[es],batch_size=128, validation_data=([x_val,y_val[:,:-1]], y_val.reshape(y_val.shape[0],y_val.shape[1], 1)[:,1:]))"
      ],
      "execution_count": null,
      "outputs": [
        {
          "output_type": "stream",
          "text": [
            "Epoch 1/50\n",
            "80/80 [==============================] - 145s 2s/step - loss: 6.0486 - val_loss: 5.0937\n",
            "Epoch 2/50\n",
            "80/80 [==============================] - 135s 2s/step - loss: 5.1397 - val_loss: 4.9424\n",
            "Epoch 3/50\n",
            "80/80 [==============================] - 136s 2s/step - loss: 4.9790 - val_loss: 4.8134\n",
            "Epoch 4/50\n",
            "80/80 [==============================] - 135s 2s/step - loss: 4.8363 - val_loss: 4.7141\n",
            "Epoch 5/50\n",
            "80/80 [==============================] - 136s 2s/step - loss: 4.7287 - val_loss: 4.6156\n",
            "Epoch 6/50\n",
            "80/80 [==============================] - 136s 2s/step - loss: 4.6085 - val_loss: 4.5235\n",
            "Epoch 7/50\n",
            "80/80 [==============================] - 136s 2s/step - loss: 4.5095 - val_loss: 4.4598\n",
            "Epoch 8/50\n",
            "80/80 [==============================] - 136s 2s/step - loss: 4.4137 - val_loss: 4.3905\n",
            "Epoch 9/50\n",
            "80/80 [==============================] - 136s 2s/step - loss: 4.3195 - val_loss: 4.3396\n",
            "Epoch 10/50\n",
            "80/80 [==============================] - 136s 2s/step - loss: 4.2514 - val_loss: 4.3252\n",
            "Epoch 11/50\n",
            "80/80 [==============================] - 135s 2s/step - loss: 4.1662 - val_loss: 4.2661\n",
            "Epoch 12/50\n",
            "80/80 [==============================] - 135s 2s/step - loss: 4.0823 - val_loss: 4.2326\n",
            "Epoch 13/50\n",
            "80/80 [==============================] - 136s 2s/step - loss: 4.0427 - val_loss: 4.1972\n",
            "Epoch 14/50\n",
            "80/80 [==============================] - 136s 2s/step - loss: 3.9648 - val_loss: 4.1832\n",
            "Epoch 15/50\n",
            "80/80 [==============================] - 136s 2s/step - loss: 3.8982 - val_loss: 4.1720\n",
            "Epoch 16/50\n",
            "80/80 [==============================] - 135s 2s/step - loss: 3.8510 - val_loss: 4.1441\n",
            "Epoch 17/50\n",
            "80/80 [==============================] - 136s 2s/step - loss: 3.8005 - val_loss: 4.1304\n",
            "Epoch 18/50\n",
            "80/80 [==============================] - 135s 2s/step - loss: 3.7590 - val_loss: 4.1318\n",
            "Epoch 19/50\n",
            "80/80 [==============================] - 136s 2s/step - loss: 3.7086 - val_loss: 4.1092\n",
            "Epoch 20/50\n",
            "80/80 [==============================] - 135s 2s/step - loss: 3.6552 - val_loss: 4.1076\n",
            "Epoch 21/50\n",
            "80/80 [==============================] - 135s 2s/step - loss: 3.6203 - val_loss: 4.0955\n",
            "Epoch 22/50\n",
            "80/80 [==============================] - 136s 2s/step - loss: 3.5679 - val_loss: 4.0842\n",
            "Epoch 23/50\n",
            "80/80 [==============================] - 136s 2s/step - loss: 3.5226 - val_loss: 4.0751\n",
            "Epoch 24/50\n",
            "80/80 [==============================] - 135s 2s/step - loss: 3.4801 - val_loss: 4.0772\n",
            "Epoch 25/50\n",
            "80/80 [==============================] - 135s 2s/step - loss: 3.4435 - val_loss: 4.0786\n",
            "Epoch 00025: early stopping\n"
          ],
          "name": "stdout"
        }
      ]
    },
    {
      "cell_type": "code",
      "metadata": {
        "id": "LOZB5ryb0V7q"
      },
      "source": [
        "# !pip install -U -q PyDrive\n",
        "from pydrive.auth import GoogleAuth\n",
        "from pydrive.drive import GoogleDrive\n",
        "from google.colab import auth\n",
        "from oauth2client.client import GoogleCredentials\n",
        "\n",
        "# 1. Authenticate and create the PyDrive client.\n",
        "#auth.authenticate_user()\n",
        "#gauth = GoogleAuth()\n",
        "#gauth.credentials = GoogleCredentials.get_application_default()\n",
        "#drive = GoogleDrive(gauth)\n",
        "\n",
        "# 2. Save Keras Model or weights on google drive\n",
        "\n",
        "# create on Colab directory\n",
        "model.save('text_cnn_summary.h5')    \n",
        "#model_file = drive.CreateFile({'title' : 'text_summary.h5'})\n",
        "#model_file.SetContentFile('text_summary.h5')\n",
        "#model_file.Upload()\n",
        "\n",
        "# download to google drive\n",
        "#drive.CreateFile({'id': model_file.get('id')})"
      ],
      "execution_count": null,
      "outputs": []
    },
    {
      "cell_type": "code",
      "metadata": {
        "colab": {
          "base_uri": "https://localhost:8080/",
          "height": 265
        },
        "id": "-AFY73NArExJ",
        "outputId": "f02dce67-2f3e-44b6-eb35-1d4b1902c92a"
      },
      "source": [
        "from matplotlib import pyplot\n",
        "pyplot.plot(history.history['loss'], label='train')\n",
        "pyplot.plot(history.history['val_loss'], label='test')\n",
        "pyplot.legend()\n",
        "pyplot.show()"
      ],
      "execution_count": null,
      "outputs": [
        {
          "output_type": "display_data",
          "data": {
            "image/png": "[encoded data removed]",
            "text/plain": [
              "<Figure size 432x288 with 1 Axes>"
            ]
          },
          "metadata": {
            "tags": []
          }
        }
      ]
    },
    {
      "cell_type": "code",
      "metadata": {
        "id": "-pYOvMgTrExO"
      },
      "source": [
        "reverse_target_word_index=y_tokenizer.index_word\n",
        "reverse_source_word_index=x_tokenizer.index_word\n",
        "target_word_index=y_tokenizer.word_index\n",
        "\n",
        "# Encode the input sequence to get the feature vector\n",
        "encoder_model = Model(inputs=encoder_inputs,outputs=[encoder_outputs, state_h, state_c])\n",
        "\n",
        "# Decoder setup\n",
        "# Below tensors will hold the states of the previous time step\n",
        "decoder_state_input_h = Input(shape=(latent_dim,))\n",
        "decoder_state_input_c = Input(shape=(latent_dim,))\n",
        "decoder_hidden_state_input = Input(shape=(max_text_len,latent_dim))\n",
        "\n",
        "# Get the embeddings of the decoder sequence\n",
        "dec_emb2= dec_emb_layer(decoder_inputs) \n",
        "# To predict the next word in the sequence, set the initial states to the states from the previous time step\n",
        "decoder_outputs2, state_h2, state_c2 = decoder_lstm(dec_emb2, initial_state=[decoder_state_input_h, decoder_state_input_c])\n",
        "\n",
        "#attention inference\n",
        "attn_out_inf, attn_states_inf = attn_layer([decoder_hidden_state_input, decoder_outputs2])\n",
        "decoder_inf_concat = Concatenate(axis=-1, name='concat')([decoder_outputs2, attn_out_inf])\n",
        "\n",
        "# A dense softmax layer to generate prob dist. over the target vocabulary\n",
        "decoder_outputs2 = decoder_dense(decoder_inf_concat) \n",
        "\n",
        "# Final decoder model\n",
        "decoder_model = Model(\n",
        "    [decoder_inputs] + [decoder_hidden_state_input,decoder_state_input_h, decoder_state_input_c],\n",
        "    [decoder_outputs2] + [state_h2, state_c2])\n",
        "\n",
        "def decode_sequence(input_seq):\n",
        "    # Encode the input as state vectors.\n",
        "    e_out, e_h, e_c = encoder_model.predict(input_seq)\n",
        "    \n",
        "    # Generate empty target sequence of length 1.\n",
        "    target_seq = np.zeros((1,1))\n",
        "    \n",
        "    # Populate the first word of target sequence with the start word.\n",
        "    target_seq[0, 0] = target_word_index['sostok']\n",
        "\n",
        "    stop_condition = False\n",
        "    decoded_sentence = ''\n",
        "    while not stop_condition:\n",
        "      \n",
        "        output_tokens, h, c = decoder_model.predict([target_seq] + [e_out, e_h, e_c])\n",
        "\n",
        "        # Sample a token\n",
        "        sampled_token_index = np.argmax(output_tokens[0, -1, :])\n",
        "        sampled_token = reverse_target_word_index[sampled_token_index]\n",
        "        \n",
        "        if(sampled_token!='eostok'):\n",
        "            decoded_sentence += ' '+sampled_token\n",
        "\n",
        "        # Exit condition: either hit max length or find stop word.\n",
        "        if (sampled_token == 'eostok'  or len(decoded_sentence.split()) >= (max_headlines_len-1)):\n",
        "            stop_condition = True\n",
        "\n",
        "        # Update the target sequence (of length 1).\n",
        "        target_seq = np.zeros((1,1))\n",
        "        target_seq[0, 0] = sampled_token_index\n",
        "\n",
        "        # Update internal states\n",
        "        e_h, e_c = h, c\n",
        "\n",
        "    return decoded_sentence\n",
        "\n",
        "def seq2summary(input_seq):\n",
        "    newString=''\n",
        "    for i in input_seq:\n",
        "        if((i!=0 and i!=target_word_index['sostok']) and i!=target_word_index['eostok']):\n",
        "            newString=newString+reverse_target_word_index[i]+' '\n",
        "    return newString\n",
        "\n",
        "def seq2text(input_seq):\n",
        "    newString=''\n",
        "    for i in input_seq:\n",
        "        if(i!=0):\n",
        "            newString=newString+reverse_source_word_index[i]+' '\n",
        "    return newString"
      ],
      "execution_count": null,
      "outputs": []
    },
    {
      "cell_type": "code",
      "metadata": {
        "colab": {
          "base_uri": "https://localhost:8080/"
        },
        "id": "B8w0sTZFrExT",
        "outputId": "be5644e6-5eb2-4b57-8b3c-bd1f6d4a8919"
      },
      "source": [
        "predictions = []\n",
        "reference=[]\n",
        "\n",
        "for i in range(0,50):\n",
        "    print(\"Review:\",seq2text(x_tr[i]))\n",
        "    \n",
        "    print(\"Original summary:\",seq2summary(y_tr[i]))\n",
        "    print(\"Predicted summary:\",decode_sequence(x_tr[i].reshape(1,max_text_len)))\n",
        "    print(\"\\n\")"
      ],
      "execution_count": null,
      "outputs": [
        {
          "output_type": "stream",
          "text": [
            "Review: man accused crimes humanity evaded international criminal court warrants seven years surrendered u embassy kigali rwanda officials said monday confirm morning ntaganda walked u embassy kigali specifically asked transferred icc hague currently consulting number governments including rwandan government order facilitate request u state department spokeswoman victoria nuland told reporters said think u authorities advance notice would surrender news ntaganda turning also reported twitter post rwandan minister foreign affairs louise icc first issued arrest warrant ntaganda different times congolese rebel leader general army democratic republic congo 2006 warrant alleged ntaganda forced children become soldiers drc second icc warrant issued july 2012 accused ntaganda murder rape attacks civilians slavery aliza kassim contributed report \n",
            "Original summary: turns himself in at the u s embassy in he asks to be transferred to the international criminal court in the is accused of forcing children to become soldiers among other crimes \n",
            "Predicted summary:  the man is a second in the u s citizen the group is wanted to the united states the men were arrested in the united states\n",
            "\n",
            "\n",
            "Review: california pacific gas electric utility company center long standing water contamination problem small agricultural town trying soothe growing offering buy homes located near chemical plume letter residents also provided utility also said establish community advisory group consistently hear concerns feedback community town became famous oscar winning film erin starring julia roberts movie released 2000 chronicles helped win 333 million settlement pg e talking residents renewed concerns thinking somebody somewhere asleep wheel told problem arose chemical known chromium 6 chromium 6 used 1952 1966 prevent machinery nearby pg e plant chemical proven cause number life threatening illnesses including cancer according regional water quality control board chemicals continued spread traces chromium 6 recently detected previously effective underground something difficult keep one area said greg senior vice president pg e utility maintains drinking water meets safety standards set california acknowledges needs give residents sense confidence takes concerns seriously end pg e giving residents free bottles water addition residents live next chemical plume able participate pg e home purchase program hopes residents view good faith offer attitude lets work lets purchase property let help relocate said \n",
            "Original summary: says it will a community advisory group became famous from the oscar winning film erin starring julia roberts in the movie a helps win a million settlement from e \n",
            "Predicted summary:  the earthquake will be a new the world is the world is largest in the world is the highest of the world is the highest of the most of the most of the world is largest highest\n",
            "\n",
            "\n",
            "Review: jerusalem rockets coming lebanon smashed northern israel sunday near town israel defense forces said israeli forces fired toward source launch idf said least 20 israeli rockets landed southern lebanon according idf lebanese official national news agency initial reports injuries either side prime minister benjamin netanyahu weekly meeting israeli cabinet said blames lebanese government allowing hezbollah position rockets neighborhoods attacking civilians double war crime perpetrated aegis lebanese government army lifting finger prevent arming crimes said said idf responded quickly forcefully allow respond strongly said \n",
            "Original summary: new israeli pm says attacking civilians while hiding among population is double war crime no immediate reports of anyone being injured israeli military lebanese media say at least 20 rockets fired in \n",
            "Predicted summary:  the incident occurred in gaza near gaza the gaza the region is a region of the gaza the gaza says the gaza is under the region\n",
            "\n",
            "\n",
            "Review: new york lufthansa jumbo jet nearly collided another plane john f kennedy international airport monday egyptair flight apparently veered path jet barreled runway according air traffic controller tapes near miss captured audio recordings revealing air traffic controller communicating lufthansa pilot yelling cancel takeoff cancel takeoff plans two planes moved toward pilot lufthansa jet acknowledged plane rolled halt lufthansa flight 411 airbus 340 packed passengers crew cleared takeoff air traffic control shortly 7 p monday according statement federal aviation administration spokeswoman kathleen bergen egyptair flight boeing 777 issued instructions taxi ramp area airfield departure plane instructed turn onto another taxiway instead went straight statement said spokesman egyptair said flight delayed 40 minutes lufthansa departure delayed plane move tower issued clearance spokesman mohamed rahma said brief inspection gate lufthansa flight continued flight munich germany arrived safely according lufthansa spokesman martin faa currently investigating incident mohamed fadel fahmy contributed report \n",
            "Original summary: a spokesman for said the plane did not move until the tower issued the near miss monday was captured on audio recordings flight made a wrong turn while faa is investigating \n",
            "Predicted summary:  the plane was carrying the plane is a plane was the pilot to the plane was the first time of the seas the pilot was the first time of the plane\n",
            "\n",
            "\n",
            "Review: west coast ports reached tentative contract agreement end labor dispute spokesman pacific maritime association said friday deal struck official statement forthcoming steve said five year contract still approved union members dispute centered around contract negotiations pacific maritime association represents shipping companies port operators international warehouse union represents west coast two parties began talks may unable reach agreement operating without contract since july operations affected 29 ports u labor secretary thomas perez san francisco help dispute already working back full force tomorrow perez said confident west coast acute awareness need reduce backlog ships needing unloaded job one port oakland said website could take six eight weeks situation facility return normal ships containers chassis balance need support cargo movement assets take time port said maritime operational status page \n",
            "Original summary: contract is for five years awaits vote of union members port of officials say it could be weeks before things get back to normal operations have been affected at 29 \n",
            "Predicted summary:  the company says it is no longer the company says it is expected to be a low to the company says it is the highest of the company says\n",
            "\n",
            "\n",
            "Review: two bodyguards injured attack convoy transporting britain ambassador libya safe good condition embassy representative tripoli said tuesday incident took place monday eastern libyan city benghazi one guards stable condition another surgery leave hospital tuesday representative said ambassador dominic hurt attack tripoli whole staff safe sound representative said attack occurred near university libya state news agency lana reported citing spokesman supreme security committee benghazi clearly involved serious incident cannot confirm rpg rocket propelled grenade attack shots fired british foreign office spokesman said libya interior ministry condemned attack criminal act serves enemies libya portrays negative image internal security situation issued directives increase security around embassies foreign missions libya ministry asked diplomatic missions libya inform security forces movements within libya provided security jomana karadsheh contributed report \n",
            "Original summary: new libya is interior ministry issues a of the attack calls for boost in security the incident took place monday in benghazi the ambassador was not injured in the attack \n",
            "Predicted summary:  new the blast occurred in a neighborhood in the blast in the blast the blast occurred in a attack in the blast the blast occurred in the attack\n",
            "\n",
            "\n",
            "Review: mexico city moderately strong earthquake rocked mexico city friday afternoon shaking earth sprawling capital people mexico city stream street magnitude 5 7 earthquake hits u geological survey measured quake magnitude 5 7 placed epicenter near city puebla 85 miles southeast mexico city hit 2 24 p local time mexican seismological service measured quake 5 9 people city reported earth buildings shaking thousands panicked people streamed streets stopped cars traffic parts city without electricity friday afternoon immediate reports injuries damage earthquakes frightening experience 20 million residents mexico city thousands people perished massive quake 1985 city built volcanic ash clay particularly vulnerable temblors aldo pontecorvo humanitarian agency world vision said shaking lasted 20 seconds came nowhere without warning said pontecorvo said office quake struck earlier month moderate earthquake measured coast mexico western baja california peninsula \n",
            "Original summary: u s geological survey measures quake at magnitude 5 7 thousands of people stream into the streets no immediate reports of injuries or damage 1985 earthquake killed thousands in mexico city \n",
            "Predicted summary:  new the quake was centered miles miles miles of the quake is a tsunami warning for the quake is tsunami warning is tsunami warning\n",
            "\n",
            "\n",
            "Review: baghdad iraq federal audit 9 1 billion targeted reconstruction iraq cannot account 95 percent federal report said tuesday report special inspector general iraq reconstruction blamed dod department defense financial management controls called pentagon improve financial management controls audit centered development fund iraq dfi established may 2003 coalition provisional authority dissolved june 2004 iraqi government authorized u government administer funds used reconstruction pentagon managed dfi funds end 2007 authority withdrawn special inspector general reviewed records eight defense department organizations received dfi funds situation occurred dod organizations receiving dfi funds establish required department treasury accounts dod organization designated executive agent managing use dfi funds report concluded breakdown controls left funds vulnerable inappropriate uses loss \n",
            "Original summary: report more than 95 percent of 9 1 billion cannot be for report blames in is financial and management controls funds to inappropriate uses and loss \n",
            "Predicted summary:  the move comes amid a of the country is country is expected to be in the region the government says the country is the world is largest in the country is largest in the region\n",
            "\n",
            "\n",
            "Review: color us confused rivera tweeted weekend kobani key syrian city focus battle isis journalist used official twitter account say pr kobani real benghazi president really must save heroic defenders get rivera enjoying time puerto rico seemed strange tweet would include topless selfie like topless selfies stirred pot 71 year old back 2013 rivera blamed alcohol tweeted nearly nude self portrait draped towel wearing glasses time said never tequila alone new bottle someone given second one fate sealed said like picture added learned use twitter couple weeks ago \n",
            "Original summary: he tweeted about being the real benghazi the tweet included a selfie in 2013 he blamed drinking for a nearly nude selfie he sent \n",
            "Predicted summary:  the internet is the first ever to the internet the internet is a new york is a new york is the first time of the internet is the first time of the internet\n",
            "\n",
            "\n",
            "Review: massachusetts man taken custody law enforcement sweep times square bombing attempt last year deported pakistan saturday customs officials said sunday ali also known khan pleaded guilty charges unlicensed money immigration document fraud plea deal included deportation statement u immigration customs enforcement ice said khan 28 one men picked terror sweep year ago botched may 1 2010 car bomb attempt investigators obtained evidence khan provided 4 900 faisal later convicted carrying bombing attempt ice said khan borrowed money transferred february 2010 part transaction khan family received equivalent amount money pakistan statement said federal complaint khan charge complicit attempted bombing knew intended money ice said ice agents accompanied khan lived watertown massachusetts flight boston islamabad pakistan saturday agency said khan 28 federal custody since may 2010 uncle man maine arrested \n",
            "Original summary: ali khan was arrested after the bombing attempt a year ago khan pleaded guilty to sending money and fraud he was not accused of about the bomb plot \n",
            "Predicted summary:  the man was arrested in a in a u s citizen in the united states in the case the man was arrested in the united states\n",
            "\n",
            "\n",
            "Review: america top military official nation newest class officers saturday fight different sort battle close gap civilians always understand soldier sacrifice navy adm mike mullen chairman joint chiefs staff told graduating cadets u military academy west point despite decade war men women uniform always radar america non military families work appreciated certain mullen said commencement speech saturday town city visit people convey great pride fear know us fear full weight burden carry price pay return battle said spoke 1 000 young officers grew america war afghanistan iraq country attacked 9 11 11 12 years old mullen said war nearly half young lives yet made choice freely serve country said giving newly commissioned officers additional assignment duty serve america volunteer military 1 4 million members said small force compared general population scattered bases across america deployed places imperative public know men women choose serve said important people asking military endure people inevitably unable fully grasp scope responsibilities constitution upon mullen said mullen defense secretary robert gates previously sounded concern potential military urged dialogue end disconnect \n",
            "Original summary: mike tells west point to close the military civilian gap he says civilians know little about the of the military he asks america is officers to help the problem \n",
            "Predicted summary:  the president says it is not a of the u s says the move will be a first of the u s says the u s says\n",
            "\n",
            "\n",
            "Review: instagram profile lot instagram announced feature thursday called photos lets people tag images instagram handles friends anyone account instagram previously call people photo would get news alert pointing image photos feature available app update ios android users immediately tagged images collected new section profile show main photo feed tag people images instagram says new tags populated hashtags though hashtags still work fine comments check whether photo people tags tap images names appear click name go profile tagging course comes potential embarrassment instagram created built way hide tagged photos like profile image extra remove altogether report inappropriate super turn setting require approval tagged photos show profile instagram show tagged images default starting may 16 want turn settings hide time make proper adjustments secret people spend lot time instagram posting photos filters creating hashtags browsing streams average user spends four hours month photo sharing platform according comscore new photos feature good shot increasing time adding whole new way look old memories admire good looks see even friends \n",
            "Original summary: instagram releases photos of you feature to add tagged photos will be in a new section on user is profile page users will be able to photos or to screen \n",
            "Predicted summary:  facebook is testing a new new to the new the new the new the new is the new york is the new the new is the new york is the new york is the first time for the new\n",
            "\n",
            "\n",
            "Review: rollingstone com shortage drama debut jagged little pill much singer expanding 1995 lp broadway musical songs album well tracks catalog new original tunes compose stage tony pulitzer winner tom worked green day american idiot musical provide arrangements musical also called jagged little pill broadway veteran j produce musical ethan david jagged little pill expected debut workshop production next year jagged little pill rank best albums 90s list look forward taking heart jagged little pill expanding story ever deeper layers humanity power physicality spirit said announcing musical look forward collaborating tom whole inspiring team create something greater sum parts album form jagged little pill sold 33 million copies worldwide peaking 1 billboard 200 albums chart grammy album year jagged little pill remains best selling debut female artist u highest selling album 90s see original story rollingstone com copyright 2011 rolling stone \n",
            "Original summary: is little is being expanded into a musical the 1995 will debut as a production next year in album form little has sold more than 33 million copies worldwide \n",
            "Predicted summary:  the film will be released in the film the series will be released in the new the series of the new season the series will be released on the next season\n",
            "\n",
            "\n",
            "Review: two german journalists released prison charged espionage iran interviewing son lawyer woman condemned die stoning spokesman germany foreign ministry confirmed saturday men northwestern city accompanied german consular officials spokesman said officials hoped bring german embassy tehran later day though details given marcus jens koch sentenced 20 months prison iran revolution court dismissed sentences instead slapping 50 000 fines iran state run press tv said two men arrested october interviewed son lawyer mohammadi ashtiani convicted adultery 2006 sentenced death stoning reports propaganda proved country spying head justice department east quoted saying iran semi official fars news agency \n",
            "Original summary: new germany confirms release of reporters both men have had their sentences replaced by fines they were arrested in october and accused of \n",
            "Predicted summary:  the u s embassy says the u s embassy says he was arrested in the united states the u s embassy says the u s embassy says the u s embassy says\n",
            "\n",
            "\n",
            "Review: facebook page uss mesa verde filled dozens well wishes thanks god tuesday day 25 marines u navy sailors survived crash marine corps ch helicopter tried land amphibious transport dock open sea thank god miracle sea wrote ship facebook page great news ok guess grandson tale tell gets home annie stephens wrote post absolute blessing everyone survived u 5th fleet spokesman lt joe told stars stripes team mesa verde everyone else came together saved 25 people minor injuries crash treated aboard mesa verde navy said statement seventeen marines eight navy sailors aboard 16 ton super stallion part 22nd marine expeditionary unit fell gulf aden taking troops back mesa verde training exercise djibouti horn africa navy said crash related hostile activity navy said marine navy officials investigating \n",
            "Original summary: marine corps crashed into gulf of aden only minor injuries among 25 aboard warship is facebook page filled with thanks relief well wishes \n",
            "Predicted summary:  the cause of the crash is a lot of the crash the cause of the explosion is a lot of the cause of the crash\n",
            "\n",
            "\n",
            "Review: ew com response netflix recently released list top 10 movie rentals time release albeit utterly illegal list top 10 pirated movies time usual suspects avatar 21 million downloads taking top honors dark knight tying second place transformers 19 million downloads apiece yes course pirates caribbean installment right still surprisingly little overlap lists inception departed apparently netflix users favor oscar internet thieves go popcorn movies diagram overlap two strangely leonardo dicaprio movies made list head scratch inducing see full list jump 1 avatar 2009 2 dark knight 2008 3 transformers 2007 4 inception 2010 5 hangover 2009 6 star trek 2008 7 kick ass 2010 8 departed 2006 9 incredible hulk 2008 10 pirates caribbean world end 2007 click try 2 risk free issues entertainment weekly 2011 entertainment weekly time inc rights reserved \n",
            "Original summary: 21 million taking top honors the dark knight for second place with still there is little between the lists \n",
            "Predicted summary:  the new will be the first time of the world is the world is top of the world is top of the world is most popular franchise\n",
            "\n",
            "\n",
            "Review: lagos nigeria least 84 nigerian children died teething medicine contained typically found country health minister said friday pikin teething medicine shops nigeria 111 babies children sickened since november tainted batch pikin found contain diethylene glycol used brake fluid tests teething formula showed high concentrations diethylene glycol health minister said statement released friday exposure damage kidney heart nervous system said fatal dead ranged age 2 months 7 years said death nigerian child great loss nation said several officials pharmaceutical company pharmaceutical ltd charged negligence nigeria national agency food drug administration control investigating issue ministry health shut drug maker former officials company could reached comment food drugs agency said believes company thought buying glycol normal ingredient teething medicine government asked pikin teething formula returned however immediately clear done symptoms diethylene glycol exposure include abdominal pain nausea vomiting dizziness confusion decreased lack production urine \n",
            "Original summary: drug company my medicine with 84 children and babies die as a result nigerian government says officials at charged with \n",
            "Predicted summary:  the national transportation minister says the national government says the move is a lot of the united states is the highest of the world trade department says the company says the company says the company says the company says\n",
            "\n",
            "\n",
            "Review: father 15 year old jared padgett understand compelled son open fire oregon school padgett killed one student week reynolds high school 12 miles east portland also injured teacher turning gun michael padgett ex wife kristina hearts tragic event involved beloved son jared reynolds high school finding difficult put words state mind emotions father wrote letter gave affiliate offered condolences family student son killed 14 year old emilio hoffman apologized teacher authorities said known link padgett victims declined comment possible motive loss tragedy unfolded family condone never promoted violence hatred toward anyone padgett father wrote values taught children love jesus christ compassion forgiveness patience natural attributes observed within jared daily knowing values taught children horrified distraught actions perpetrated son said \n",
            "Original summary: jared killed one student and injured a teacher he died of a self inflicted gunshot wound we are and writes his father \n",
            "Predicted summary:  police say the victim was shot in a car in a car in the shooting he was shot in a hospital in the shooting the gunman was found in the past year\n",
            "\n",
            "\n",
            "Review: london england jean george clooney stopped seven year old charlie simpson raising 150 000 240 000 haiti earthquake simpson fulham west london hoped raise 500 unicef earthquake appeal cycling eight kilometers five miles around local park name charlie simpson want sponsored bike ride haiti big earthquake loads people lost lives said simpson page fundraising site launched efforts want make money buy food water tents everyone haiti said donate charlie simpson haiti fundraising page simple call messages support flooded site big heart young boy little star wrote one supporter well done charlie real celebrity said another donations began pouring story caught attention british media many cheering simpson past 100 000 mark even british prime minister gordon brown spreading message downing street twitter alias said amazed response great fundraising efforts 7 old charlie simpson people haiti david bull unicef uk executive director described simpson efforts bold innovative shows connects understands children age must going haiti bull said press statement little seed idea planted grown rapidly place well deserved humanitarian world behalf many children haiti thank charlie effort money raised simpson go towards unicef haiti earthquake children appeal provide water sanitation education nutrition well support child protection \n",
            "Original summary: charlie simpson has raised 000 for unicef is haiti earthquake children is appeal donations in amid media with many simpson on funds raised will provide water education and supporting child protection \n",
            "Predicted summary:  the earthquake was in antarctica for the world cup of the world cup the world meteorological organization says the annual cross is name is name the name is name is the world cup\n",
            "\n",
            "\n",
            "Review: man led germany world cup win player coach admits lost faith fifa due way voting process 2018 2022 tournaments handled franz beckenbauer member fifa executive committee criticized football governing body amount votes bidder received made public beckenbauer one 22 fifa members voted process claims assured details would remain private yet soon announced russia right host 2018 competition qatar secured 2022 version media reporting two favorites england australia attracted two votes one vote respectively led angry reaction representatives england australia bid teams beckenbauer acknowledges faith fifa shaken result disappointed way fifa dealt result seven losing countries treated particularly england australia beckenbauer told german newspaper us members told ahead ballot neither public would ever know exact number votes country round voting told country ruled hours later hearing journalists exact voting certainly affected confidence fifa england particularly criticism fifa claimed several committee members promised votes ron walker member australian football federation claimed voting process contaminated year leading announcement december 2 beckenbauer instrumental taking world cup germany 2006 tournament player 1974 coach 1990 announced november step current role fifa march order spend time family \n",
            "Original summary: says he is lost faith in fifa after the world cup voting process germany legend says losing were treated is to step down from fifa is executive committee in march \n",
            "Predicted summary:  fifa is a ban in the ban in the united states the ban will be in the united states the ban will be in the united states\n",
            "\n",
            "\n",
            "Review: ew com guessing game star adaptation fifty shades grey erotic novel e l james sold 70 million copies worldwide continues film directed sam taylor johnson slated hit theaters august next year far news gotten names actors going appear movie list actors denied rumors star film emma watson sam husband aaron johnson taylor please click latest names roles anastasia ana steel christian grey dakota johnson charlie hunnam dakota 23 daughter johnson melanie griffith appeared social network justin timberlake 21 jump street five year engagement fox show ben kate hunnam 33 recently starred summer pacific rim well undeclared sons anarchy however source universal close making casting offers time means game far fifty shades grey slated hit theaters august 2014 see original story ew com click try 2 risk free issues entertainment weekly 2011 entertainment weekly time inc rights reserved \n",
            "Original summary: we still don not know who will be in the 50 shades movie charlie and dakota johnson are the latest names discussed the film is scheduled to hit theaters in august 2014 \n",
            "Predicted summary:  the film will play the sequel to star the film is a new the film is the first time of the movie is the first time of the movie is the first time of the series\n",
            "\n",
            "\n",
            "Review: lockdown imposed tuesday afternoon indiana university university indianapolis lifted according school twitter account students staff university asked take shelter earlier tuesday afternoon police investigated report armed person campus according school twitter account website students remain shelter location clear received clear message came 4 36 p returning campus normal operations tweet read school say whether gunman found 30 000 students go school indianapolis \n",
            "Original summary: gunman had been reported at indiana indianapolis campus all clear issued hours after it was put on lockdown university did not say whether a gunman was found \n",
            "Predicted summary:  new the man was found in the river the incident happened in the river the incident happened in the river the incident happened in the area of the\n",
            "\n",
            "\n",
            "Review: jakarta indonesia indonesia sunday released australian teen convicted marijuana possession resort island bali boy spent two months detention local prosecutor said 14 year old sentenced late november two months marijuana use case drawn international attention sentence included time already served local prosecutors said leave indonesia entering nation six months prosecutor said arrested october teen moved prison immigration center latter favorable teenager prosecutor said authorities arrested holiday parents bali arrest boy attorney mohammad said hoped avoid prison sentence released undergo drug rehabilitation indonesia drug laws among world provision article 128 arrested small amounts drugs released rehabilitation prove addict case underage offenders requires declaration youth parents officials said visitors country warned arrival drug crimes carry maximum penalty death still many arrested convicted various drug offenses two australians death row bali prison six others serving life sentences \n",
            "Original summary: the teen is sentence included time already served he is expected to leave indonesia the prosecutor says he is from re entering indonesia for six months \n",
            "Predicted summary:  new york judge says he was convicted of the killing of the year is death of the case is under the case\n",
            "\n",
            "\n",
            "Review: washington development threatens engulf civil war battlefields group said released annual list endangered battle sites wednesday civil war fire cannon gettysburg battlefield 2003 town town irreplaceable battlefields define communities marred forever said james head civil war preservation trust approach bloodiest conflict nation history need aware ever importance preserving sacred places generations come group says helped save 25 000 acres civil war battlefields 18 states topping 2009 list endangered battlefields maryland preservation trust wants prevent trash processing facility 350 foot built nearby virginia group fighting keep wal mart going edge wilderness battlefield also year list site 160 000 union confederate troops fought two day battle 1864 national shrines monuments american valor determination courage actor richard said prepared remarks irreplaceable treasures gone gone forever involved pair civil war documentaries rounding group top 10 list endangered battlefields \n",
            "Original summary: development threatens to historic civil war sites group says trash processing center may be built near maryland wal mart store to virginia is sites are actor richard says \n",
            "Predicted summary:  new the recall of the u s states the company says the move will be a new the u s subsidiary in the region is the highest of the region is the highest of the united states\n",
            "\n",
            "\n",
            "Review: los angeles discovery two years ago man decapitated head near hollywood sign began murder mystery police believed solved gabriel campos martinez 38 charged monday death 66 year old medellin whose head several body parts found woman walking dog hollywood griffith park january 17 2012 according los angeles district attorney campos martinez medellin shared hollywood apartment six months los angeles county deputy district attorney bobby grace said coroner concluded medellin died result asphyxiation ruled death homicide grace said investigators revealed motive gruesome killing police believe occurred around december 27 2011 murder charge filed monday campos martinez arrested san antonio texas sunday held 1 million bail awaiting extradition hearing dog walker whose golden discovered head near trail hollywood sign said first thought head movie prop assumption always people filming prop lauren said 2012 walked ravine got closer realized freshly severed human head cadaver dogs eventually found several hands feet torso wooded area near home actor brad pitt \n",
            "Original summary: gabriel martinez is charged with killing his former a dog walker found is head near the hollywood sign in january 2012 investigators have not revealed a motive for the killing \n",
            "Predicted summary:  police say he was arrested in a manhattan hospital he was found in a manhattan room in a manhattan he was found in a manhattan area of a homicide\n",
            "\n",
            "\n",
            "Review: success kid likely internet famous baby seen dozens memes fist determined look despite odds success kid 8 year old named sammy griner needs little bit mojo rub family dad justin needs kidney transplant week ago laney griner justin wife sammy mother created campaign goal 75 000 help cover medical expenses go along kidney transplant campaign already success wednesday topped goal griner told daily dot husband diagnosed kidney disease 2006 suffered complete kidney failure three years later one survive natural kidney function long laney griner said energy mood affected longer work spends 12 hours week dialysis clinic dialysis long greatly increases risks developing complications way save life get transplant way around said family know kidney might become available page link potential donors sammy internet fame began 2007 mom posted picture beach fist full sand satisfied look face myspace picked reddit rest internet history success seems run families \n",
            "Original summary: the campaign has already topped its 75 000 goal justin the dad of success kid needs a kidney transplant \n",
            "Predicted summary:  the new york is the first person to the new york is the first time of the new york is the first time of the new york is the first time of the most famous famous\n",
            "\n",
            "\n",
            "Review: iran says sent monkey space second time representing nation latest step toward sending humans space iranian president hassan rouhani tweeted saturday total 2nd monkey sent space returned perfect health iran congratulate leader scientists nation rouhani said launch part nation national research week iranian state news agency irna said monkey name combination two farsi words luck launched 75 miles 120 kilometers space back 15 minute mission irna reported iran made similar announcement january saying launched first monkey space strapped rocket returned safely earth announcement met skepticism u state department spokeswoman victoria nuland told reporters saw pictures poor little monkey united states way confirm happened one way another concerns iran development space launch vehicle technologies obviously well known space launch vehicle capable placing object orbit directly relevant development long range ballistic missiles told reporters \n",
            "Original summary: iran is president says it has launched a monkey into space in total this is the monkey sent into space president hassan rouhani tweets iran said the other launch happened in january \n",
            "Predicted summary:  the u s embassy says the u s embassy says the move will be a u s embassy says the u s embassy says the u s embassy says the united states will be seen in the united states\n",
            "\n",
            "\n",
            "Review: daughter actor billy bob thornton found guilty manslaughter death infant wednesday florida jury acquitted murder child abuse charges court spokeswoman said amanda brumfield 32 accused october 2008 death 1 year old olivia madison garcia child fell suffered fatal injuries trial ended wednesday orlando florida according court spokesman karen connolly levey thornton released statement publicist year ago brumfield charged actor estranged daughter contact quite time publicist arnold robinson said informed situation thornton commented anytime baby life lost unimaginable tragedy heart goes baby family loved ones robinson told written statement brittany kaplan contributed report \n",
            "Original summary: amanda was an infant who died after a fall she was acquitted of murder and child abuse 32 is from her actor father \n",
            "Predicted summary:  the actress was arrested in a los angeles in july the singer was sentenced to a hospital in prison for a murder of the year\n",
            "\n",
            "\n",
            "Review: washington u military personnel officially allowed tweet pentagon long awaited policy rank file personnel using online social media unveiled friday new rules authorize access facebook twitter youtube social media web sites government computers long activity compromise operational security involve prohibited activities web sites military various branches departments differing policies regarding social media use marine corps instance prohibited use social media sites computers 2007 according pentagon pentagon announced policy friday via social media facebook twitter addition using department defense web site said spokesman bryan whitman directive recognizes importance balancing appropriate security measures capabilities afforded 21st century internet tools said deputy defense secretary william j lynn iii signed policy new policy denies military personnel access sites promoting gambling pornography hate crimes government computers world web 2 0 internet provides amazing opportunities collaborate said david deputy assistant secretary defense information management technology promotes information sharing across organizational boundaries mission partners also enables deployed troops maintain contact loved ones home new policy allows commanders temporarily restrict online access maintain operations security address bandwidth \n",
            "Original summary: facebook twitter youtube other social media web sites ok on computers of military previously had policies new rules balance security with power of internet official says \n",
            "Predicted summary:  the move is a of the move to be a new the u s security service says the move will be a new a new york is the region is a new the u s security\n",
            "\n",
            "\n",
            "Review: english premier league side tottenham confirmed brazil midfielder sandro join club end season subject medical 21 year old currently plays home country head spurs end participation copa tournament sandro made 73 appearances club helped finish second brazilian championship last season tottenham manager harry told reporters tuesday would fantastic chairman dealing got phone call morning chairman saying thought close hopefully get done good signing outstanding young player verge brazilian team already played brazil captained strong looks good player looking forward getting tottenham currently fourth english premier league finish end season qualify money spinning champions league sandro made debut brazil world cup qualifier chile september also led 20 side south american youth championship venezuela february 2009 meanwhile tottenham london rivals west ham united confirmed working bid local council occupy london olympic stadium games 2012 would play premier league games stadium would also used centre sport community vice chairman brady told club web site want grab lifetime opportunity create real life changing legacy part london wider area well \n",
            "Original summary: agree a deal to sign brazil international currently plays for brazilian club west want to move into the london olympic stadium after the 2012 games \n",
            "Predicted summary:  wins the world cup of the united states in the world cup finals in the world cup finals in the world cup finals in the united states\n",
            "\n",
            "\n",
            "Review: buenos aires argentina argentine dirty war era general sentenced life prison killing five people dictatorship benjamin menendez former head third army corps already serving life sentence violating human rights four others panel judges argentine court handed sentence wednesday sentenced along menendez former policeman roberto also sent prison life 30 000 students labor leaders intellectuals leftists ran afoul dictatorship political views disappeared held secret jails torture centers nation eight year dirty war menendez recent trial stems army police assault home province may 20 1976 according argentina center judicial information group urban guerrilla group meeting inside house forces launched explosives entered house center said soldiers police killed four people inside house also killed one escaped \n",
            "Original summary: benjamin was the head of the third army corps he was sentenced to life for the killing of five people he was already serving a life sentence for human rights \n",
            "Predicted summary:  the judge says the former president is the trial of the case the former president is accused of the killing of the case the former president says the case is the first time of the united states\n",
            "\n",
            "\n",
            "Review: bogota colombia volcano southwest colombia erupted friday morning raining ash nearby residents agricultural fields galeras volcano erupting january 2008 considered active volcano colombia none 8 000 residents live near galeras volcano reported injured officials said second time less week volcano erupted government geological mining institute raised alert level yellow red officials opened eight shelters displaced residents authorities ordered 8 000 people live near volcano evacuate city 35 000 residents 12 miles 20 kilometers volcano crater received heavy downpour ashes friday volcano near colombia border ecuador previously erupted saturday erupted several times since became active 1989 fatalities 1993 nine people scientists tourists near volcano crater killed volcano crater 14 029 feet 4 276 meters sea level andes mountains considered active volcano colombia journalist fernando ramos contributed report \n",
            "Original summary: authorities order evacuation of 8 000 people who live near volcano no injuries reported volcano erupts for second time in less than a week nearby city of receives of \n",
            "Predicted summary:  new the storm is expected to be mph tropical storm the volcano is expected to be in effect on monday\n",
            "\n",
            "\n",
            "Review: honolulu president barack obama done every president since franklin roosevelt done visited uss arizona memorial pearl harbor hawaii accompanied wife obama thursday marked year 70th anniversary 1941 pearl harbor attacks laying wreath inside memorial white yellow purple flower petals water wrecked ship sporting dark suit attire obama frequently wears washington something seen current vacation president observed moment silence shrine room memorial president made remarks memorial however marked anniversary earlier month releasing statement said salute veterans survivors pearl harbor inspire us still despite overwhelming odds fought back inspiring nation putting us path victory adm robert willard navy commander u pacific command along donna willard admiral wife also accompanied first family memorial dedicated 1962 memorial sits sunken uss arizona commemorates 2 300 lives lost japan launched surprise attack navy base attack propelled u military involvement world war ii triggered county involvement came known pacific theater stop part obama larger christmas vacation hawaii born aloha state president made hawaii regular vacation destination family office president first visit memorial president elect obama visited memorial late 2008 \n",
            "Original summary: this month marks the anniversary of the attack more than 2 300 lives were lost in the surprise attack by japan every president since has visited the memorial \n",
            "Predicted summary:  the president says obama will be on the next month the president says the move will be a of the president obama says the move will be on the next month\n",
            "\n",
            "\n",
            "Review: end era new york radio station hot 97 hip hop r b station losing one major talents angie martinez abruptly jumped ship rival station power 105 washington post reports martinez hot 97 20 years favorite hip hop fans performers alike posted departure social media today resigned posted grateful family time company way shaped life made history together many ways cherish memories friendships forever calling one toughest decisions ever make martinez went thank fan base thank importantly listeners unimaginable journey wrote quickly morning crew power 105 tweeted welcoming martinez aboard welcome voice new york wrote two stations rivals years martinez reportedly also heard beat miami \n",
            "Original summary: martinez has been with hot for decades she announces on instagram that she is leaving the station a rival station tweets back to welcome her \n",
            "Predicted summary:  the new york is the first person to be featured in the world is the first time of the new york is the first time of the famous\n",
            "\n",
            "\n",
            "Review: bulgarian police investigation last week bombing attack israeli tourists towns near border romania asking hotels surveillance video might captured suspected bomber hotels black sea coastal city say police asking video showing particular suspect giving sketch suspect management investigators also questioned workers car rental agency near black sea coast man attempted rent car wednesday attack agency owner told five israeli tourists killed 30 israelis wounded suicide bomber blew apart bus international airport explainer bulgaria explosion amid growing iranian israeli tension bulgarian authorities still able identify bomber seen airport security videos hour attack taken fingerprints dna samples given information counterparts israel united states interpol bulgarian interior ministry says ruling possibility suspect help though comment reports authorities looking second suspect owner employee car rental agency told suspicious man wanted rent car sunday attack tried use michigan driver license later found scene attack owner said wanted license man grew nervous refused copied point owner said refused rent man car man walked car rental owner described man short dark hair speaking english accent woman conducted forensic reconstruction suspected bomber face body told bulgarian tv man white face light eyes thick dark hair \n",
            "Original summary: police are asking hotels for surveillance video the suspect was also seen at a car agency five israelis were killed in a suicide bombing last week authorities do not rule out the possibility of a second suspect \n",
            "Predicted summary:  new the explosion was killed in a vehicle near the neighborhood the attack was killed in a hospital in the attack the blast occurred in the attack\n",
            "\n",
            "\n",
            "Review: authorities arrested one fbi 10 wanted fugitives mexico fbi said friday jose joe luis saenz wanted multiple slayings los angeles captured late thursday exactly known bill lewis assistant director charge fbi los angeles field office thanked various groups involved saenz arrest including mexican federal police mexican national institute immigration mexican attorney general fbi legal mexico city sub office guadalajara mexico saenz expected return los angeles mexico weekend fbi escort fbi accuses saenz killing four people two rival gang members girlfriend 1998 fourth victim 10 years later also accused kidnapping raping girlfriend mother child fbi offering reward 100 000 information led directly arrest saenz added fbi list 10 wanted fugitives october 2009 individual jose saenz brought justice los angeles county sheriff lee baca said find prosecute full extent law make mistake \n",
            "Original summary: jose joe luis is wanted in multiple killings in los angeles he was arrested late thursday in mexico exactly where is not known was added to the fbi is list of 10 most wanted in 2009 \n",
            "Predicted summary:  the fbi says the fbi says the fbi says the fbi says the fbi says the fbi says the fbi says the fbi says the fbi says the fbi says the fbi says the fbi says the fbi says\n",
            "\n",
            "\n",
            "Review: london singer george michael pneumonia forced cancel least four shows website says currently receiving treatment brief statement says representative connie told singer mend receiving medication would disclose information michael contracted illness michael postponed shows scheduled weekend cardiff wales putting shows earlier week vienna austria strasbourg france also show london concert scheduled october 26 concert scheduled may 2 2012 website says said time thrown back stephanie halasz contributed report \n",
            "Original summary: new pop star george michael is on the his representative says the singer has pneumonia he announces \n",
            "Predicted summary:  the singer was a of the singer is the first time of the singer is the first time of the singer is the first time of the daytime emmy\n",
            "\n",
            "\n",
            "Review: british formula one team williams south american line next year pastor maldonado signing drive alongside barrichello maldonado first venezuelan since johnny 1984 drive f1 car lines alongside brazilian veteran barrichello bahrain grand prix march 25 year old takes seat young german nico left unable agree new contract following successful rookie year maldonado series title year becoming first driver win six successive races tested williams abu dhabi best winter prepare know team working hard ensure successful season told williams website thursday 2011 first time nearly 30 years venezuelan driven formula one car looking get good results return support country given help get position today seven time national champion monaco debut season 2007 since regularly reminded us talent wins particularly year championship team principal frank williams said course already know pastor time spent team abu dhabi test much looking forward developing talent winter season next year \n",
            "Original summary: pastor will be the first venezuelan to drive in f1 since the 1980s williams sign the 25 year old to replace he will be the british team is second driver alongside brazil is \n",
            "Predicted summary:  antonio wins the world cup of the world is championship in the world cup championship the brazilian has signed a for the world cup finals in the united states\n",
            "\n",
            "\n",
            "Review: iranian actress sentenced year jail 90 lashes appearing film critical country government released according amnesty international film producers actress marzieh recently released tehran sale film appears one scene without head covering iranian women must wear another appears drink alcohol amnesty international said released monday night appeals court cut sentence three months overturned 90 lashes rights group said films produced tehran sale reported actress family filmmakers believe freedom speech support artists imprisoned punished iran expressing art admire courage contribution make sharing world truth life iranian people said kate julie ryan producers film august international campaign human rights iran said interviewed actress husband iranian filmmaker nasser bitter tale artists end prison profession painful actor cannot say would film would film nobody would give work anymore group website quoted saying rights groups previously blasted iran slamming record media arts particular say government cracking workers film industry recent months increasing number filmmakers actors targeted persecution iran release marzieh welcome development deeply worrying three filmmakers still held tehran evin prison said amnesty international deputy director middle east north africa according rights group filmmakers mir \n",
            "Original summary: actress stars in the film my tehran for sale an appeals court reportedly her sentence rights groups accuse the iranian government of targeting film workers \n",
            "Predicted summary:  the couple is a new woman in the new york is the latest of the new york is the most of the most of the most of the most of the most of the most of the most of\n",
            "\n",
            "\n",
            "Review: london buildings burning prison southern england saturday 12 hours prisoners started riot smashing windows setting fires fires burning least two buildings ford open prison numerous one story residence halls grassy campus least one buildings destroyed according aerial footage scene two fire engines escorted specialist prison officers riot gear went onto prison grounds saturday afternoon fires engulfed large parts two buildings sending thick black smoke air ministry justice said reports injuries either prisoners staff incident began around midnight 7 p et friday forced prison staff retreat police firefighters specialist teams prison officers called additional 140 prison service staff arrived ford around midday saturday help bring prison full control ministry justice said emphasizing indication situation escalating ford former royal navy station arundel near coast two hours south london converted prison 1960 houses offenders fewer two years left serve sentences prisoners convicted variety offenses though prison accept convicted arson sexual offenses harassment \n",
            "Original summary: buildings are still burning 12 hours after the riot started at least one of the buildings was destroyed no injuries have been reported ford is near england is southern coast \n",
            "Predicted summary:  new the ship was carrying a coast of the ship the ship was carrying a nearby ship the ship was carrying the coast guard says\n",
            "\n",
            "\n",
            "Review: past 25 years anything go germany proven firm position world economic powerhouse since fall berlin wall 1989 county thrust forward developing world class car manufacturing industry network small medium size businesses represent backbone country economy weathered tough times famously branded sick man europe economist magazine 2004 however today country ranks world fourth largest economy one lowest unemployment rates one highest literacy rates world click slides infographic see germany numbers average hours worked per year percentage internet users country read germany 25 years later looking back send us pictures ireport wants know favorite thing berlin \n",
            "Original summary: click though the to see germany by numbers \n",
            "Predicted summary:  the new is the largest largest in the new the new york is the world is largest in the new york is largest in the new york is largest in the world is largest in the capital\n",
            "\n",
            "\n",
            "Review: san francisco three judge panel hear motions thursday whether federal court decision ban sex marriages california overturned judge gay long term relationship federal district court judge vaughn walker since retired overturned voter approved measure known proposition 8 two week trial 2010 saying gay lesbian couples unfairly denied right marry june district court judge james ware upheld ruling former colleague reasonable presume judge incapable making impartial decision constitutionality law solely citizen judge could affected proceedings ware ruled ware based san francisco backed original ruling walker ban sex marriage state unconstitutional violation equal protection also thursday hearing ninth circuit court appeals hear motion release trial video 9th circuit hearing year ago indicated inclined toss prop 8 sides dispute acknowledge issue sex marriage likely headed u supreme court perhaps within coming year \n",
            "Original summary: a judge ruled the law unconstitutional and later revealed he was gay 8 marriages only between one man and one woman the case is expected to end up in the u s supreme court both sides say \n",
            "Predicted summary:  the judge says the ruling is not the ruling to the same court the ruling court says the ruling was convicted of the same sex marriage the ruling was convicted of the law\n",
            "\n",
            "\n",
            "Review: hole one klm open amsterdam golfer andy sullivan prize truly world englishman found cup tee shot 15th hole bagged flight space courtesy dutch aerospace company aerospace pledged 62 minute space flight player could card hole one 15th golf country club trip valued 95 000 115 000 shouted going space unreal experience play great round hit shot like sullivan told european tour official website going professional golfer gone sullivan needs run idea wife sure go check said sullivan great heights flying might coverage think new nickname daughter think best dad world professional golfer astronaut got best dad world going serious courage lifetime experience going \n",
            "Original summary: english golfer wins trip into space after hole in one andy offered the flight after finding the cup at the open dutch company behind the prize \n",
            "Predicted summary:  the world cup of the world cup of the world cup the world cup of the world cup the world cup winner will be in the world cup finals in the world cup finals in the world cup\n",
            "\n",
            "\n",
            "Review: may feathers relentless quest exhaust galaxy new marketing opportunities angry birds partnered lucasfilm star wars themed version blockbuster mobile game new game launches thursday major platforms ios android amazon kindle fire mac pc windows phone windows 8 quote rovio entertainment press release game follows group rebel birds fight evil imperial pigs players get use force lightsaber blast away journey deserts depths pig star angry birds star wars features 80 levels successful players eventually face version darth vader game fifth major installment angry birds franchise racked 1 billion downloads since launching 2009 addictive angry birds perhaps cross promotional marriage entertainment inevitable rovio angry birds spawned board games books toys soda pop star wars lent name everything comic books umbrellas shocked hear angry birds star wars merchandise already sale retailers worldwide \n",
            "Original summary: angry birds star wars launches thursday on multiple the new game features more than 80 levels players will get to use the force a and blast away \n",
            "Predicted summary:  the new will be a new the top of the new the new the top of the new the new the top of the new the top of the top of the list of the list the new is\n",
            "\n",
            "\n",
            "Review: student news october 28 2011 download pdf maps related today show greece thailand click access transcript today student news program please note may delay time video available transcript published \n",
            "Original summary: daily transcript is a written version of each day is student news program use this transcript to help students with reading comprehension and vocabulary use the weekly newsquiz to test your knowledge of stories you saw on student news \n",
            "Predicted summary:  use the weekly newsquiz to test your knowledge of stories you saw on student news write your answers in the space provided today is newsquiz includes the media literacy question of the day\n",
            "\n",
            "\n",
            "Review: nickname fever mexican officials say jose carlos moreno flores major drug lord charge trafficking operations large mexican cartel coastal state guerrero beach resort acapulco located according mexico ministry defense moreno flores caught sunday mexico city district capture particularly important moreno allegedly tied sinaloa cartel led joaquin el chapo guzman mexico wanted man guzman remains fugitive commands vast international drug trafficking network profits illicit trade big made forbes magazine list world powerful appeared number 60 last year list estimated fortune 1 billion magazine calls biggest drug lord ever u drug enforcement administration offering 5 million reward information leading capture guzman mexico top drug kingpin lord reportedly 54 captured guatemala 1993 escaped eight years later officials say moreno flores considered one guzman business drug traffickers costa rica guatemala base operations capital state guerrero moreno flores shipped drugs mainly cocaine united states land fever also allegedly charge cultivation harvesting distribution marijuana fertile mountain region guerrero state violence recently increased group sinaloa cartel operatives led moreno flores fighting turf war rival group known los red ones caught moreno flores possession three high caliber weapons communication equipment one unspecified vehicle \n",
            "Original summary: jose carlos works for a large drug cartel mexican officials say he is linked to mexico is most wanted man they say he shipped cocaine to the u s mostly by land the officials say \n",
            "Predicted summary:  the fbi says the men were arrested in the united states the fbi says the fbi says the fbi says the fbi says the fbi says the fbi says the fbi says the fbi says the fbi says the\n",
            "\n",
            "\n",
            "Review: valencia led trio spanish clubs semifinals europa league 4 0 thrashing az alkmaar thursday trailing 2 1 first leg netherlands la liga side took 15 minutes stadium draw level aggregate adil rami scored quickly added second alba made three 56 minutes pablo hernandez completed rout 80th minute two time champions league finalists valencia 2004 uefa cup rafael benitez face fellow spanish club atletico madrid last four 2010 winners atletico 2 1 bundesliga hanover go 4 2 aggregate leading 2 1 first leg spanish capital atletico went ahead tie adrian lopez scored fine individual goal gave hanover late hope equalizer 81 minutes radamel falcao scored clinching goal atletico closing moments athletic impressive winners english premier league leaders manchester united quarterfinals held 2 2 schalke home ground basque side went 6 4 aggregate schalke beaten 4 2 spaniards home leg twice led raul jan huntelaar twice pegged back gomez scored bilbao earned semifinal clash sporting lisbon portuguese side put manchester city previous round drew 1 1 metalist ukraine advance 3 2 aggregate ricky van put sporting ahead argentinian striker jonathan leveled ukrainians \n",
            "Original summary: three spanish clubs in semifinals of europa league valencia beat az alkmaar 4 0 to go through 5 2 on and madrid also advance sporting represent portugal in last four \n",
            "Predicted summary:  barcelona beat leverkusen beat 0 0 in bundesliga bundesliga leverkusen win in bundesliga sets in bundesliga leverkusen beat leverkusen in the world cup of the world cup of the world cup\n",
            "\n",
            "\n",
            "Review: search lion essex near london called even big cat fame grows twitter according police spokesman sighting lion sunday night likely large domestic cat spokesman added nothing found suggest lion area search underway since reported seeing lioness roaming fields sunday evening search continued many took twitter claim sightings account picked 35 000 followers personal trainer danny osborne claimed lion fact snow leopard fake tan hair extensions comedian david schneider tweeted spotted lion taking refuge ecuadorian embassy london police statement said would like thank local community patience support throughout past 24 hours police media presence would somewhat overwhelming lion twitter fame followed reporting believed lioness loose sue wright told believed saw lioness field looked following alert sister law wright said animal big probably reaching person waist said became concerned particularly stood sure direction going head earlier statement essex police said experts zoo scoured area using police helicopter thermal imaging camera try find animal police advised people extra vigilant cautious \n",
            "Original summary: the search for a lion in near london has been called off however twitter has been active with lion the search came after said they saw a in a field \n",
            "Predicted summary:  the incident was discovered by a police station the incident was discovered in the weekend the incident happened in the area of the\n",
            "\n",
            "\n",
            "Review: beijing seventy two people missing three chinese fishing boats sank south china sea amid stormy weather caused typhoon state media reported two vessels sunday afternoon battled 330 kilometers chinese island hainan state run news agency xinhua reported third one sank monday morning said tuesday morning rescuers retrieved 16 survivors state run china news service reported citing hainan government rescue operations hampered strong rough seas total five fishing boats 171 crew aboard caught storm hainan maritime search rescue center said according xinhua two vessels managed survive harsh conditions three boats sank southern chinese province guangdong president xi jinping urged local authorities utmost find missing stranded minimize casualties state media reported xi also ordered armed forces central government departments help rescue effort storm typhoon made landfall central vietnam late monday authorities relocated tens thousands people areas risk storm approached 22 dead boat capsizes near indonesia 38 dead philippines boat collision cy xu beijing elizabeth joseph hong kong contributed report \n",
            "Original summary: new sixteen people have been rescued as of tuesday morning state media report three boats from province after being caught in a storm typhoon made landfall on vietnam is central coast late monday \n",
            "Predicted summary:  new the ship was carrying a fire in the ship the ship was carrying the coast of the ship the ship was evacuated the ship is under investigation\n",
            "\n",
            "\n",
            "Review: australian author best selling novel thorn birds died great sadness harpercollins books australia advise iconic much loved author colleen mccullough passed away thursday hospital norfolk island aged 77 publisher posted facebook 1977 novel thorn birds sold 30 million copies worldwide made tv miniseries 1983 starring richard chamberlain barbara jean simmons christopher plummer generation spanning novel set australian priest torn calling lure rancher daughter epic resulted second highest rated miniseries ever roots according tv guide time book rights sold record setting price 1 9 million mccullough born australia lived studied abroad many years worked hospitals australia britain 10 years yale medical school new connecticut aside thorn birds mccullough wrote ten novels including historical series masters rome recent novel bittersweet published 2013 also featured australian post postage stamp one first australian writers succeed world stage according harpercollins books australia sad lose colleen mccullough contribution storytelling stuff legend greatly missed random house books australia tweeted people lost 2015 \n",
            "Original summary: was a by training she wrote many novels about complex human relationships \n",
            "Predicted summary:  the new york is the first person to the age of the world is the first person was the first person to the world is the famous famous famous career\n",
            "\n",
            "\n"
          ],
          "name": "stdout"
        }
      ]
    },
    {
      "cell_type": "code",
      "metadata": {
        "colab": {
          "base_uri": "https://localhost:8080/"
        },
        "id": "JYi-Fsy1juFt",
        "outputId": "770eb16a-1857-48f2-b023-f02ded781d94"
      },
      "source": [
        "!pip install sumeval"
      ],
      "execution_count": null,
      "outputs": [
        {
          "output_type": "stream",
          "text": [
            "Collecting sumeval\n",
            "\u001b[?25l  Downloading https://files.pythonhosted.org/packages/e6/87/bfc0f9397b9421305863edfdd2dbea637e47204976cb5473535c856338f4/sumeval-0.2.2.tar.gz (80kB)\n",
            "\u001b[K     |████████████████████████████████| 81kB 5.8MB/s \n",
            "\u001b[?25hRequirement already satisfied: plac>=0.9.6 in /usr/local/lib/python3.7/dist-packages (from sumeval) (1.1.3)\n",
            "Collecting sacrebleu>=1.3.2\n",
            "\u001b[?25l  Downloading https://files.pythonhosted.org/packages/7e/57/0c7ca4e31a126189dab99c19951910bd081dea5bbd25f24b77107750eae7/sacrebleu-1.5.1-py3-none-any.whl (54kB)\n",
            "\u001b[K     |████████████████████████████████| 61kB 8.1MB/s \n",
            "\u001b[?25hCollecting portalocker==2.0.0\n",
            "  Downloading https://files.pythonhosted.org/packages/89/a6/3814b7107e0788040870e8825eebf214d72166adf656ba7d4bf14759a06a/portalocker-2.0.0-py2.py3-none-any.whl\n",
            "Building wheels for collected packages: sumeval\n",
            "  Building wheel for sumeval (setup.py) ... \u001b[?25l\u001b[?25hdone\n",
            "  Created wheel for sumeval: filename=sumeval-0.2.2-cp37-none-any.whl size=54536 sha256=fbba13630cba217064536ea61de4e1df574fbe3ce36580631a18b3db48472fe4\n",
            "  Stored in directory: /root/.cache/pip/wheels/7b/6f/57/19ceecab21445c88f3c565735fa1887b4cd18d340c972eb445\n",
            "Successfully built sumeval\n",
            "Installing collected packages: portalocker, sacrebleu, sumeval\n",
            "Successfully installed portalocker-2.0.0 sacrebleu-1.5.1 sumeval-0.2.2\n"
          ],
          "name": "stdout"
        }
      ]
    },
    {
      "cell_type": "code",
      "metadata": {
        "id": "pXFrCcSkS_gp"
      },
      "source": [
        "from sumeval.metrics.rouge import RougeCalculator"
      ],
      "execution_count": null,
      "outputs": []
    },
    {
      "cell_type": "code",
      "metadata": {
        "id": "Le_2iV4lTN6-"
      },
      "source": [
        "predictions = []\n",
        "reference=[]\n",
        "\n",
        "for i in range(0,50):\n",
        "#    print(\"Review:\",seq2text(x_tr[i]))\n",
        "    origsum = seq2summary(y_tr[i])\n",
        "    reference.append(origsum)\n",
        "    predsum = decode_sequence(x_tr[i].reshape(1,max_text_len))\n",
        "    predictions.append(predsum)\n",
        "#    print(\"Original summary:\",seq2summary(y_tr[i]))\n",
        "#    print(\"Predicted summary:\",decode_sequence(x_tr[i].reshape(1,max_text_len)))\n",
        "#    print(\"\\n\")"
      ],
      "execution_count": null,
      "outputs": []
    },
    {
      "cell_type": "code",
      "metadata": {
        "colab": {
          "base_uri": "https://localhost:8080/"
        },
        "id": "ioX9oS7pUHAO",
        "outputId": "d10fa0cf-994e-4856-8a16-6e2ec63ea9a4"
      },
      "source": [
        "rouge = RougeCalculator(stopwords=True, lang=\"en\")\n",
        "Rouge_1 = []\n",
        "Rouge_2 = []\n",
        "Rouge_l = []\n",
        "\n",
        "for i in range(len(predictions)):\n",
        "\n",
        "    rouge_1 = rouge.rouge_n(\n",
        "    summary=predictions[i],\n",
        "    references=reference[i],\n",
        "    n=1)\n",
        "    Rouge_1.append(rouge_1)\n",
        " \n",
        " \n",
        " ## rogue_2\n",
        "\n",
        "    rouge_2 = rouge.rouge_n(\n",
        "    summary=predictions[i],\n",
        "    references=reference[i],\n",
        "    n=2)\n",
        "    Rouge_2.append(rouge_2)\n",
        " ## rogue_l\n",
        "\n",
        "    rouge_l = rouge.rouge_l(\n",
        "    summary=predictions[i],\n",
        "    references=reference[i])\n",
        "    Rouge_l.append(rouge_l)\n",
        "\n",
        "print(\"ROUGE-1: {}, ROUGE-2: {}, ROUGE-L: {}\".format(np.round(sum(Rouge_1)/len(Rouge_1),3),\n",
        " np.round(sum(Rouge_2)/len(Rouge_2),3),\n",
        " np.round(sum(Rouge_l)/len(Rouge_l),3)\n",
        "))"
      ],
      "execution_count": null,
      "outputs": [
        {
          "output_type": "stream",
          "text": [
            "ROUGE-1: 0.055, ROUGE-2: 0.006, ROUGE-L: 0.05\n"
          ],
          "name": "stdout"
        }
      ]
    },
    {
      "cell_type": "code",
      "metadata": {
        "id": "lK3aelGKUEnc"
      },
      "source": [
        ""
      ],
      "execution_count": null,
      "outputs": []
    }
  ]
}