{
  "nbformat": 4,
  "nbformat_minor": 0,
  "metadata": {
    "accelerator": "GPU",
    "colab": {
      "name": "news_summary.ipynb",
      "provenance": [],
      "collapsed_sections": [],
      "toc_visible": true,
      "machine_shape": "hm"
    },
    "kernelspec": {
      "display_name": "Python 3",
      "language": "python",
      "name": "python3"
    },
    "language_info": {
      "codemirror_mode": {
        "name": "ipython",
        "version": 3
      },
      "file_extension": ".py",
      "mimetype": "text/x-python",
      "name": "python",
      "nbconvert_exporter": "python",
      "pygments_lexer": "ipython3",
      "version": "3.7.4"
    }
  },
  "cells": [
    {
      "cell_type": "code",
      "metadata": {
        "colab": {
          "base_uri": "https://localhost:8080/"
        },
        "id": "s2OUklEf5Byo",
        "outputId": "2c97b309-9c1a-408f-8889-080e58b31924"
      },
      "source": [
        "from google.colab import drive\n",
        "drive.mount('/content/drive')"
      ],
      "execution_count": null,
      "outputs": [
        {
          "output_type": "stream",
          "text": [
            "Mounted at /content/drive\n"
          ],
          "name": "stdout"
        }
      ]
    },
    {
      "cell_type": "code",
      "metadata": {
        "id": "S-Kkwv7b7hDi"
      },
      "source": [
        "import sys\n",
        "sys.path.insert(0,'/content/drive/My Drive')"
      ],
      "execution_count": null,
      "outputs": []
    },
    {
      "cell_type": "code",
      "metadata": {
        "colab": {
          "base_uri": "https://localhost:8080/"
        },
        "id": "AJR8bl2_rEul",
        "outputId": "b62c4404-db6c-4828-f64d-9f1c32ffed39"
      },
      "source": [
        "import numpy as np\n",
        "import pandas as pd \n",
        "import re\n",
        "from keras.preprocessing.text import Tokenizer \n",
        "from nltk import download\n",
        "download('stopwords')\n",
        "from nltk.corpus import stopwords\n",
        "from tensorflow.keras.layers import Input, LSTM, Embedding, Dense, Concatenate, TimeDistributed\n",
        "from tensorflow.keras.models import Model\n",
        "from tensorflow.keras.callbacks import EarlyStopping\n",
        "import warnings\n",
        "from attention import AttentionLayer\n",
        "pd.set_option(\"display.max_colwidth\", 200)\n",
        "warnings.filterwarnings(\"ignore\")"
      ],
      "execution_count": null,
      "outputs": [
        {
          "output_type": "stream",
          "text": [
            "[nltk_data] Downloading package stopwords to /root/nltk_data...\n",
            "[nltk_data]   Unzipping corpora/stopwords.zip.\n"
          ],
          "name": "stdout"
        }
      ]
    },
    {
      "cell_type": "code",
      "metadata": {
        "colab": {
          "base_uri": "https://localhost:8080/",
          "height": 306
        },
        "id": "46G6F2DdrEux",
        "outputId": "853e3ef2-2ddb-4e98-e289-d72ee9fb8484"
      },
      "source": [
        "#reviews = pd.read_csv(\"drive/My Drive/Application/text_summary/news_summary.csv\")\n",
        "reviews = pd.read_csv(\"drive/My Drive/cnn/news_summary_more.csv\")\n",
        "print(reviews.shape)\n",
        "reviews.head()"
      ],
      "execution_count": null,
      "outputs": [
        {
          "output_type": "stream",
          "text": [
            "(98401, 2)\n"
          ],
          "name": "stdout"
        },
        {
          "output_type": "execute_result",
          "data": {
            "text/html": [
              "<div>\n",
              "<style scoped>\n",
              "    .dataframe tbody tr th:only-of-type {\n",
              "        vertical-align: middle;\n",
              "    }\n",
              "\n",
              "    .dataframe tbody tr th {\n",
              "        vertical-align: top;\n",
              "    }\n",
              "\n",
              "    .dataframe thead th {\n",
              "        text-align: right;\n",
              "    }\n",
              "</style>\n",
              "<table border=\"1\" class=\"dataframe\">\n",
              "  <thead>\n",
              "    <tr style=\"text-align: right;\">\n",
              "      <th></th>\n",
              "      <th>headlines</th>\n",
              "      <th>text</th>\n",
              "    </tr>\n",
              "  </thead>\n",
              "  <tbody>\n",
              "    <tr>\n",
              "      <th>0</th>\n",
              "      <td>upGrad learner switches to career in ML &amp; Al with 90% salary hike</td>\n",
              "      <td>Saurav Kant, an alumnus of upGrad and IIIT-B's PG Program in Machine learning and Artificial Intelligence, was a Sr Systems Engineer at Infosys with almost 5 years of work experience. The program ...</td>\n",
              "    </tr>\n",
              "    <tr>\n",
              "      <th>1</th>\n",
              "      <td>Delhi techie wins free food from Swiggy for one year on CRED</td>\n",
              "      <td>Kunal Shah's credit card bill payment platform, CRED, gave users a chance to win free food from Swiggy for one year. Pranav Kaushik, a Delhi techie, bagged this reward after spending 2000 CRED coi...</td>\n",
              "    </tr>\n",
              "    <tr>\n",
              "      <th>2</th>\n",
              "      <td>New Zealand end Rohit Sharma-led India's 12-match winning streak</td>\n",
              "      <td>New Zealand defeated India by 8 wickets in the fourth ODI at Hamilton on Thursday to win their first match of the five-match ODI series. India lost an international match under Rohit Sharma's capt...</td>\n",
              "    </tr>\n",
              "    <tr>\n",
              "      <th>3</th>\n",
              "      <td>Aegon life iTerm insurance plan helps customers save tax</td>\n",
              "      <td>With Aegon Life iTerm Insurance plan, customers can enjoy tax benefits on your premiums paid and save up to â¹46,800^ on taxes. The plan provides life cover up to the age of 100 years. Also, cust...</td>\n",
              "    </tr>\n",
              "    <tr>\n",
              "      <th>4</th>\n",
              "      <td>Have known Hirani for yrs, what if MeToo claims are not true: Sonam</td>\n",
              "      <td>Speaking about the sexual harassment allegations against Rajkumar Hirani, Sonam Kapoor said, \"I've known Hirani for many years...What if it's not true, the [#MeToo] movement will get derailed.\" \"I...</td>\n",
              "    </tr>\n",
              "  </tbody>\n",
              "</table>\n",
              "</div>"
            ],
            "text/plain": [
              "                                                             headlines                                                                                                                                                                                                     text\n",
              "0    upGrad learner switches to career in ML & Al with 90% salary hike  Saurav Kant, an alumnus of upGrad and IIIT-B's PG Program in Machine learning and Artificial Intelligence, was a Sr Systems Engineer at Infosys with almost 5 years of work experience. The program ...\n",
              "1         Delhi techie wins free food from Swiggy for one year on CRED  Kunal Shah's credit card bill payment platform, CRED, gave users a chance to win free food from Swiggy for one year. Pranav Kaushik, a Delhi techie, bagged this reward after spending 2000 CRED coi...\n",
              "2     New Zealand end Rohit Sharma-led India's 12-match winning streak  New Zealand defeated India by 8 wickets in the fourth ODI at Hamilton on Thursday to win their first match of the five-match ODI series. India lost an international match under Rohit Sharma's capt...\n",
              "3             Aegon life iTerm insurance plan helps customers save tax  With Aegon Life iTerm Insurance plan, customers can enjoy tax benefits on your premiums paid and save up to â¹46,800^ on taxes. The plan provides life cover up to the age of 100 years. Also, cust...\n",
              "4  Have known Hirani for yrs, what if MeToo claims are not true: Sonam  Speaking about the sexual harassment allegations against Rajkumar Hirani, Sonam Kapoor said, \"I've known Hirani for many years...What if it's not true, the [#MeToo] movement will get derailed.\" \"I..."
            ]
          },
          "metadata": {
            "tags": []
          },
          "execution_count": 5
        }
      ]
    },
    {
      "cell_type": "code",
      "metadata": {
        "colab": {
          "base_uri": "https://localhost:8080/"
        },
        "id": "HiAy3xbmrEvF",
        "outputId": "01743b50-3d8e-403a-bc87-ae62dcac159a"
      },
      "source": [
        "# Check for any nulls values\n",
        "reviews.isnull().sum()"
      ],
      "execution_count": null,
      "outputs": [
        {
          "output_type": "execute_result",
          "data": {
            "text/plain": [
              "headlines    0\n",
              "text         0\n",
              "dtype: int64"
            ]
          },
          "metadata": {
            "tags": []
          },
          "execution_count": 6
        }
      ]
    },
    {
      "cell_type": "code",
      "metadata": {
        "colab": {
          "base_uri": "https://localhost:8080/"
        },
        "id": "q_-ZGHXTrEvQ",
        "outputId": "b3887451-eb1a-4797-b5da-f5da09fc043d"
      },
      "source": [
        "# let's inspect some reviews\n",
        "for i in range(5):\n",
        "    print(\"Review: \",i+1)\n",
        "    print(reviews.headlines[i])\n",
        "    print('-'*80)\n",
        "    print(reviews.text[i])\n",
        "    print()"
      ],
      "execution_count": null,
      "outputs": [
        {
          "output_type": "stream",
          "text": [
            "Review:  1\n",
            "upGrad learner switches to career in ML & Al with 90% salary hike\n",
            "--------------------------------------------------------------------------------\n",
            "Saurav Kant, an alumnus of upGrad and IIIT-B's PG Program in Machine learning and Artificial Intelligence, was a Sr Systems Engineer at Infosys with almost 5 years of work experience. The program and upGrad's 360-degree career support helped him transition to a Data Scientist at Tech Mahindra with 90% salary hike. upGrad's Online Power Learning has powered 3 lakh+ careers.\n",
            "\n",
            "Review:  2\n",
            "Delhi techie wins free food from Swiggy for one year on CRED\n",
            "--------------------------------------------------------------------------------\n",
            "Kunal Shah's credit card bill payment platform, CRED, gave users a chance to win free food from Swiggy for one year. Pranav Kaushik, a Delhi techie, bagged this reward after spending 2000 CRED coins. Users get one CRED coin per rupee of bill paid, which can be used to avail rewards from brands like Ixigo, BookMyShow, UberEats, Cult.Fit and more.\n",
            "\n",
            "Review:  3\n",
            "New Zealand end Rohit Sharma-led India's 12-match winning streak\n",
            "--------------------------------------------------------------------------------\n",
            "New Zealand defeated India by 8 wickets in the fourth ODI at Hamilton on Thursday to win their first match of the five-match ODI series. India lost an international match under Rohit Sharma's captaincy after 12 consecutive victories dating back to March 2018. The match witnessed India getting all out for 92, their seventh lowest total in ODI cricket history.\n",
            "\n",
            "Review:  4\n",
            "Aegon life iTerm insurance plan helps customers save tax\n",
            "--------------------------------------------------------------------------------\n",
            "With Aegon Life iTerm Insurance plan, customers can enjoy tax benefits on your premiums paid and save up to â¹46,800^ on taxes. The plan provides life cover up to the age of 100 years. Also, customers have options to insure against Critical Illnesses, Disability and Accidental Death Benefit Rider with a life cover up to the age of 80 years.\n",
            "\n",
            "Review:  5\n",
            "Have known Hirani for yrs, what if MeToo claims are not true: Sonam\n",
            "--------------------------------------------------------------------------------\n",
            "Speaking about the sexual harassment allegations against Rajkumar Hirani, Sonam Kapoor said, \"I've known Hirani for many years...What if it's not true, the [#MeToo] movement will get derailed.\" \"In the #MeToo movement, I always believe a woman. But in this case, we need to reserve our judgment,\" she added. Hirani has been accused by an assistant who worked in 'Sanju'.\n",
            "\n"
          ],
          "name": "stdout"
        }
      ]
    },
    {
      "cell_type": "markdown",
      "metadata": {
        "id": "NOMNlPFErEva"
      },
      "source": [
        "# Lets cleaned datasets"
      ]
    },
    {
      "cell_type": "code",
      "metadata": {
        "id": "O_nWlhzXrEvc"
      },
      "source": [
        "CURRENCIES = {\n",
        "    \"$\": \"USD\", \"zł\": \"PLN\", \"£\": \"GBP\", \"¥\": \"JPY\", \"฿\": \"THB\", \"₡\": \"CRC\", \"₦\": \"NGN\",\"₩\": \"KRW\",\n",
        "    \"₪\": \"ILS\", \"₫\": \"VND\", \"€\": \"EUR\", \"₱\": \"PHP\", \"₲\": \"PYG\", \"₴\": \"UAH\", \"₹\": \"INR\",}\n",
        "CURRENCY_REGEX = re.compile(\n",
        "    \"({})+\".format(\"|\".join(re.escape(c) for c in CURRENCIES.keys())))\n",
        "\n",
        "EMAIL_REGEX = re.compile(\n",
        "    r\"(?:^|(?<=[^\\w@.)]))([\\w+-](\\.(?!\\.))?)*?[\\w+-]@(?:\\w-?)*?\\w+(\\.([a-z]{2,})){1,3}(?:$|(?=\\b))\",\n",
        "    flags=re.IGNORECASE | re.UNICODE,)\n",
        "\n",
        "# A list of contractions from http://stackoverflow.com/questions/19790188/expanding-english-language-contractions-in-python\n",
        "contractions =          {\"ain't\": \"is not\", \"aren't\": \"are not\",\"can't\": \"cannot\", \"'cause\": \"because\", \"could've\": \"could have\", \"couldn't\": \"could not\",\n",
        "                           \"didn't\": \"did not\",  \"doesn't\": \"does not\", \"don't\": \"do not\", \"hadn't\": \"had not\", \"hasn't\": \"has not\", \"haven't\": \"have not\",\n",
        "                           \"he'd\": \"he would\",\"he'll\": \"he will\", \"he's\": \"he is\", \"how'd\": \"how did\", \"how'd'y\": \"how do you\", \"how'll\": \"how will\", \"how's\": \"how is\",\n",
        "                           \"I'd\": \"I would\", \"I'd've\": \"I would have\", \"I'll\": \"I will\", \"I'll've\": \"I will have\",\"I'm\": \"I am\", \"I've\": \"I have\", \"i'd\": \"i would\",\n",
        "                           \"i'd've\": \"i would have\", \"i'll\": \"i will\",  \"i'll've\": \"i will have\",\"i'm\": \"i am\", \"i've\": \"i have\", \"isn't\": \"is not\", \"it'd\": \"it would\",\n",
        "                           \"it'd've\": \"it would have\", \"it'll\": \"it will\", \"it'll've\": \"it will have\",\"it's\": \"it is\", \"let's\": \"let us\", \"ma'am\": \"madam\",\n",
        "                           \"mayn't\": \"may not\", \"might've\": \"might have\",\"mightn't\": \"might not\",\"mightn't've\": \"might not have\", \"must've\": \"must have\",\n",
        "                           \"mustn't\": \"must not\", \"mustn't've\": \"must not have\", \"needn't\": \"need not\", \"needn't've\": \"need not have\",\"o'clock\": \"of the clock\",\n",
        "                           \"oughtn't\": \"ought not\", \"oughtn't've\": \"ought not have\", \"shan't\": \"shall not\", \"sha'n't\": \"shall not\", \"shan't've\": \"shall not have\",\n",
        "                           \"she'd\": \"she would\", \"she'd've\": \"she would have\", \"she'll\": \"she will\", \"she'll've\": \"she will have\", \"she's\": \"she is\",\n",
        "                           \"should've\": \"should have\", \"shouldn't\": \"should not\", \"shouldn't've\": \"should not have\", \"so've\": \"so have\",\"so's\": \"so as\",\n",
        "                           \"this's\": \"this is\",\"that'd\": \"that would\", \"that'd've\": \"that would have\", \"that's\": \"that is\", \"there'd\": \"there would\",\n",
        "                           \"there'd've\": \"there would have\", \"there's\": \"there is\", \"here's\": \"here is\",\"they'd\": \"they would\", \"they'd've\": \"they would have\",\n",
        "                           \"they'll\": \"they will\", \"they'll've\": \"they will have\", \"they're\": \"they are\", \"they've\": \"they have\", \"to've\": \"to have\",\n",
        "                           \"wasn't\": \"was not\", \"we'd\": \"we would\", \"we'd've\": \"we would have\", \"we'll\": \"we will\", \"we'll've\": \"we will have\", \"we're\": \"we are\",\n",
        "                           \"we've\": \"we have\", \"weren't\": \"were not\", \"what'll\": \"what will\", \"what'll've\": \"what will have\", \"what're\": \"what are\",\n",
        "                           \"what's\": \"what is\", \"what've\": \"what have\", \"when's\": \"when is\", \"when've\": \"when have\", \"where'd\": \"where did\", \"where's\": \"where is\",\n",
        "                           \"where've\": \"where have\", \"who'll\": \"who will\", \"who'll've\": \"who will have\", \"who's\": \"who is\", \"who've\": \"who have\",\n",
        "                           \"why's\": \"why is\", \"why've\": \"why have\", \"will've\": \"will have\", \"won't\": \"will not\", \"won't've\": \"will not have\",\n",
        "                           \"would've\": \"would have\", \"wouldn't\": \"would not\", \"wouldn't've\": \"would not have\", \"y'all\": \"you all\",\n",
        "                           \"y'all'd\": \"you all would\",\"y'all'd've\": \"you all would have\",\"y'all're\": \"you all are\",\"y'all've\": \"you all have\",\n",
        "                           \"you'd\": \"you would\", \"you'd've\": \"you would have\", \"you'll\": \"you will\", \"you'll've\": \"you will have\",\n",
        "                           \"you're\": \"you are\", \"you've\": \"you have\", \"i've\": \"i have\"}"
      ],
      "execution_count": null,
      "outputs": []
    },
    {
      "cell_type": "code",
      "metadata": {
        "id": "EDh48drTrEvj"
      },
      "source": [
        "def clean_text(text, remove_stopwords = True):\n",
        "    \n",
        "    text = text.lower()\n",
        "    if True:\n",
        "        text = text.split()\n",
        "        new_text = []\n",
        "        for word in text:\n",
        "            if word in contractions:\n",
        "                new_text.append(contractions[word])\n",
        "            else:\n",
        "                new_text.append(word)\n",
        "        text = \" \".join(new_text)\n",
        "        \n",
        "    text = re.sub(r'https?:\\/\\/.*[\\r\\n]*', '', text, flags=re.MULTILINE)\n",
        "    text = EMAIL_REGEX.sub(' ',text)\n",
        "    text = CURRENCY_REGEX.sub(' ',text)\n",
        "    text = ' '.join([contractions[t] if t in contractions else t for t in text.split(\" \")])    \n",
        "    text = re.sub(r'[_\"\\-;%()|+&=*%.,!?:#$@\\[\\]/]', ' ', text)\n",
        "    text = re.sub(r\"'s\\b\",\"\", text)\n",
        "    text = re.sub(r'&amp;', '', text) \n",
        "    \n",
        "    if remove_stopwords:\n",
        "        text = text.split()\n",
        "        stops = set(stopwords.words(\"english\"))\n",
        "        text = [w for w in text if not w in stops]\n",
        "        text = \" \".join(text)\n",
        "\n",
        "    return text    "
      ],
      "execution_count": null,
      "outputs": []
    },
    {
      "cell_type": "code",
      "metadata": {
        "colab": {
          "base_uri": "https://localhost:8080/"
        },
        "id": "kyGo203_rEvx",
        "outputId": "298e7e36-40ac-45fa-8122-fc3407dd7a11"
      },
      "source": [
        "cleaned_headlines = []\n",
        "cleaned_text = []\n",
        "\n",
        "for headlines in reviews['headlines']:\n",
        "    cleaned_headlines.append(clean_text(headlines, remove_stopwords=False))\n",
        "print(\"Headlines are complete.\")\n",
        "\n",
        "for text in reviews['text']:\n",
        "    cleaned_text.append(clean_text(text))\n",
        "print(\"Texts are complete.\")"
      ],
      "execution_count": null,
      "outputs": [
        {
          "output_type": "stream",
          "text": [
            "Headlines are complete.\n",
            "Texts are complete.\n"
          ],
          "name": "stdout"
        }
      ]
    },
    {
      "cell_type": "code",
      "metadata": {
        "colab": {
          "base_uri": "https://localhost:8080/"
        },
        "id": "qkK_Y6v2rEv4",
        "outputId": "f047bd51-a46b-47c4-a02f-58e565484fa1"
      },
      "source": [
        "# let's inspect some clean reviews\n",
        "for i in range(4):\n",
        "    print(\"Review: \",i+1)\n",
        "    print(cleaned_headlines[i])\n",
        "    print('-'*80)\n",
        "    print(cleaned_text[i])\n",
        "    print()"
      ],
      "execution_count": null,
      "outputs": [
        {
          "output_type": "stream",
          "text": [
            "Review:  1\n",
            "upgrad learner switches to career in ml   al with 90  salary hike\n",
            "--------------------------------------------------------------------------------\n",
            "saurav kant alumnus upgrad iiit b pg program machine learning artificial intelligence sr systems engineer infosys almost 5 years work experience program upgrad 360 degree career support helped transition data scientist tech mahindra 90 salary hike upgrad online power learning powered 3 lakh careers\n",
            "\n",
            "Review:  2\n",
            "delhi techie wins free food from swiggy for one year on cred\n",
            "--------------------------------------------------------------------------------\n",
            "kunal shah credit card bill payment platform cred gave users chance win free food swiggy one year pranav kaushik delhi techie bagged reward spending 2000 cred coins users get one cred coin per rupee bill paid used avail rewards brands like ixigo bookmyshow ubereats cult fit\n",
            "\n",
            "Review:  3\n",
            "new zealand end rohit sharma led india 12 match winning streak\n",
            "--------------------------------------------------------------------------------\n",
            "new zealand defeated india 8 wickets fourth odi hamilton thursday win first match five match odi series india lost international match rohit sharma captaincy 12 consecutive victories dating back march 2018 match witnessed india getting 92 seventh lowest total odi cricket history\n",
            "\n",
            "Review:  4\n",
            "aegon life iterm insurance plan helps customers save tax\n",
            "--------------------------------------------------------------------------------\n",
            "aegon life iterm insurance plan customers enjoy tax benefits premiums paid save â¹46 800^ taxes plan provides life cover age 100 years also customers options insure critical illnesses disability accidental death benefit rider life cover age 80 years\n",
            "\n"
          ],
          "name": "stdout"
        }
      ]
    },
    {
      "cell_type": "code",
      "metadata": {
        "colab": {
          "base_uri": "https://localhost:8080/",
          "height": 281
        },
        "id": "wSs02_tlrEv_",
        "outputId": "c244e722-b80a-4a2c-b4d3-b4c26f4b11f7"
      },
      "source": [
        "# distribution of sequences\n",
        "import matplotlib.pyplot as plt\n",
        "\n",
        "text_word_count = []\n",
        "headlines_word_count = []\n",
        "\n",
        "for i in cleaned_text:\n",
        "    text_word_count.append(len(i.split()))\n",
        "for i in cleaned_headlines:\n",
        "    headlines_word_count.append(len(i.split()))\n",
        "\n",
        "length_df = pd.DataFrame({'text': text_word_count, 'headlines': headlines_word_count})\n",
        "length_df.hist(bins=15)\n",
        "plt.show()"
      ],
      "execution_count": null,
      "outputs": [
        {
          "output_type": "display_data",
          "data": {
            "image/png": "[encoded data removed]",
            "text/plain": [
              "<Figure size 432x288 with 2 Axes>"
            ]
          },
          "metadata": {
            "tags": [],
            "needs_background": "light"
          }
        }
      ]
    },
    {
      "cell_type": "code",
      "metadata": {
        "colab": {
          "base_uri": "https://localhost:8080/"
        },
        "id": "73mXczfLrEwG",
        "outputId": "f11633c3-6822-4a36-cf38-b8af2452c914"
      },
      "source": [
        "count = 0\n",
        "for i in cleaned_text:\n",
        "    if(len(i.split())<=55):\n",
        "        count += 1\n",
        "print(count/len(cleaned_text))"
      ],
      "execution_count": null,
      "outputs": [
        {
          "output_type": "stream",
          "text": [
            "0.9998882125181655\n"
          ],
          "name": "stdout"
        }
      ]
    },
    {
      "cell_type": "code",
      "metadata": {
        "id": "l0iIs-OPrEwM"
      },
      "source": [
        "max_headlines_len=15\n",
        "max_text_len=55\n",
        "\n",
        "cleaned_text = np.array(cleaned_text)\n",
        "cleaned_headlines = np.array(cleaned_headlines)\n",
        "\n",
        "short_text=[]\n",
        "short_headlines=[]\n",
        "\n",
        "for i in range(len(cleaned_text)):\n",
        "    \n",
        "    if(len(cleaned_headlines[i].split())<=max_headlines_len and len(cleaned_text[i].split())<=max_text_len):\n",
        "        short_text.append(cleaned_text[i])\n",
        "        short_headlines.append(cleaned_headlines[i])\n",
        "\n",
        "df=pd.DataFrame({'text':short_text,'headlines':short_headlines})\n",
        "df['headlines'] = df['headlines'].apply(lambda x : 'sostok '+ x + ' eostok')\n",
        "\n",
        "from sklearn.model_selection import train_test_split\n",
        "x_tr,x_val,y_tr,y_val=train_test_split(np.array(df['text']),np.array(df['headlines']),test_size=0.1,random_state=0,shuffle=True)"
      ],
      "execution_count": null,
      "outputs": []
    },
    {
      "cell_type": "code",
      "metadata": {
        "id": "hlo0QVN6EIXX"
      },
      "source": [
        "df.to_csv('drive/My Drive/cnn/news_summary_clean.csv',index=False)"
      ],
      "execution_count": null,
      "outputs": []
    },
    {
      "cell_type": "code",
      "metadata": {
        "colab": {
          "base_uri": "https://localhost:8080/"
        },
        "id": "xuH5ZL_PrEwj",
        "outputId": "3b105b87-2c54-4b0f-a1ff-7c6c94eafd69"
      },
      "source": [
        "from keras.preprocessing.text import Tokenizer \n",
        "from keras.preprocessing.sequence import pad_sequences\n",
        "\n",
        "#prepare a tokenizer for reviews on training data\n",
        "x_tokenizer = Tokenizer() \n",
        "x_tokenizer.fit_on_texts(list(x_tr))\n",
        "\n",
        "thresh=4\n",
        "cnt=0\n",
        "tot_cnt=0\n",
        "freq=0\n",
        "tot_freq=0\n",
        "\n",
        "for key,value in x_tokenizer.word_counts.items():\n",
        "    tot_cnt=tot_cnt+1\n",
        "    tot_freq=tot_freq+value\n",
        "    if(value<thresh):\n",
        "        cnt=cnt+1\n",
        "        freq=freq+value\n",
        "    \n",
        "print(\"% of rare words in vocabulary:\",(cnt/tot_cnt)*100)\n",
        "print(\"Total Coverage of rare words:\",(freq/tot_freq)*100)\n",
        "\n",
        "#prepare a tokenizer for reviews on training data\n",
        "x_tokenizer = Tokenizer(num_words=tot_cnt-cnt) \n",
        "x_tokenizer.fit_on_texts(list(x_tr))\n",
        "\n",
        "#convert text sequences into integer sequences\n",
        "x_tr_seq    =   x_tokenizer.texts_to_sequences(x_tr) \n",
        "x_val_seq   =   x_tokenizer.texts_to_sequences(x_val)\n",
        "\n",
        "#padding zero upto maximum length\n",
        "x_tr    =   pad_sequences(x_tr_seq,  maxlen=max_text_len, padding='post')\n",
        "x_val   =   pad_sequences(x_val_seq, maxlen=max_text_len, padding='post')\n",
        "\n",
        "#size of vocabulary ( +1 for padding token)\n",
        "x_voc   =  x_tokenizer.num_words + 1\n",
        "\n",
        "x_voc"
      ],
      "execution_count": null,
      "outputs": [
        {
          "output_type": "stream",
          "text": [
            "% of rare words in vocabulary: 61.83642437762905\n",
            "Total Coverage of rare words: 2.4873360532296487\n"
          ],
          "name": "stdout"
        },
        {
          "output_type": "execute_result",
          "data": {
            "text/plain": [
              "34386"
            ]
          },
          "metadata": {
            "tags": []
          },
          "execution_count": 16
        }
      ]
    },
    {
      "cell_type": "code",
      "metadata": {
        "colab": {
          "base_uri": "https://localhost:8080/"
        },
        "id": "DyY--9AcrEwr",
        "outputId": "29f50eb4-bca5-4a58-d15c-14406b29665f"
      },
      "source": [
        "#prepare a tokenizer for reviews on training data\n",
        "y_tokenizer = Tokenizer()   \n",
        "y_tokenizer.fit_on_texts(list(y_tr))\n",
        "\n",
        "thresh=6\n",
        "cnt=0\n",
        "tot_cnt=0\n",
        "freq=0\n",
        "tot_freq=0\n",
        "\n",
        "for key,value in y_tokenizer.word_counts.items():\n",
        "    tot_cnt=tot_cnt+1\n",
        "    tot_freq=tot_freq+value\n",
        "    if(value<thresh):\n",
        "        cnt=cnt+1\n",
        "        freq=freq+value\n",
        "    \n",
        "print(\"% of rare words in vocabulary:\",(cnt/tot_cnt)*100)\n",
        "print(\"Total Coverage of rare words:\",(freq/tot_freq)*100)\n",
        "\n",
        "#prepare a tokenizer for reviews on training data\n",
        "y_tokenizer = Tokenizer(num_words=tot_cnt-cnt) \n",
        "y_tokenizer.fit_on_texts(list(y_tr))\n",
        "\n",
        "#convert text sequences into integer sequences\n",
        "y_tr_seq    =   y_tokenizer.texts_to_sequences(y_tr) \n",
        "y_val_seq   =   y_tokenizer.texts_to_sequences(y_val) \n",
        "\n",
        "#padding zero upto maximum length\n",
        "y_tr    =   pad_sequences(y_tr_seq, maxlen=max_headlines_len, padding='post')\n",
        "y_val   =   pad_sequences(y_val_seq, maxlen=max_headlines_len, padding='post')\n",
        "\n",
        "#size of vocabulary\n",
        "y_voc  =   y_tokenizer.num_words +1\n",
        "\n",
        "y_tokenizer.word_counts['sostok'],len(y_tr)   "
      ],
      "execution_count": null,
      "outputs": [
        {
          "output_type": "stream",
          "text": [
            "% of rare words in vocabulary: 71.13547842913493\n",
            "Total Coverage of rare words: 4.878360245795404\n"
          ],
          "name": "stdout"
        },
        {
          "output_type": "execute_result",
          "data": {
            "text/plain": [
              "(88505, 88505)"
            ]
          },
          "metadata": {
            "tags": []
          },
          "execution_count": 17
        }
      ]
    },
    {
      "cell_type": "code",
      "metadata": {
        "id": "tLzr3p7CrEwx"
      },
      "source": [
        "ind=[]\n",
        "for i in range(len(y_tr)):\n",
        "    cnt=0\n",
        "    for j in y_tr[i]:\n",
        "        if j!=0:\n",
        "            cnt=cnt+1\n",
        "    if(cnt==2):\n",
        "        ind.append(i)\n",
        "\n",
        "y_tr=np.delete(y_tr,ind, axis=0)\n",
        "x_tr=np.delete(x_tr,ind, axis=0)\n",
        "\n",
        "ind=[]\n",
        "for i in range(len(y_val)):\n",
        "    cnt=0\n",
        "    for j in y_val[i]:\n",
        "        if j!=0:\n",
        "            cnt=cnt+1\n",
        "    if(cnt==2):\n",
        "        ind.append(i)\n",
        "\n",
        "y_val=np.delete(y_val,ind, axis=0)\n",
        "x_val=np.delete(x_val,ind, axis=0)"
      ],
      "execution_count": null,
      "outputs": []
    },
    {
      "cell_type": "code",
      "metadata": {
        "colab": {
          "base_uri": "https://localhost:8080/"
        },
        "id": "DpJOv_Z_rEw7",
        "outputId": "a48edaa5-e0f9-4a00-865e-b9eb5a7308d8"
      },
      "source": [
        "from keras import backend as K \n",
        "K.clear_session()\n",
        "\n",
        "latent_dim = 200\n",
        "embedding_dim=110\n",
        "\n",
        "# Encoder\n",
        "encoder_inputs = Input(shape=(max_text_len,))\n",
        "\n",
        "#embedding layer\n",
        "enc_emb =  Embedding(x_voc, embedding_dim,trainable=True)(encoder_inputs)\n",
        "\n",
        "#encoder lstm 1\n",
        "encoder_lstm1 = LSTM(latent_dim,return_sequences=True,return_state=True,dropout=0.4,recurrent_dropout=0.4)\n",
        "encoder_output1, state_h1, state_c1 = encoder_lstm1(enc_emb)\n",
        "\n",
        "#encoder lstm 2\n",
        "encoder_lstm2 = LSTM(latent_dim,return_sequences=True,return_state=True,dropout=0.4,recurrent_dropout=0.4)\n",
        "encoder_output2, state_h2, state_c2 = encoder_lstm2(encoder_output1)\n",
        "\n",
        "#encoder lstm 3\n",
        "encoder_lstm3=LSTM(latent_dim, return_state=True, return_sequences=True,dropout=0.4,recurrent_dropout=0.4)\n",
        "encoder_outputs, state_h, state_c= encoder_lstm3(encoder_output2)\n",
        "\n",
        "# Set up the decoder, using `encoder_states` as initial state.\n",
        "decoder_inputs = Input(shape=(None,))\n",
        "\n",
        "#embedding layer\n",
        "dec_emb_layer = Embedding(y_voc, embedding_dim,trainable=True)\n",
        "dec_emb = dec_emb_layer(decoder_inputs)\n",
        "\n",
        "decoder_lstm = LSTM(latent_dim, return_sequences=True, return_state=True,dropout=0.4,recurrent_dropout=0.2)\n",
        "decoder_outputs,decoder_fwd_state, decoder_back_state = decoder_lstm(dec_emb,initial_state=[state_h, state_c])\n",
        "\n",
        "# Attention layer\n",
        "attn_layer = AttentionLayer(name='attention_layer')\n",
        "attn_out, attn_states = attn_layer([encoder_outputs, decoder_outputs])\n",
        "\n",
        "# Concat attention input and decoder LSTM output\n",
        "decoder_concat_input = Concatenate(axis=-1, name='concat_layer')([decoder_outputs, attn_out])\n",
        "\n",
        "#dense layer\n",
        "decoder_dense =  TimeDistributed(Dense(y_voc, activation='softmax'))\n",
        "decoder_outputs = decoder_dense(decoder_concat_input)\n",
        "\n",
        "# Define the model \n",
        "model = Model([encoder_inputs, decoder_inputs], decoder_outputs)\n",
        "\n",
        "model.summary() "
      ],
      "execution_count": null,
      "outputs": [
        {
          "output_type": "stream",
          "text": [
            "WARNING:tensorflow:Layer lstm will not use cuDNN kernel since it doesn't meet the cuDNN kernel criteria. It will use generic GPU kernel as fallback when running on GPU\n",
            "WARNING:tensorflow:Layer lstm_1 will not use cuDNN kernel since it doesn't meet the cuDNN kernel criteria. It will use generic GPU kernel as fallback when running on GPU\n",
            "WARNING:tensorflow:Layer lstm_2 will not use cuDNN kernel since it doesn't meet the cuDNN kernel criteria. It will use generic GPU kernel as fallback when running on GPU\n",
            "WARNING:tensorflow:Layer lstm_3 will not use cuDNN kernel since it doesn't meet the cuDNN kernel criteria. It will use generic GPU kernel as fallback when running on GPU\n",
            "Model: \"model\"\n",
            "__________________________________________________________________________________________________\n",
            "Layer (type)                    Output Shape         Param #     Connected to                     \n",
            "==================================================================================================\n",
            "input_1 (InputLayer)            [(None, 55)]         0                                            \n",
            "__________________________________________________________________________________________________\n",
            "embedding (Embedding)           (None, 55, 110)      3782460     input_1[0][0]                    \n",
            "__________________________________________________________________________________________________\n",
            "lstm (LSTM)                     [(None, 55, 200), (N 248800      embedding[0][0]                  \n",
            "__________________________________________________________________________________________________\n",
            "input_2 (InputLayer)            [(None, None)]       0                                            \n",
            "__________________________________________________________________________________________________\n",
            "lstm_1 (LSTM)                   [(None, 55, 200), (N 320800      lstm[0][0]                       \n",
            "__________________________________________________________________________________________________\n",
            "embedding_1 (Embedding)         (None, None, 110)    1279960     input_2[0][0]                    \n",
            "__________________________________________________________________________________________________\n",
            "lstm_2 (LSTM)                   [(None, 55, 200), (N 320800      lstm_1[0][0]                     \n",
            "__________________________________________________________________________________________________\n",
            "lstm_3 (LSTM)                   [(None, None, 200),  248800      embedding_1[0][0]                \n",
            "                                                                 lstm_2[0][1]                     \n",
            "                                                                 lstm_2[0][2]                     \n",
            "__________________________________________________________________________________________________\n",
            "attention_layer (AttentionLayer ((None, None, 200),  80200       lstm_2[0][0]                     \n",
            "                                                                 lstm_3[0][0]                     \n",
            "__________________________________________________________________________________________________\n",
            "concat_layer (Concatenate)      (None, None, 400)    0           lstm_3[0][0]                     \n",
            "                                                                 attention_layer[0][0]            \n",
            "__________________________________________________________________________________________________\n",
            "time_distributed (TimeDistribut (None, None, 11636)  4666036     concat_layer[0][0]               \n",
            "==================================================================================================\n",
            "Total params: 10,947,856\n",
            "Trainable params: 10,947,856\n",
            "Non-trainable params: 0\n",
            "__________________________________________________________________________________________________\n"
          ],
          "name": "stdout"
        }
      ]
    },
    {
      "cell_type": "code",
      "metadata": {
        "colab": {
          "base_uri": "https://localhost:8080/"
        },
        "id": "za_vlKUnrExD",
        "outputId": "b67a10da-92fe-4482-d3f8-9342707da1b9"
      },
      "source": [
        "model.compile(optimizer='rmsprop', loss='sparse_categorical_crossentropy')\n",
        "es = EarlyStopping(monitor='val_loss', mode='min', verbose=1,patience=2)\n",
        "history=model.fit([x_tr,y_tr[:,:-1]], y_tr.reshape(y_tr.shape[0],y_tr.shape[1], 1)[:,1:] ,epochs=30,callbacks=[es],batch_size=128, validation_data=([x_val,y_val[:,:-1]], y_val.reshape(y_val.shape[0],y_val.shape[1], 1)[:,1:]))"
      ],
      "execution_count": null,
      "outputs": [
        {
          "output_type": "stream",
          "text": [
            "Epoch 1/30\n",
            "692/692 [==============================] - 543s 766ms/step - loss: 5.3726 - val_loss: 4.5894\n",
            "Epoch 2/30\n",
            "692/692 [==============================] - 522s 755ms/step - loss: 4.5435 - val_loss: 4.2829\n",
            "Epoch 3/30\n",
            "692/692 [==============================] - 518s 748ms/step - loss: 4.2335 - val_loss: 4.0769\n",
            "Epoch 4/30\n",
            "692/692 [==============================] - 517s 747ms/step - loss: 4.0188 - val_loss: 3.9337\n",
            "Epoch 5/30\n",
            "692/692 [==============================] - 517s 747ms/step - loss: 3.8642 - val_loss: 3.8360\n",
            "Epoch 6/30\n",
            "692/692 [==============================] - 516s 746ms/step - loss: 3.7467 - val_loss: 3.7378\n",
            "Epoch 7/30\n",
            "692/692 [==============================] - 516s 746ms/step - loss: 3.6437 - val_loss: 3.6674\n",
            "Epoch 8/30\n",
            "692/692 [==============================] - 516s 745ms/step - loss: 3.5468 - val_loss: 3.6072\n",
            "Epoch 9/30\n",
            "692/692 [==============================] - 518s 749ms/step - loss: 3.4637 - val_loss: 3.5578\n",
            "Epoch 10/30\n",
            "692/692 [==============================] - 513s 742ms/step - loss: 3.3997 - val_loss: 3.5199\n",
            "Epoch 11/30\n",
            "692/692 [==============================] - 511s 738ms/step - loss: 3.3479 - val_loss: 3.4770\n",
            "Epoch 12/30\n",
            "692/692 [==============================] - 508s 734ms/step - loss: 3.2935 - val_loss: 3.4409\n",
            "Epoch 13/30\n",
            "692/692 [==============================] - 511s 738ms/step - loss: 3.2377 - val_loss: 3.4180\n",
            "Epoch 14/30\n",
            "692/692 [==============================] - 511s 738ms/step - loss: 3.1951 - val_loss: 3.3985\n",
            "Epoch 15/30\n",
            "692/692 [==============================] - 511s 739ms/step - loss: 3.1635 - val_loss: 3.3811\n",
            "Epoch 16/30\n",
            "692/692 [==============================] - 509s 735ms/step - loss: 3.1280 - val_loss: 3.3523\n",
            "Epoch 17/30\n",
            "692/692 [==============================] - 508s 734ms/step - loss: 3.1019 - val_loss: 3.3435\n",
            "Epoch 18/30\n",
            "692/692 [==============================] - 510s 737ms/step - loss: 3.0682 - val_loss: 3.3291\n",
            "Epoch 19/30\n",
            "692/692 [==============================] - 509s 736ms/step - loss: 3.0278 - val_loss: 3.3181\n",
            "Epoch 20/30\n",
            "692/692 [==============================] - 509s 735ms/step - loss: 2.9998 - val_loss: 3.3076\n",
            "Epoch 21/30\n",
            "692/692 [==============================] - 508s 734ms/step - loss: 2.9750 - val_loss: 3.2957\n",
            "Epoch 22/30\n",
            "692/692 [==============================] - 508s 735ms/step - loss: 2.9516 - val_loss: 3.2807\n",
            "Epoch 23/30\n",
            "692/692 [==============================] - 508s 734ms/step - loss: 2.9240 - val_loss: 3.2769\n",
            "Epoch 24/30\n",
            "692/692 [==============================] - 509s 736ms/step - loss: 2.9019 - val_loss: 3.2726\n",
            "Epoch 25/30\n",
            "692/692 [==============================] - 511s 738ms/step - loss: 2.8796 - val_loss: 3.2584\n",
            "Epoch 26/30\n",
            "692/692 [==============================] - 510s 738ms/step - loss: 2.8571 - val_loss: 3.2467\n",
            "Epoch 27/30\n",
            "692/692 [==============================] - 510s 736ms/step - loss: 2.8339 - val_loss: 3.2407\n",
            "Epoch 28/30\n",
            "692/692 [==============================] - 510s 737ms/step - loss: 2.8147 - val_loss: 3.2446\n",
            "Epoch 29/30\n",
            "692/692 [==============================] - 510s 737ms/step - loss: 2.7860 - val_loss: 3.2454\n",
            "Epoch 00029: early stopping\n"
          ],
          "name": "stdout"
        }
      ]
    },
    {
      "cell_type": "code",
      "metadata": {
        "id": "LOZB5ryb0V7q"
      },
      "source": [
        "# !pip install -U -q PyDrive\n",
        "from pydrive.auth import GoogleAuth\n",
        "from pydrive.drive import GoogleDrive\n",
        "from google.colab import auth\n",
        "from oauth2client.client import GoogleCredentials\n",
        "\n",
        "# 1. Authenticate and create the PyDrive client.\n",
        "#auth.authenticate_user()\n",
        "#gauth = GoogleAuth()\n",
        "#gauth.credentials = GoogleCredentials.get_application_default()\n",
        "#drive = GoogleDrive(gauth)\n",
        "\n",
        "# 2. Save Keras Model or weights on google drive\n",
        "\n",
        "# create on Colab directory\n",
        "model.save('text_summary.h5')    \n",
        "#model_file = drive.CreateFile({'title' : 'text_summary.h5'})\n",
        "#model_file.SetContentFile('text_summary.h5')\n",
        "#model_file.Upload()\n",
        "\n",
        "# download to google drive\n",
        "#drive.CreateFile({'id': model_file.get('id')})"
      ],
      "execution_count": null,
      "outputs": []
    },
    {
      "cell_type": "code",
      "metadata": {
        "id": "-AFY73NArExJ",
        "colab": {
          "base_uri": "https://localhost:8080/",
          "height": 265
        },
        "outputId": "5f20a247-0934-4e1f-e09f-b62c7d8ddc83"
      },
      "source": [
        "from matplotlib import pyplot\n",
        "pyplot.plot(history.history['loss'], label='train')\n",
        "pyplot.plot(history.history['val_loss'], label='test')\n",
        "pyplot.legend()\n",
        "pyplot.show()"
      ],
      "execution_count": null,
      "outputs": [
        {
          "output_type": "display_data",
          "data": {
            "image/png": "[encoded data removed]",
            "text/plain": [
              "<Figure size 432x288 with 1 Axes>"
            ]
          },
          "metadata": {
            "tags": [],
            "needs_background": "light"
          }
        }
      ]
    },
    {
      "cell_type": "code",
      "metadata": {
        "id": "-pYOvMgTrExO"
      },
      "source": [
        "reverse_target_word_index=y_tokenizer.index_word\n",
        "reverse_source_word_index=x_tokenizer.index_word\n",
        "target_word_index=y_tokenizer.word_index\n",
        "\n",
        "# Encode the input sequence to get the feature vector\n",
        "encoder_model = Model(inputs=encoder_inputs,outputs=[encoder_outputs, state_h, state_c])\n",
        "\n",
        "# Decoder setup\n",
        "# Below tensors will hold the states of the previous time step\n",
        "decoder_state_input_h = Input(shape=(latent_dim,))\n",
        "decoder_state_input_c = Input(shape=(latent_dim,))\n",
        "decoder_hidden_state_input = Input(shape=(max_text_len,latent_dim))\n",
        "\n",
        "# Get the embeddings of the decoder sequence\n",
        "dec_emb2= dec_emb_layer(decoder_inputs) \n",
        "# To predict the next word in the sequence, set the initial states to the states from the previous time step\n",
        "decoder_outputs2, state_h2, state_c2 = decoder_lstm(dec_emb2, initial_state=[decoder_state_input_h, decoder_state_input_c])\n",
        "\n",
        "#attention inference\n",
        "attn_out_inf, attn_states_inf = attn_layer([decoder_hidden_state_input, decoder_outputs2])\n",
        "decoder_inf_concat = Concatenate(axis=-1, name='concat')([decoder_outputs2, attn_out_inf])\n",
        "\n",
        "# A dense softmax layer to generate prob dist. over the target vocabulary\n",
        "decoder_outputs2 = decoder_dense(decoder_inf_concat) \n",
        "\n",
        "# Final decoder model\n",
        "decoder_model = Model(\n",
        "    [decoder_inputs] + [decoder_hidden_state_input,decoder_state_input_h, decoder_state_input_c],\n",
        "    [decoder_outputs2] + [state_h2, state_c2])\n",
        "\n",
        "def decode_sequence(input_seq):\n",
        "    # Encode the input as state vectors.\n",
        "    e_out, e_h, e_c = encoder_model.predict(input_seq)\n",
        "    \n",
        "    # Generate empty target sequence of length 1.\n",
        "    target_seq = np.zeros((1,1))\n",
        "    \n",
        "    # Populate the first word of target sequence with the start word.\n",
        "    target_seq[0, 0] = target_word_index['sostok']\n",
        "\n",
        "    stop_condition = False\n",
        "    decoded_sentence = ''\n",
        "    while not stop_condition:\n",
        "      \n",
        "        output_tokens, h, c = decoder_model.predict([target_seq] + [e_out, e_h, e_c])\n",
        "\n",
        "        # Sample a token\n",
        "        sampled_token_index = np.argmax(output_tokens[0, -1, :])\n",
        "        sampled_token = reverse_target_word_index[sampled_token_index]\n",
        "        \n",
        "        if(sampled_token!='eostok'):\n",
        "            decoded_sentence += ' '+sampled_token\n",
        "\n",
        "        # Exit condition: either hit max length or find stop word.\n",
        "        if (sampled_token == 'eostok'  or len(decoded_sentence.split()) >= (max_headlines_len-1)):\n",
        "            stop_condition = True\n",
        "\n",
        "        # Update the target sequence (of length 1).\n",
        "        target_seq = np.zeros((1,1))\n",
        "        target_seq[0, 0] = sampled_token_index\n",
        "\n",
        "        # Update internal states\n",
        "        e_h, e_c = h, c\n",
        "\n",
        "    return decoded_sentence\n",
        "\n",
        "def seq2summary(input_seq):\n",
        "    newString=''\n",
        "    for i in input_seq:\n",
        "        if((i!=0 and i!=target_word_index['sostok']) and i!=target_word_index['eostok']):\n",
        "            newString=newString+reverse_target_word_index[i]+' '\n",
        "    return newString\n",
        "\n",
        "def seq2text(input_seq):\n",
        "    newString=''\n",
        "    for i in input_seq:\n",
        "        if(i!=0):\n",
        "            newString=newString+reverse_source_word_index[i]+' '\n",
        "    return newString"
      ],
      "execution_count": null,
      "outputs": []
    },
    {
      "cell_type": "code",
      "metadata": {
        "colab": {
          "base_uri": "https://localhost:8080/"
        },
        "id": "B8w0sTZFrExT",
        "outputId": "934ee1ad-ce3d-4e6e-877d-50e11473b10b"
      },
      "source": [
        "predictions = []\n",
        "reference=[]\n",
        "\n",
        "for i in range(0,50):\n",
        "    print(\"Review:\",seq2text(x_tr[i]))\n",
        "    \n",
        "    print(\"Original summary:\",seq2summary(y_tr[i]))\n",
        "    print(\"Predicted summary:\",decode_sequence(x_tr[i].reshape(1,max_text_len)))\n",
        "    print(\"\\n\")"
      ],
      "execution_count": null,
      "outputs": [
        {
          "output_type": "stream",
          "text": [
            "Review: reacting fake news death 95 year old mdh spices owner gulati said feels young many people called enquire express love revealed company executive vice president rajendra kumar appealed public fall prey shocking baseless news \n",
            "Original summary: i feel young again 95 yr old owner after fake news on death \n",
            "Predicted summary:  fake news on death of fake news owner\n",
            "\n",
            "\n",
            "Review: japan based scientists found cockroaches help disperse seeds forest herb species perform photosynthesis scientists examined eating herb fruit found pellet featured average three seeds fruit attract birds mammals whereas cockroaches fed spread seeds forest floor scientists observed \n",
            "Original summary: cockroaches spread seeds too like birds and mammals study \n",
            "Predicted summary:  scientists study of japan cells\n",
            "\n",
            "\n",
            "Review: former cricketer virender sehwag called harmanpreet kaur 171 run innings australia women world cup semi final innings lifetime cricketers also tweeted innings rohit sharma posting brutal power serious hitting anil kumble tweeted serious batting knock \n",
            "Original summary: sehwag calls harmanpreet 171 'an innings of a \n",
            "Predicted summary:  sehwag calls sehwag on ton on final of final\n",
            "\n",
            "\n",
            "Review: 50 india installed power capacity formed non fossil fuels like renewables nuclear hydroelectric power plants 2027 according government third national electricity plan coal currently accounts 60 india energy capacity india total renewable capacity surpass coal based capacity 2024 according plan \n",
            "Original summary: 50 of india energy capacity from non fossils by \n",
            "Predicted summary:  india to power energy by solar plant in power\n",
            "\n",
            "\n",
            "Review: university california researchers built brain tweet interface claim figure song bird going sing fraction second used silicon electrodes measure electrical made predictions using machine learning similar approach could fuel advancements human thought text interface said \n",
            "Original summary: scientists claim to read bird brain predict its next song \n",
            "Predicted summary:  scientists make black hole in mit\n",
            "\n",
            "\n",
            "Review: american online file sharing platform dropbox entered agreement acquire electronic signature startup 230 million cash deal expected close first quarter 2019 founded joseph us based startup also offers digital electronic fax solutions manage business transactions \n",
            "Original summary: dropbox to buy startup for 230 million \n",
            "Predicted summary:  us based startup raises 200 million\n",
            "\n",
            "\n",
            "Review: scoring first time 2018 fifa world cup argentine captain lionel messi said knew god us would leave us remember ever suffered much stake huge release us added messi argentina 2 1 nigeria \n",
            "Original summary: do not remember having suffered so much messi after 2 1 win \n",
            "Predicted summary:  messi did not have been a us messi messi\n",
            "\n",
            "\n",
            "Review: us senate wednesday passed bill waiving sanctions india buying russian arms bill called national defence authorisation act 2019 sent president donald trump approval earlier defence minister nirmala sitharaman said india purchase russian 400 air defence systems despite us sanctions military transactions russia \n",
            "Original summary: us passes bill to waive sanctions on india over russian arms \n",
            "Predicted summary:  us sanctions iran sanctions for russia sanctions\n",
            "\n",
            "\n",
            "Review: around 4 000 cases registered till november year hyderabad traffic police minors parents vehicle owners letting unlicensed minors drive city far 42 persons including minors parents convicted court hyderabad traffic police also convicted around 5 000 people year drunken driving \n",
            "Original summary: 4 000 underage driving cases registered in hyderabad in 2018 \n",
            "Predicted summary:  4 000 cases of traffic drivers in gurugram\n",
            "\n",
            "\n",
            "Review: european union monday agreed restore political relations levels thailand three years putting hold protest coup thai military bloc said developments thailand including adoption new constitution announcement hold elections next year meant appropriate resume ties \n",
            "Original summary: eu to restore political relations with thailand \n",
            "Predicted summary:  eu parliament to be held for 15 years in maldives\n",
            "\n",
            "\n",
            "Review: india captain virat kohli named india valuable celebrity brand second year row duff phelps' latest celebrity brand valuation report kohli brand value rose 18 170 9 million â¹1 200 crore 2018 actress deepika padukone replaced shah rukh khan second valuable celebrity list \n",
            "Original summary: kohli india most valued celebrity brand at â¹1 200 crore report \n",
            "Predicted summary:  virat kohli becomes india richest indian\n",
            "\n",
            "\n",
            "Review: tunisia goalkeeper allegedly faked injury let teammates break ramadan fast side pre world cup friendly match turkey break play players seen eating dates drinking water energy drinks continuing play reports claim players understanding fake injury \n",
            "Original summary: goalie injury to let teammates break ramadan fast \n",
            "Predicted summary:  footballer in match to play in wc after match\n",
            "\n",
            "\n",
            "Review: veteran singer lata mangeshkar said truly disappointing hear comedian kapil sharma show longer going telecast brought much happiness laughter every home added lata said wishes kapil quick recovery hopes show returns soon \n",
            "Original summary: disappointing that kapil show will not be telecast lata \n",
            "Predicted summary:  kapil sharma is a better and kapil sharma\n",
            "\n",
            "\n",
            "Review: india second largest services firm infosys saturday announced divest stake israeli startup cloudendure around 15 3 million â¹110 crore bengaluru based company picked minority stake startup 4 million 2015 cloudendure provides cloud based disaster recovery services solutions help large companies move applications cloud \n",
            "Original summary: infosys to sell its stake in israel for â¹110 crore \n",
            "Predicted summary:  infosys infosys buys stake in israel for 15 years\n",
            "\n",
            "\n",
            "Review: us federal judge friday ordered president donald trump administration fully restore 'dreamers' program protects immigrants brought country illegally children deportation judge said administration must also start accepting new applications program trump scrapped program september last year \n",
            "Original summary: us court orders trump admin to 'dreamers' program \n",
            "Predicted summary:  trump to judge in law to judge\n",
            "\n",
            "\n",
            "Review: andhra pradesh chief minister n chandrababu naidu friday said google government facilitate gram panchayats internet access installing 25 000 wi fi hotspots december 2018 2016 google installed public wi fi networks 100 railway stations working expand project many 400 stations 2018 end \n",
            "Original summary: google to set up 25 000 wi fi in andhra villages \n",
            "Predicted summary:  google to shut down andhra pradesh cm on trains\n",
            "\n",
            "\n",
            "Review: former team india chief selector sandeep patil slammed bcci new fitness criteria saying find absurd player dropped failing yo yo test picked squad also find absurd wrong trainer decide matters trainer become selector 61 year old added \n",
            "Original summary: has the trainer become selector ex selector slams yo yo test \n",
            "Predicted summary:  bcci slams bcci for yo test test head\n",
            "\n",
            "\n",
            "Review: jammu kashmir 22 year old athlete hamid aziz ran non stop srinagar covering distance 110 km 10 45 hours hamid previous non stop running record 60 km distance run march year hamid also plans run 450 km 2018 srinagar leh seven days \n",
            "Original summary: 22 yr old indian athlete runs non stop 110 km in over 10 hrs \n",
            "Predicted summary:  j k police beats world record for most runs\n",
            "\n",
            "\n",
            "Review: people believe halloween celebrated october 31 originates celtic festival celebrated towards end harvest season believed barrier spirit living world thinnest time later christian religion halloween came called eve \n",
            "Original summary: what is the origin of halloween \n",
            "Predicted summary:  why is the ramp in vogue\n",
            "\n",
            "\n",
            "Review: us technology giant google agreed store data payment service google pay india mandated rbi company ceo sundar pichai reportedly conveyed minister ravi shankar prasad recent visit us google however sought time till end december comply regulation reports said \n",
            "Original summary: google agrees to store payment data in india reports \n",
            "Predicted summary:  google india payments bank to google ceo data in axis\n",
            "\n",
            "\n",
            "Review: sri lankan cricket fans witnessed team nine wicket loss india first odi held sri lankan team bus following match around 50 fans shouted slogans booed players forcing security personnel step according reports sri lankan players held 30 minutes \n",
            "Original summary: sri lankan cricket fans hold up team bus after 1st odi loss \n",
            "Predicted summary:  sl sl odi team to win sl odi after sl odi series win\n",
            "\n",
            "\n",
            "Review: slamming delhi government decision compensate family ex army man committed suicide delhi hc said setting trend commit suicide get â¹1 crore compensation questioned need employment also provided man family committed suicide one rank one pension issue \n",
            "Original summary: delhi govt setting trend of suicide get â¹1 hc \n",
            "Predicted summary:  delhi govt to pay â¹1 crore to save â¹1 crore\n",
            "\n",
            "\n",
            "Review: apple reportedly planning combine ios macos apps next year developers able design apps adjust touch input iphone ipad mouse trackpad input mac reports added notably ios app store redesigned year mac app store seen change since 2014 \n",
            "Original summary: apple to combine ios and apps next year report \n",
            "Predicted summary:  apple to launch new iphones in next report\n",
            "\n",
            "\n",
            "Review: referring recent ravindra gaikwad air india row shiv sena tuesday said become fashion hold politicians responsible everything surprising media gave much importance gaikwad episode made even pakistan look party stated mouthpiece 'saamana' \n",
            "Original summary: blaming politicians now a fashion shiv sena on gaikwad row \n",
            "Predicted summary:  shiv sena is the best person of the us shiv sena\n",
            "\n",
            "\n",
            "Review: supreme court friday ruled chief justice india master roster first among equals court said cji power assign cases ruling comes court rejected former law minister shanti bhushan plea said collegium consulted set roster cases \n",
            "Original summary: chief justice of india is the master of supreme court \n",
            "Predicted summary:  justice karnan 1st indian court to be probed sc\n",
            "\n",
            "\n",
            "Review: speaking issue body shaming sonakshi sinha said i've answering questions weight loss long become matters look work many people reach added sonakshi said always projected strong body image \n",
            "Original summary: have become to weight loss questions sonakshi \n",
            "Predicted summary:  i am not a good person i do not have no idea sonakshi\n",
            "\n",
            "\n",
            "Review: expressing concern 2016 aadhaar law saying gave uidai excessive powers supreme court said aadhaar issuing body could ask people blood samples dna testing tomorrow aadhaar act uidai ask biological attributes individual five judge bench held 25 daily hearings petitions challenging aadhaar validity since january \n",
            "Original summary: may ask for blood tomorrow sc on aadhaar body powers \n",
            "Predicted summary:  aadhaar not a blood sc on aadhaar card\n",
            "\n",
            "\n",
            "Review: speaking divorce petition filed elder brother tej pratap yadav rjd leader tejashwi yadav said talk public adding family matter capable resolving within family tejashwi said meanwhile tej said come back home unless parents accept decision divorce \n",
            "Original summary: tej divorce family matter will not talk in public tejashwi \n",
            "Predicted summary:  tej pratap is not a family tejashwi yadav\n",
            "\n",
            "\n",
            "Review: barcelona football star lionel messi wife antonella roccuzzo confirmed expecting third child roccuzzo posted photo instagram messi two sons thiago mateo touching belly captioned family 5 messi married roccuzzo june 30 year hometown rosario \n",
            "Original summary: lionel messi to become father for the third time \n",
            "Predicted summary:  messi wife to be in a day of child in his name\n",
            "\n",
            "\n",
            "Review: creator indian tv show pal singh appointed new president film television institute india ftii society chairman governing council singh replace former ftii president anupam kher announced october stepping due busy schedule singh previously vice chairman ftii \n",
            "Original summary: creator bp singh appointed as new ftii president \n",
            "Predicted summary:  tv show tv series as india ceo\n",
            "\n",
            "\n",
            "Review: veteran politician nd tiwari indian serve cm two states uttar pradesh uttarakhand passed away 93rd birthday thursday delhi tiwari bedridden year suffering brain kidney failure also served minister external affairs late rajiv gandhi cabinet \n",
            "Original summary: tiwari only indian who was cm of 2 states dies on b'day \n",
            "Predicted summary:  india adityanath meets uttar pradesh cm\n",
            "\n",
            "\n",
            "Review: actor amitabh bachchan saturday said reliance industries founder dhirubhai ambani offered help went bankrupt 1990s politely refused offer slowly god grace started get work helped clear debts bachchan said also recalled dhirubhai saying boy fallen got \n",
            "Original summary: ambani offered to help when i went bankrupt big b \n",
            "Predicted summary:  i will get a man who i do not get a money big b\n",
            "\n",
            "\n",
            "Review: bjp mp brij bhushan sharan singh compared congress president rahul gandhi dog' rahul gandhi slammed pm narendra modi â¹11 000 crore pnb scam saying dogs bark elephant keeps walking prime minister modi serving country whoever wants bark bark said \n",
            "Original summary: bjp mp compares rahul gandhi with dog' \n",
            "Predicted summary:  rahul gandhi rahul gandhi pay crore for pm modi\n",
            "\n",
            "\n",
            "Review: woman united states' new jersey fell open sidewalk access door looking phone thursday officials said 67 year old woman fell six feet stairs suffered serious injuries video incident shows paramedics firefighters taking away stretcher \n",
            "Original summary: video woman on phone falls down open \n",
            "Predicted summary:  woman falls from open to open phone in open\n",
            "\n",
            "\n",
            "Review: karnataka bjp mla patil yatnal thursday said would ordered police shoot intellectuals liberals union home minister people live country use facilities pay tax raise slogans indian army said kargil vijay diwas event \n",
            "Original summary: would get shot if i was home minister bjp mla \n",
            "Predicted summary:  i will not be shot at home minister bjp mla\n",
            "\n",
            "\n",
            "Review: external affairs minister sushma swaraj saturday called urgent reform united nations un adding must begin today tomorrow could late said collapse un remains ineffective india repeatedly called reforms un security council unsc achieving expansion membership \n",
            "Original summary: tomorrow could be too late swaraj calls for urgent un reform \n",
            "Predicted summary:  un swaraj is un chief sushma swaraj\n",
            "\n",
            "\n",
            "Review: responding report claiming times caught republic tv journalist arnab goswami alleged times using methods manipulating system according goswami times increased viewership employing method claimed times tying cable networks network \n",
            "Original summary: arnab says times now system to raise viewership \n",
            "Predicted summary:  arnab goswami is the word of arnab goswami\n",
            "\n",
            "\n",
            "Review: jet airways crew helped saving man life collapsed suffering heart attack onboard mumbai kolkata flight recently man suffered attack hour departure following crew rushed aid flight taken back mumbai proper medical treatment crew lauded quick decision making \n",
            "Original summary: jet airways crew help man suffering heart attack onboard \n",
            "Predicted summary:  jet airways dies after heart attack on train\n",
            "\n",
            "\n",
            "Review: us president donald trump called aides stupid people phone call vladimir putin russian president electoral victory earlier year new york times reported trump reportedly made remark russian president told aides tried prevent call happening \n",
            "Original summary: trump told putin some of his aides are stupid people report \n",
            "Predicted summary:  trump calls putin over call to putin\n",
            "\n",
            "\n",
            "Review: india suffered first defeat asian cup 2019 losing 0 2 hosts uae abu dhabi thursday india currently placed second group three points goal difference one uae top four points india play last group match monday bahrain \n",
            "Original summary: hosts uae hand india their first defeat of asian cup 2019 \n",
            "Predicted summary:  india beat iran to reach fifa wc after cup win in cup\n",
            "\n",
            "\n",
            "Review: days former jammu kashmir chief minister mehbooba mufti accused encroaching upon democratic space governor satya pal malik said make political parties happy added said good relations claimed political agenda pursue state \n",
            "Original summary: i am not here to make political parties happy j k governor \n",
            "Predicted summary:  j k cm should be a political party chief\n",
            "\n",
            "\n",
            "Review: cctv footage maharashtra court shows sheena bora murder accused indrani mukerjea taking bag man return day fallen ill reports quoting officials said mukerjea found semi conscious prison cell returning court day hospitalised hospital doctors revealed overdosed medicines \n",
            "Original summary: court cctv shows indrani take bag from man day she fell ill \n",
            "Predicted summary:  indrani indrani robbed in jail after indrani assaulting him\n",
            "\n",
            "\n",
            "Review: technology giant ibm lost 9 billion â¹58 000 crore market capitalisation wednesday intraday trade ibm reported fall revenue 20th consecutive quarter saw shares slide 5 following billionaire warren buffett berkshire hathaway holding company stake ibm also lost around 770 million â¹4 900 crore wednesday \n",
            "Original summary: ibm gets 000 crore wiped off from valuation in a day \n",
            "Predicted summary:  ibm loses 9 000 crore in market cap in 2016\n",
            "\n",
            "\n",
            "Review: finance minister arun jaitley tuesday said assembly results bearing 2019 lok sabha polls although bjp leadership cadres pause analyse results take corrective steps stating results expected lines added one mislead victory defeat one person \n",
            "Original summary: bjp will take steps before 2019 polls jaitley \n",
            "Predicted summary:  nitish kumar will be in 2019 polls arun jaitley\n",
            "\n",
            "\n",
            "Review: india lone individual olympic gold medalist abhinav bindra written letter sports minister vijay goel seeking creation emergency helpline contingency fund athletes comes abhinav tweeted case para athlete kanchanmala pande reportedly forced borrow money berlin competing para swimming championships \n",
            "Original summary: create emergency helpline fund for athletes bindra \n",
            "Predicted summary:  sports minister seeks to sports minister\n",
            "\n",
            "\n",
            "Review: south korean carmaker hyundai recalled nearly 88 000 old cars us identifying electrical short brake system abs could cause engine compartment fires also said chances module overheating causing fire even cars turned recall affects certain 2006 manufactured 2006 2011 \n",
            "Original summary: hyundai recalls nearly 88 000 cars in us over fire risk \n",
            "Predicted summary:  nissan recalls cars over faulty cars in us\n",
            "\n",
            "\n",
            "Review: asked whether makers upcoming film 'the accidental prime minister' would comply special screening congress anupam kher said special screening congress maharashtra youth congress announced allow film screened demand prior screening met \n",
            "Original summary: no special screening for cong anupam on 'the accidental ' \n",
            "Predicted summary:  'the accidental ' pm to congress on 'the accidental '\n",
            "\n",
            "\n",
            "Review: danish actress brigitte nielsen got married 39 year old italian tv producer 2006 given birth daughter fifth child age 54 overjoyed welcome beautiful daughter lives read official statement married fifth time four sons previous relationships \n",
            "Original summary: actress gives birth to daughter at 54 \n",
            "Predicted summary:  actress marries her daughter in india\n",
            "\n",
            "\n",
            "Review: world bank senior director devarajan refuted us president donald trumpâs description india tariff king india tariff king certainly find data devarajan said trump accused india imposing tremendously high tariffs added india wanted trade deal us keep happy \n",
            "Original summary: india not a king' world bank official on trump remarks \n",
            "Predicted summary:  trump slams trump for calling india a trade\n",
            "\n",
            "\n",
            "Review: westminster magistrates' court sentenced man three months prison posting horrifying pictures grenfell tower victim facebook man pleaded guilty two counts sending offending indecent obscene matter public communications network least 58 people earlier missing presumed dead disaster \n",
            "Original summary: man jailed for posting images of london fire victim on fb \n",
            "Predicted summary:  man jailed for killing man who fb post fb post fb post\n",
            "\n",
            "\n"
          ],
          "name": "stdout"
        }
      ]
    },
    {
      "cell_type": "code",
      "metadata": {
        "id": "JYi-Fsy1juFt",
        "colab": {
          "base_uri": "https://localhost:8080/"
        },
        "outputId": "a9b19c15-141c-4d73-8d55-83e58f09aac2"
      },
      "source": [
        "!pip install sumeval"
      ],
      "execution_count": null,
      "outputs": [
        {
          "output_type": "stream",
          "text": [
            "Collecting sumeval\n",
            "\u001b[?25l  Downloading https://files.pythonhosted.org/packages/e6/87/bfc0f9397b9421305863edfdd2dbea637e47204976cb5473535c856338f4/sumeval-0.2.2.tar.gz (80kB)\n",
            "\u001b[K     |████████████████████████████████| 81kB 3.9MB/s \n",
            "\u001b[?25hRequirement already satisfied: plac>=0.9.6 in /usr/local/lib/python3.7/dist-packages (from sumeval) (1.1.3)\n",
            "Collecting sacrebleu>=1.3.2\n",
            "\u001b[?25l  Downloading https://files.pythonhosted.org/packages/7e/57/0c7ca4e31a126189dab99c19951910bd081dea5bbd25f24b77107750eae7/sacrebleu-1.5.1-py3-none-any.whl (54kB)\n",
            "\u001b[K     |████████████████████████████████| 61kB 5.4MB/s \n",
            "\u001b[?25hCollecting portalocker==2.0.0\n",
            "  Downloading https://files.pythonhosted.org/packages/89/a6/3814b7107e0788040870e8825eebf214d72166adf656ba7d4bf14759a06a/portalocker-2.0.0-py2.py3-none-any.whl\n",
            "Building wheels for collected packages: sumeval\n",
            "  Building wheel for sumeval (setup.py) ... \u001b[?25l\u001b[?25hdone\n",
            "  Created wheel for sumeval: filename=sumeval-0.2.2-cp37-none-any.whl size=54536 sha256=14c9ff7cc47ba6b5f1f22b3e6f1ac4b571b8edc00da25f00967fd4924778f82a\n",
            "  Stored in directory: /root/.cache/pip/wheels/7b/6f/57/19ceecab21445c88f3c565735fa1887b4cd18d340c972eb445\n",
            "Successfully built sumeval\n",
            "Installing collected packages: portalocker, sacrebleu, sumeval\n",
            "Successfully installed portalocker-2.0.0 sacrebleu-1.5.1 sumeval-0.2.2\n"
          ],
          "name": "stdout"
        }
      ]
    },
    {
      "cell_type": "code",
      "metadata": {
        "id": "pXFrCcSkS_gp"
      },
      "source": [
        "from sumeval.metrics.rouge import RougeCalculator"
      ],
      "execution_count": null,
      "outputs": []
    },
    {
      "cell_type": "code",
      "metadata": {
        "colab": {
          "base_uri": "https://localhost:8080/"
        },
        "id": "Le_2iV4lTN6-",
        "outputId": "81506785-916f-4936-ade2-a7fed194ec23"
      },
      "source": [
        "predictions = []\n",
        "reference=[]\n",
        "\n",
        "for i in range(0,50):\n",
        "    print(\"Review:\",seq2text(x_tr[i]))\n",
        "    origsum = seq2summary(y_tr[i])\n",
        "    reference.append(origsum)\n",
        "    predsum = decode_sequence(x_tr[i].reshape(1,max_text_len))\n",
        "    predictions.append(predsum)\n",
        "#    print(\"Original summary:\",seq2summary(y_tr[i]))\n",
        "#    print(\"Predicted summary:\",decode_sequence(x_tr[i].reshape(1,max_text_len)))\n",
        "#    print(\"\\n\")"
      ],
      "execution_count": null,
      "outputs": [
        {
          "output_type": "stream",
          "text": [
            "Review: reacting fake news death 95 year old mdh spices owner gulati said feels young many people called enquire express love revealed company executive vice president rajendra kumar appealed public fall prey shocking baseless news \n",
            "Review: japan based scientists found cockroaches help disperse seeds forest herb species perform photosynthesis scientists examined eating herb fruit found pellet featured average three seeds fruit attract birds mammals whereas cockroaches fed spread seeds forest floor scientists observed \n",
            "Review: former cricketer virender sehwag called harmanpreet kaur 171 run innings australia women world cup semi final innings lifetime cricketers also tweeted innings rohit sharma posting brutal power serious hitting anil kumble tweeted serious batting knock \n",
            "Review: 50 india installed power capacity formed non fossil fuels like renewables nuclear hydroelectric power plants 2027 according government third national electricity plan coal currently accounts 60 india energy capacity india total renewable capacity surpass coal based capacity 2024 according plan \n",
            "Review: university california researchers built brain tweet interface claim figure song bird going sing fraction second used silicon electrodes measure electrical made predictions using machine learning similar approach could fuel advancements human thought text interface said \n",
            "Review: american online file sharing platform dropbox entered agreement acquire electronic signature startup 230 million cash deal expected close first quarter 2019 founded joseph us based startup also offers digital electronic fax solutions manage business transactions \n",
            "Review: scoring first time 2018 fifa world cup argentine captain lionel messi said knew god us would leave us remember ever suffered much stake huge release us added messi argentina 2 1 nigeria \n",
            "Review: us senate wednesday passed bill waiving sanctions india buying russian arms bill called national defence authorisation act 2019 sent president donald trump approval earlier defence minister nirmala sitharaman said india purchase russian 400 air defence systems despite us sanctions military transactions russia \n",
            "Review: around 4 000 cases registered till november year hyderabad traffic police minors parents vehicle owners letting unlicensed minors drive city far 42 persons including minors parents convicted court hyderabad traffic police also convicted around 5 000 people year drunken driving \n",
            "Review: european union monday agreed restore political relations levels thailand three years putting hold protest coup thai military bloc said developments thailand including adoption new constitution announcement hold elections next year meant appropriate resume ties \n",
            "Review: india captain virat kohli named india valuable celebrity brand second year row duff phelps' latest celebrity brand valuation report kohli brand value rose 18 170 9 million â¹1 200 crore 2018 actress deepika padukone replaced shah rukh khan second valuable celebrity list \n",
            "Review: tunisia goalkeeper allegedly faked injury let teammates break ramadan fast side pre world cup friendly match turkey break play players seen eating dates drinking water energy drinks continuing play reports claim players understanding fake injury \n",
            "Review: veteran singer lata mangeshkar said truly disappointing hear comedian kapil sharma show longer going telecast brought much happiness laughter every home added lata said wishes kapil quick recovery hopes show returns soon \n",
            "Review: india second largest services firm infosys saturday announced divest stake israeli startup cloudendure around 15 3 million â¹110 crore bengaluru based company picked minority stake startup 4 million 2015 cloudendure provides cloud based disaster recovery services solutions help large companies move applications cloud \n",
            "Review: us federal judge friday ordered president donald trump administration fully restore 'dreamers' program protects immigrants brought country illegally children deportation judge said administration must also start accepting new applications program trump scrapped program september last year \n",
            "Review: andhra pradesh chief minister n chandrababu naidu friday said google government facilitate gram panchayats internet access installing 25 000 wi fi hotspots december 2018 2016 google installed public wi fi networks 100 railway stations working expand project many 400 stations 2018 end \n",
            "Review: former team india chief selector sandeep patil slammed bcci new fitness criteria saying find absurd player dropped failing yo yo test picked squad also find absurd wrong trainer decide matters trainer become selector 61 year old added \n",
            "Review: jammu kashmir 22 year old athlete hamid aziz ran non stop srinagar covering distance 110 km 10 45 hours hamid previous non stop running record 60 km distance run march year hamid also plans run 450 km 2018 srinagar leh seven days \n",
            "Review: people believe halloween celebrated october 31 originates celtic festival celebrated towards end harvest season believed barrier spirit living world thinnest time later christian religion halloween came called eve \n",
            "Review: us technology giant google agreed store data payment service google pay india mandated rbi company ceo sundar pichai reportedly conveyed minister ravi shankar prasad recent visit us google however sought time till end december comply regulation reports said \n",
            "Review: sri lankan cricket fans witnessed team nine wicket loss india first odi held sri lankan team bus following match around 50 fans shouted slogans booed players forcing security personnel step according reports sri lankan players held 30 minutes \n",
            "Review: slamming delhi government decision compensate family ex army man committed suicide delhi hc said setting trend commit suicide get â¹1 crore compensation questioned need employment also provided man family committed suicide one rank one pension issue \n",
            "Review: apple reportedly planning combine ios macos apps next year developers able design apps adjust touch input iphone ipad mouse trackpad input mac reports added notably ios app store redesigned year mac app store seen change since 2014 \n",
            "Review: referring recent ravindra gaikwad air india row shiv sena tuesday said become fashion hold politicians responsible everything surprising media gave much importance gaikwad episode made even pakistan look party stated mouthpiece 'saamana' \n",
            "Review: supreme court friday ruled chief justice india master roster first among equals court said cji power assign cases ruling comes court rejected former law minister shanti bhushan plea said collegium consulted set roster cases \n",
            "Review: speaking issue body shaming sonakshi sinha said i've answering questions weight loss long become matters look work many people reach added sonakshi said always projected strong body image \n",
            "Review: expressing concern 2016 aadhaar law saying gave uidai excessive powers supreme court said aadhaar issuing body could ask people blood samples dna testing tomorrow aadhaar act uidai ask biological attributes individual five judge bench held 25 daily hearings petitions challenging aadhaar validity since january \n",
            "Review: speaking divorce petition filed elder brother tej pratap yadav rjd leader tejashwi yadav said talk public adding family matter capable resolving within family tejashwi said meanwhile tej said come back home unless parents accept decision divorce \n",
            "Review: barcelona football star lionel messi wife antonella roccuzzo confirmed expecting third child roccuzzo posted photo instagram messi two sons thiago mateo touching belly captioned family 5 messi married roccuzzo june 30 year hometown rosario \n",
            "Review: creator indian tv show pal singh appointed new president film television institute india ftii society chairman governing council singh replace former ftii president anupam kher announced october stepping due busy schedule singh previously vice chairman ftii \n",
            "Review: veteran politician nd tiwari indian serve cm two states uttar pradesh uttarakhand passed away 93rd birthday thursday delhi tiwari bedridden year suffering brain kidney failure also served minister external affairs late rajiv gandhi cabinet \n",
            "Review: actor amitabh bachchan saturday said reliance industries founder dhirubhai ambani offered help went bankrupt 1990s politely refused offer slowly god grace started get work helped clear debts bachchan said also recalled dhirubhai saying boy fallen got \n",
            "Review: bjp mp brij bhushan sharan singh compared congress president rahul gandhi dog' rahul gandhi slammed pm narendra modi â¹11 000 crore pnb scam saying dogs bark elephant keeps walking prime minister modi serving country whoever wants bark bark said \n",
            "Review: woman united states' new jersey fell open sidewalk access door looking phone thursday officials said 67 year old woman fell six feet stairs suffered serious injuries video incident shows paramedics firefighters taking away stretcher \n",
            "Review: karnataka bjp mla patil yatnal thursday said would ordered police shoot intellectuals liberals union home minister people live country use facilities pay tax raise slogans indian army said kargil vijay diwas event \n",
            "Review: external affairs minister sushma swaraj saturday called urgent reform united nations un adding must begin today tomorrow could late said collapse un remains ineffective india repeatedly called reforms un security council unsc achieving expansion membership \n",
            "Review: responding report claiming times caught republic tv journalist arnab goswami alleged times using methods manipulating system according goswami times increased viewership employing method claimed times tying cable networks network \n",
            "Review: jet airways crew helped saving man life collapsed suffering heart attack onboard mumbai kolkata flight recently man suffered attack hour departure following crew rushed aid flight taken back mumbai proper medical treatment crew lauded quick decision making \n",
            "Review: us president donald trump called aides stupid people phone call vladimir putin russian president electoral victory earlier year new york times reported trump reportedly made remark russian president told aides tried prevent call happening \n",
            "Review: india suffered first defeat asian cup 2019 losing 0 2 hosts uae abu dhabi thursday india currently placed second group three points goal difference one uae top four points india play last group match monday bahrain \n",
            "Review: days former jammu kashmir chief minister mehbooba mufti accused encroaching upon democratic space governor satya pal malik said make political parties happy added said good relations claimed political agenda pursue state \n",
            "Review: cctv footage maharashtra court shows sheena bora murder accused indrani mukerjea taking bag man return day fallen ill reports quoting officials said mukerjea found semi conscious prison cell returning court day hospitalised hospital doctors revealed overdosed medicines \n",
            "Review: technology giant ibm lost 9 billion â¹58 000 crore market capitalisation wednesday intraday trade ibm reported fall revenue 20th consecutive quarter saw shares slide 5 following billionaire warren buffett berkshire hathaway holding company stake ibm also lost around 770 million â¹4 900 crore wednesday \n",
            "Review: finance minister arun jaitley tuesday said assembly results bearing 2019 lok sabha polls although bjp leadership cadres pause analyse results take corrective steps stating results expected lines added one mislead victory defeat one person \n",
            "Review: india lone individual olympic gold medalist abhinav bindra written letter sports minister vijay goel seeking creation emergency helpline contingency fund athletes comes abhinav tweeted case para athlete kanchanmala pande reportedly forced borrow money berlin competing para swimming championships \n",
            "Review: south korean carmaker hyundai recalled nearly 88 000 old cars us identifying electrical short brake system abs could cause engine compartment fires also said chances module overheating causing fire even cars turned recall affects certain 2006 manufactured 2006 2011 \n",
            "Review: asked whether makers upcoming film 'the accidental prime minister' would comply special screening congress anupam kher said special screening congress maharashtra youth congress announced allow film screened demand prior screening met \n",
            "Review: danish actress brigitte nielsen got married 39 year old italian tv producer 2006 given birth daughter fifth child age 54 overjoyed welcome beautiful daughter lives read official statement married fifth time four sons previous relationships \n",
            "Review: world bank senior director devarajan refuted us president donald trumpâs description india tariff king india tariff king certainly find data devarajan said trump accused india imposing tremendously high tariffs added india wanted trade deal us keep happy \n",
            "Review: westminster magistrates' court sentenced man three months prison posting horrifying pictures grenfell tower victim facebook man pleaded guilty two counts sending offending indecent obscene matter public communications network least 58 people earlier missing presumed dead disaster \n"
          ],
          "name": "stdout"
        }
      ]
    },
    {
      "cell_type": "code",
      "metadata": {
        "colab": {
          "base_uri": "https://localhost:8080/"
        },
        "id": "ioX9oS7pUHAO",
        "outputId": "bee8dc91-318c-4c49-c2b2-1d8f43119583"
      },
      "source": [
        "rouge = RougeCalculator(stopwords=True, lang=\"en\")\n",
        "Rouge_1 = []\n",
        "Rouge_2 = []\n",
        "Rouge_l = []\n",
        "\n",
        "for i in range(len(predictions)):\n",
        "\n",
        "    rouge_1 = rouge.rouge_n(\n",
        "    summary=predictions[i],\n",
        "    references=reference[i],\n",
        "    n=1)\n",
        "    Rouge_1.append(rouge_1)\n",
        " \n",
        " \n",
        " ## rogue_2\n",
        "\n",
        "    rouge_2 = rouge.rouge_n(\n",
        "    summary=predictions[i],\n",
        "    references=reference[i],\n",
        "    n=2)\n",
        "    Rouge_2.append(rouge_2)\n",
        " ## rogue_l\n",
        "\n",
        "    rouge_l = rouge.rouge_l(\n",
        "    summary=predictions[i],\n",
        "    references=reference[i])\n",
        "    Rouge_l.append(rouge_l)\n",
        "\n",
        "print(\"ROUGE-1: {}, ROUGE-2: {}, ROUGE-L: {}\".format(np.round(sum(Rouge_1)/len(Rouge_1),3),\n",
        " np.round(sum(Rouge_2)/len(Rouge_2),3),\n",
        " np.round(sum(Rouge_l)/len(Rouge_l),3)\n",
        "))"
      ],
      "execution_count": null,
      "outputs": [
        {
          "output_type": "stream",
          "text": [
            "ROUGE-1: 0.312, ROUGE-2: 0.079, ROUGE-L: 0.299\n"
          ],
          "name": "stdout"
        }
      ]
    },
    {
      "cell_type": "code",
      "metadata": {
        "colab": {
          "base_uri": "https://localhost:8080/"
        },
        "id": "lK3aelGKUEnc",
        "outputId": "e74d3b2f-b782-4b76-c2b8-11b61ba6ca1f"
      },
      "source": [
        "#Blue Score\n",
        "\n",
        "from nltk.translate.bleu_score import sentence_bleu\n",
        "from nltk.translate.bleu_score import corpus_bleu\n",
        "\n",
        "score = sentence_bleu(reference[10], predictions[10])\n",
        "#corpus_bleu(reference, predictions)\n",
        "print(score)"
      ],
      "execution_count": null,
      "outputs": [
        {
          "output_type": "stream",
          "text": [
            "0.8024468307724723\n"
          ],
          "name": "stdout"
        }
      ]
    }
  ]
}